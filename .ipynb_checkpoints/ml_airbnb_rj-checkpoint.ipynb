{
 "cells": [
  {
   "cell_type": "markdown",
   "metadata": {},
   "source": [
    "<p> <img src=\"LOGO.png\"  align=\"midle\"></p>\n",
    "\n",
    "**Data Science**<br>\n",
    "\n",
    "*profmauricioeloy@gmail.com | mauricioeloy@usp.br.<br>*"
   ]
  },
  {
   "cell_type": "markdown",
   "metadata": {
    "ExecuteTime": {
     "end_time": "2021-03-23T02:45:00.249551Z",
     "start_time": "2021-03-23T02:45:00.239616Z"
    }
   },
   "source": [
    "**Sumário:**\n",
    "\n",
    "\n",
    "* [1. Introdução](#1)\n",
    "    * [1.1 Formulação do Problema](#1.1)\n",
    "    * [1.2 Bibliotecas e Utilitários](#1.2)\n",
    "    * [1.3 Carregando Dados](#1.3)\n",
    "* [2. Análise Exploratória de Dados (EDA)](#2)\n",
    "    * [2.1 Dataprep - Automatic EDA](#2.1)\n",
    "* [3. Pré-processamento de Dados](#3)\n",
    "    * [3.1 Tratamento NaN + Duplicados](#3.1)\n",
    "        * [3.1.1 Listings](#3.1.1)\n",
    "    * [3.2 Geração da Base Unificada](#3.2)\n",
    "        * [3.2.1 Criação da base geral](#3.2.1)\n",
    "    * [3.3 Feature Engineering](#3.3)\n",
    "        * [3.3.1 Feature Creation](#3.3.1)\n",
    "            * [3.3.1.1 Variáveis Dummies](#3.3.1.1)\n",
    "        * [3.3.2 Feature Selection](#3.3.2)\n",
    "* [4. Seleção do Modelo e Avaliação](#4) \n",
    "    * [4.1 ](#4.1)\n",
    "    * [4.2 ](#4.2)\n",
    "    * [4.3 Avaliação do Modelos)](#4.3)\n",
    "        * [Métricas Utilizadas](#4.3.1)\n",
    "        * [Comparativo dos modelos](#4.3.2)"
   ]
  },
  {
   "cell_type": "markdown",
   "metadata": {},
   "source": [
    "<a id=\"1\"></a>\n",
    "<h1 style=\"background-color:orange;font-family:newtimeroman;font-size:300%;text-align:center;border-radius: 15px 50px;\">Introdução</h1>"
   ]
  },
  {
   "cell_type": "markdown",
   "metadata": {},
   "source": [
    "<a id=\"1.1\"></a>\n",
    "<h2 style=\"background-color:orange;font-family:newtimeroman;font-size:200%;text-align:center;border-radius: 15px 50px;\">Formulação do Problema</h2>"
   ]
  },
  {
   "cell_type": "markdown",
   "metadata": {},
   "source": [
    "Fazer uma análise exploratória para avaliar a consistência dos dados e identificar possíveis variáveis que impactam sua variável resposta.\n",
    "\n",
    "Para posteriormente realizar a previsão do preço da estadia (feature ‘price’)"
   ]
  },
  {
   "cell_type": "markdown",
   "metadata": {},
   "source": [
    "<a id=\"1.2\"></a>\n",
    "<h2 style=\"background-color:orange;font-family:newtimeroman;font-size:200%;text-align:center;border-radius: 15px 50px;\">Bibliotecas e Utilitários</h2>"
   ]
  },
  {
   "cell_type": "code",
   "execution_count": 10,
   "metadata": {
    "ExecuteTime": {
     "end_time": "2021-04-17T22:56:25.785587Z",
     "start_time": "2021-04-17T22:56:25.777111Z"
    }
   },
   "outputs": [],
   "source": [
    "#basicas\n",
    "import pandas as pd\n",
    "import numpy as np\n",
    "import matplotlib.pyplot as plt\n",
    "%matplotlib inline\n",
    "import seaborn as sns\n",
    "sns.set()\n",
    "\n",
    "import statsmodels.stats.api as sms\n",
    "\n",
    "\n",
    "#EDA\n",
    "# import pandas_profiling as pdpf\n",
    "\n",
    "import holidays\n",
    "\n",
    "from sklearn.model_selection import (train_test_split)#,RandomizedSearchCV)\n",
    "\n",
    "from sklearn.preprocessing import StandardScaler\n",
    "\n",
    "from sklearn.decomposition import PCA \n",
    "\n",
    "from sklearn.dummy import DummyRegressor\n",
    "\n",
    "from sklearn.linear_model import (LinearRegression, \n",
    "                                  SGDRegressor,\n",
    "                                 Lasso)\n",
    "\n",
    "from sklearn.svm import SVR\n",
    "\n",
    "from sklearn.neighbors import (KNeighborsRegressor)\n",
    "\n",
    "from sklearn.tree import (DecisionTreeRegressor)\n",
    "\n",
    "from sklearn.ensemble import (RandomForestRegressor, \n",
    "                              GradientBoostingRegressor,\n",
    "                             BaggingRegressor,\n",
    "                             ExtraTreesRegressor,\n",
    "                             AdaBoostRegressor,\n",
    "                             VotingRegressor)\n",
    "\n",
    "import xgboost\n",
    "\n",
    "from sklearn.metrics import (r2_score, mean_absolute_error, mean_squared_error, classification_report)\n",
    "\n",
    "# from scipy.stats import (uniform, randint)\n",
    "from scipy import stats"
   ]
  },
  {
   "cell_type": "markdown",
   "metadata": {},
   "source": [
    "<a id=\"1.3\"></a>\n",
    "<h2 style=\"background-color:orange;font-family:newtimeroman;font-size:200%;text-align:center;border-radius: 15px 50px;\">Carregando Dados</h2>\n",
    "\n",
    "Os dados utilizados são do Airbnb Rio de Janeiro, conforme fonte:\n",
    "http://insideairbnb.com/get-the-data.html.\n",
    "\n",
    "* listings.csv.gz: Dados detalhados de listagens para o Rio de Janeiro. \n",
    "    \n",
    "*  calendar.csv.gz: Dados detalhados do calendário para listagens no Rio de Janeiro."
   ]
  },
  {
   "cell_type": "code",
   "execution_count": 2,
   "metadata": {
    "ExecuteTime": {
     "end_time": "2021-04-17T15:52:00.522028Z",
     "start_time": "2021-04-17T15:51:59.461500Z"
    }
   },
   "outputs": [
    {
     "data": {
      "text/html": [
       "<div>\n",
       "<style scoped>\n",
       "    .dataframe tbody tr th:only-of-type {\n",
       "        vertical-align: middle;\n",
       "    }\n",
       "\n",
       "    .dataframe tbody tr th {\n",
       "        vertical-align: top;\n",
       "    }\n",
       "\n",
       "    .dataframe thead th {\n",
       "        text-align: right;\n",
       "    }\n",
       "</style>\n",
       "<table border=\"1\" class=\"dataframe\">\n",
       "  <thead>\n",
       "    <tr style=\"text-align: right;\">\n",
       "      <th></th>\n",
       "      <th>id</th>\n",
       "      <th>listing_url</th>\n",
       "      <th>scrape_id</th>\n",
       "      <th>last_scraped</th>\n",
       "      <th>name</th>\n",
       "      <th>description</th>\n",
       "      <th>neighborhood_overview</th>\n",
       "      <th>picture_url</th>\n",
       "      <th>host_id</th>\n",
       "      <th>host_url</th>\n",
       "      <th>...</th>\n",
       "      <th>review_scores_communication</th>\n",
       "      <th>review_scores_location</th>\n",
       "      <th>review_scores_value</th>\n",
       "      <th>license</th>\n",
       "      <th>instant_bookable</th>\n",
       "      <th>calculated_host_listings_count</th>\n",
       "      <th>calculated_host_listings_count_entire_homes</th>\n",
       "      <th>calculated_host_listings_count_private_rooms</th>\n",
       "      <th>calculated_host_listings_count_shared_rooms</th>\n",
       "      <th>reviews_per_month</th>\n",
       "    </tr>\n",
       "  </thead>\n",
       "  <tbody>\n",
       "    <tr>\n",
       "      <th>0</th>\n",
       "      <td>17878</td>\n",
       "      <td>https://www.airbnb.com/rooms/17878</td>\n",
       "      <td>20210222161029</td>\n",
       "      <td>2021-02-23</td>\n",
       "      <td>Very Nice 2Br in Copacabana w. balcony, fast WiFi</td>\n",
       "      <td>Discounts for long term stays. &lt;br /&gt;- Large b...</td>\n",
       "      <td>This is the one of the bests spots in Rio. Bec...</td>\n",
       "      <td>https://a0.muscache.com/pictures/65320518/3069...</td>\n",
       "      <td>68997</td>\n",
       "      <td>https://www.airbnb.com/users/show/68997</td>\n",
       "      <td>...</td>\n",
       "      <td>10.0</td>\n",
       "      <td>10.0</td>\n",
       "      <td>9.0</td>\n",
       "      <td>NaN</td>\n",
       "      <td>t</td>\n",
       "      <td>1</td>\n",
       "      <td>1</td>\n",
       "      <td>0</td>\n",
       "      <td>0</td>\n",
       "      <td>2.01</td>\n",
       "    </tr>\n",
       "    <tr>\n",
       "      <th>1</th>\n",
       "      <td>24480</td>\n",
       "      <td>https://www.airbnb.com/rooms/24480</td>\n",
       "      <td>20210222161029</td>\n",
       "      <td>2021-02-23</td>\n",
       "      <td>Nice and cozy near Ipanema Beach</td>\n",
       "      <td>My studio is located in the best  of Ipanema. ...</td>\n",
       "      <td>The beach, the lagoon, Ipanema is a great loca...</td>\n",
       "      <td>https://a0.muscache.com/pictures/11955612/b28e...</td>\n",
       "      <td>99249</td>\n",
       "      <td>https://www.airbnb.com/users/show/99249</td>\n",
       "      <td>...</td>\n",
       "      <td>10.0</td>\n",
       "      <td>10.0</td>\n",
       "      <td>9.0</td>\n",
       "      <td>NaN</td>\n",
       "      <td>f</td>\n",
       "      <td>1</td>\n",
       "      <td>1</td>\n",
       "      <td>0</td>\n",
       "      <td>0</td>\n",
       "      <td>0.67</td>\n",
       "    </tr>\n",
       "    <tr>\n",
       "      <th>2</th>\n",
       "      <td>25026</td>\n",
       "      <td>https://www.airbnb.com/rooms/25026</td>\n",
       "      <td>20210222161029</td>\n",
       "      <td>2021-02-23</td>\n",
       "      <td>Beautiful Modern Decorated Studio in Copa</td>\n",
       "      <td>Our apartment is a little gem, everyone loves ...</td>\n",
       "      <td>Copacabana is a lively neighborhood and the ap...</td>\n",
       "      <td>https://a0.muscache.com/pictures/3003965/68ebb...</td>\n",
       "      <td>3746246</td>\n",
       "      <td>https://www.airbnb.com/users/show/3746246</td>\n",
       "      <td>...</td>\n",
       "      <td>10.0</td>\n",
       "      <td>10.0</td>\n",
       "      <td>9.0</td>\n",
       "      <td>NaN</td>\n",
       "      <td>f</td>\n",
       "      <td>11</td>\n",
       "      <td>11</td>\n",
       "      <td>0</td>\n",
       "      <td>0</td>\n",
       "      <td>1.82</td>\n",
       "    </tr>\n",
       "    <tr>\n",
       "      <th>3</th>\n",
       "      <td>35636</td>\n",
       "      <td>https://www.airbnb.com/rooms/35636</td>\n",
       "      <td>20210222161029</td>\n",
       "      <td>2021-02-24</td>\n",
       "      <td>Cosy flat close to Ipanema beach</td>\n",
       "      <td>This cosy apartment  is just a few steps away ...</td>\n",
       "      <td>The  apartment street is very quiet and safe ....</td>\n",
       "      <td>https://a0.muscache.com/pictures/20009355/38b6...</td>\n",
       "      <td>153232</td>\n",
       "      <td>https://www.airbnb.com/users/show/153232</td>\n",
       "      <td>...</td>\n",
       "      <td>10.0</td>\n",
       "      <td>10.0</td>\n",
       "      <td>9.0</td>\n",
       "      <td>NaN</td>\n",
       "      <td>f</td>\n",
       "      <td>1</td>\n",
       "      <td>1</td>\n",
       "      <td>0</td>\n",
       "      <td>0</td>\n",
       "      <td>2.02</td>\n",
       "    </tr>\n",
       "    <tr>\n",
       "      <th>4</th>\n",
       "      <td>35764</td>\n",
       "      <td>https://www.airbnb.com/rooms/35764</td>\n",
       "      <td>20210222161029</td>\n",
       "      <td>2021-02-23</td>\n",
       "      <td>COPACABANA SEA BREEZE  -  RIO - 20 X Superhost</td>\n",
       "      <td>Our newly renovated studio is located in the b...</td>\n",
       "      <td>Our guests will experience living with a local...</td>\n",
       "      <td>https://a0.muscache.com/pictures/23782972/1d3e...</td>\n",
       "      <td>153691</td>\n",
       "      <td>https://www.airbnb.com/users/show/153691</td>\n",
       "      <td>...</td>\n",
       "      <td>10.0</td>\n",
       "      <td>10.0</td>\n",
       "      <td>10.0</td>\n",
       "      <td>NaN</td>\n",
       "      <td>f</td>\n",
       "      <td>1</td>\n",
       "      <td>1</td>\n",
       "      <td>0</td>\n",
       "      <td>0</td>\n",
       "      <td>2.79</td>\n",
       "    </tr>\n",
       "  </tbody>\n",
       "</table>\n",
       "<p>5 rows × 74 columns</p>\n",
       "</div>"
      ],
      "text/plain": [
       "      id                         listing_url       scrape_id last_scraped  \\\n",
       "0  17878  https://www.airbnb.com/rooms/17878  20210222161029   2021-02-23   \n",
       "1  24480  https://www.airbnb.com/rooms/24480  20210222161029   2021-02-23   \n",
       "2  25026  https://www.airbnb.com/rooms/25026  20210222161029   2021-02-23   \n",
       "3  35636  https://www.airbnb.com/rooms/35636  20210222161029   2021-02-24   \n",
       "4  35764  https://www.airbnb.com/rooms/35764  20210222161029   2021-02-23   \n",
       "\n",
       "                                                name  \\\n",
       "0  Very Nice 2Br in Copacabana w. balcony, fast WiFi   \n",
       "1                   Nice and cozy near Ipanema Beach   \n",
       "2          Beautiful Modern Decorated Studio in Copa   \n",
       "3                   Cosy flat close to Ipanema beach   \n",
       "4     COPACABANA SEA BREEZE  -  RIO - 20 X Superhost   \n",
       "\n",
       "                                         description  \\\n",
       "0  Discounts for long term stays. <br />- Large b...   \n",
       "1  My studio is located in the best  of Ipanema. ...   \n",
       "2  Our apartment is a little gem, everyone loves ...   \n",
       "3  This cosy apartment  is just a few steps away ...   \n",
       "4  Our newly renovated studio is located in the b...   \n",
       "\n",
       "                               neighborhood_overview  \\\n",
       "0  This is the one of the bests spots in Rio. Bec...   \n",
       "1  The beach, the lagoon, Ipanema is a great loca...   \n",
       "2  Copacabana is a lively neighborhood and the ap...   \n",
       "3  The  apartment street is very quiet and safe ....   \n",
       "4  Our guests will experience living with a local...   \n",
       "\n",
       "                                         picture_url  host_id  \\\n",
       "0  https://a0.muscache.com/pictures/65320518/3069...    68997   \n",
       "1  https://a0.muscache.com/pictures/11955612/b28e...    99249   \n",
       "2  https://a0.muscache.com/pictures/3003965/68ebb...  3746246   \n",
       "3  https://a0.muscache.com/pictures/20009355/38b6...   153232   \n",
       "4  https://a0.muscache.com/pictures/23782972/1d3e...   153691   \n",
       "\n",
       "                                    host_url  ... review_scores_communication  \\\n",
       "0    https://www.airbnb.com/users/show/68997  ...                        10.0   \n",
       "1    https://www.airbnb.com/users/show/99249  ...                        10.0   \n",
       "2  https://www.airbnb.com/users/show/3746246  ...                        10.0   \n",
       "3   https://www.airbnb.com/users/show/153232  ...                        10.0   \n",
       "4   https://www.airbnb.com/users/show/153691  ...                        10.0   \n",
       "\n",
       "  review_scores_location review_scores_value license instant_bookable  \\\n",
       "0                   10.0                 9.0     NaN                t   \n",
       "1                   10.0                 9.0     NaN                f   \n",
       "2                   10.0                 9.0     NaN                f   \n",
       "3                   10.0                 9.0     NaN                f   \n",
       "4                   10.0                10.0     NaN                f   \n",
       "\n",
       "  calculated_host_listings_count calculated_host_listings_count_entire_homes  \\\n",
       "0                              1                                           1   \n",
       "1                              1                                           1   \n",
       "2                             11                                          11   \n",
       "3                              1                                           1   \n",
       "4                              1                                           1   \n",
       "\n",
       "  calculated_host_listings_count_private_rooms  \\\n",
       "0                                            0   \n",
       "1                                            0   \n",
       "2                                            0   \n",
       "3                                            0   \n",
       "4                                            0   \n",
       "\n",
       "  calculated_host_listings_count_shared_rooms reviews_per_month  \n",
       "0                                           0              2.01  \n",
       "1                                           0              0.67  \n",
       "2                                           0              1.82  \n",
       "3                                           0              2.02  \n",
       "4                                           0              2.79  \n",
       "\n",
       "[5 rows x 74 columns]"
      ]
     },
     "execution_count": 2,
     "metadata": {},
     "output_type": "execute_result"
    }
   ],
   "source": [
    "listings= pd.read_csv('../airbnb/data/listings.csv.gz')\n",
    "listings.head()"
   ]
  },
  {
   "cell_type": "code",
   "execution_count": 3,
   "metadata": {
    "ExecuteTime": {
     "end_time": "2021-04-17T15:52:00.587019Z",
     "start_time": "2021-04-17T15:52:00.524520Z"
    }
   },
   "outputs": [
    {
     "name": "stdout",
     "output_type": "stream",
     "text": [
      "<class 'pandas.core.frame.DataFrame'>\n",
      "RangeIndex: 26615 entries, 0 to 26614\n",
      "Data columns (total 74 columns):\n",
      " #   Column                                        Non-Null Count  Dtype  \n",
      "---  ------                                        --------------  -----  \n",
      " 0   id                                            26615 non-null  int64  \n",
      " 1   listing_url                                   26615 non-null  object \n",
      " 2   scrape_id                                     26615 non-null  int64  \n",
      " 3   last_scraped                                  26615 non-null  object \n",
      " 4   name                                          26586 non-null  object \n",
      " 5   description                                   25160 non-null  object \n",
      " 6   neighborhood_overview                         14314 non-null  object \n",
      " 7   picture_url                                   26615 non-null  object \n",
      " 8   host_id                                       26615 non-null  int64  \n",
      " 9   host_url                                      26615 non-null  object \n",
      " 10  host_name                                     26591 non-null  object \n",
      " 11  host_since                                    26591 non-null  object \n",
      " 12  host_location                                 26508 non-null  object \n",
      " 13  host_about                                    12895 non-null  object \n",
      " 14  host_response_time                            18599 non-null  object \n",
      " 15  host_response_rate                            18599 non-null  object \n",
      " 16  host_acceptance_rate                          17074 non-null  object \n",
      " 17  host_is_superhost                             26591 non-null  object \n",
      " 18  host_thumbnail_url                            26591 non-null  object \n",
      " 19  host_picture_url                              26591 non-null  object \n",
      " 20  host_neighbourhood                            15344 non-null  object \n",
      " 21  host_listings_count                           26591 non-null  float64\n",
      " 22  host_total_listings_count                     26591 non-null  float64\n",
      " 23  host_verifications                            26615 non-null  object \n",
      " 24  host_has_profile_pic                          26591 non-null  object \n",
      " 25  host_identity_verified                        26591 non-null  object \n",
      " 26  neighbourhood                                 14314 non-null  object \n",
      " 27  neighbourhood_cleansed                        26615 non-null  object \n",
      " 28  neighbourhood_group_cleansed                  0 non-null      float64\n",
      " 29  latitude                                      26615 non-null  float64\n",
      " 30  longitude                                     26615 non-null  float64\n",
      " 31  property_type                                 26615 non-null  object \n",
      " 32  room_type                                     26615 non-null  object \n",
      " 33  accommodates                                  26615 non-null  int64  \n",
      " 34  bathrooms                                     0 non-null      float64\n",
      " 35  bathrooms_text                                26543 non-null  object \n",
      " 36  bedrooms                                      24869 non-null  float64\n",
      " 37  beds                                          26363 non-null  float64\n",
      " 38  amenities                                     26615 non-null  object \n",
      " 39  price                                         26615 non-null  object \n",
      " 40  minimum_nights                                26615 non-null  int64  \n",
      " 41  maximum_nights                                26615 non-null  int64  \n",
      " 42  minimum_minimum_nights                        26531 non-null  float64\n",
      " 43  maximum_minimum_nights                        26531 non-null  float64\n",
      " 44  minimum_maximum_nights                        26531 non-null  float64\n",
      " 45  maximum_maximum_nights                        26531 non-null  float64\n",
      " 46  minimum_nights_avg_ntm                        26531 non-null  float64\n",
      " 47  maximum_nights_avg_ntm                        26531 non-null  float64\n",
      " 48  calendar_updated                              0 non-null      float64\n",
      " 49  has_availability                              26615 non-null  object \n",
      " 50  availability_30                               26615 non-null  int64  \n",
      " 51  availability_60                               26615 non-null  int64  \n",
      " 52  availability_90                               26615 non-null  int64  \n",
      " 53  availability_365                              26615 non-null  int64  \n",
      " 54  calendar_last_scraped                         26615 non-null  object \n",
      " 55  number_of_reviews                             26615 non-null  int64  \n",
      " 56  number_of_reviews_ltm                         26615 non-null  int64  \n",
      " 57  number_of_reviews_l30d                        26615 non-null  int64  \n",
      " 58  first_review                                  16657 non-null  object \n",
      " 59  last_review                                   16657 non-null  object \n",
      " 60  review_scores_rating                          16118 non-null  float64\n",
      " 61  review_scores_accuracy                        16104 non-null  float64\n",
      " 62  review_scores_cleanliness                     16107 non-null  float64\n",
      " 63  review_scores_checkin                         16106 non-null  float64\n",
      " 64  review_scores_communication                   16110 non-null  float64\n",
      " 65  review_scores_location                        16106 non-null  float64\n",
      " 66  review_scores_value                           16108 non-null  float64\n",
      " 67  license                                       0 non-null      float64\n",
      " 68  instant_bookable                              26615 non-null  object \n",
      " 69  calculated_host_listings_count                26615 non-null  int64  \n",
      " 70  calculated_host_listings_count_entire_homes   26615 non-null  int64  \n",
      " 71  calculated_host_listings_count_private_rooms  26615 non-null  int64  \n",
      " 72  calculated_host_listings_count_shared_rooms   26615 non-null  int64  \n",
      " 73  reviews_per_month                             16657 non-null  float64\n",
      "dtypes: float64(24), int64(17), object(33)\n",
      "memory usage: 15.0+ MB\n"
     ]
    }
   ],
   "source": [
    "listings.info()"
   ]
  },
  {
   "cell_type": "code",
   "execution_count": 4,
   "metadata": {
    "ExecuteTime": {
     "end_time": "2021-04-17T15:52:00.648365Z",
     "start_time": "2021-04-17T15:52:00.589490Z"
    }
   },
   "outputs": [
    {
     "data": {
      "text/plain": [
       "id                                                 0\n",
       "listing_url                                        0\n",
       "scrape_id                                          0\n",
       "last_scraped                                       0\n",
       "name                                              29\n",
       "                                                ... \n",
       "calculated_host_listings_count                     0\n",
       "calculated_host_listings_count_entire_homes        0\n",
       "calculated_host_listings_count_private_rooms       0\n",
       "calculated_host_listings_count_shared_rooms        0\n",
       "reviews_per_month                               9958\n",
       "Length: 74, dtype: int64"
      ]
     },
     "execution_count": 4,
     "metadata": {},
     "output_type": "execute_result"
    }
   ],
   "source": [
    "listings.isnull().sum()"
   ]
  },
  {
   "cell_type": "code",
   "execution_count": 5,
   "metadata": {
    "ExecuteTime": {
     "end_time": "2021-04-17T15:52:00.885724Z",
     "start_time": "2021-04-17T15:52:00.649979Z"
    }
   },
   "outputs": [
    {
     "data": {
      "text/plain": [
       "0"
      ]
     },
     "execution_count": 5,
     "metadata": {},
     "output_type": "execute_result"
    }
   ],
   "source": [
    "listings.duplicated().sum()"
   ]
  },
  {
   "cell_type": "code",
   "execution_count": 6,
   "metadata": {
    "ExecuteTime": {
     "end_time": "2021-04-17T15:52:07.667748Z",
     "start_time": "2021-04-17T15:52:00.887400Z"
    }
   },
   "outputs": [
    {
     "data": {
      "text/html": [
       "<div>\n",
       "<style scoped>\n",
       "    .dataframe tbody tr th:only-of-type {\n",
       "        vertical-align: middle;\n",
       "    }\n",
       "\n",
       "    .dataframe tbody tr th {\n",
       "        vertical-align: top;\n",
       "    }\n",
       "\n",
       "    .dataframe thead th {\n",
       "        text-align: right;\n",
       "    }\n",
       "</style>\n",
       "<table border=\"1\" class=\"dataframe\">\n",
       "  <thead>\n",
       "    <tr style=\"text-align: right;\">\n",
       "      <th></th>\n",
       "      <th>listing_id</th>\n",
       "      <th>date</th>\n",
       "      <th>available</th>\n",
       "      <th>price</th>\n",
       "      <th>adjusted_price</th>\n",
       "      <th>minimum_nights</th>\n",
       "      <th>maximum_nights</th>\n",
       "    </tr>\n",
       "  </thead>\n",
       "  <tbody>\n",
       "    <tr>\n",
       "      <th>0</th>\n",
       "      <td>45766287</td>\n",
       "      <td>2021-02-23</td>\n",
       "      <td>f</td>\n",
       "      <td>$150.00</td>\n",
       "      <td>$150.00</td>\n",
       "      <td>2.0</td>\n",
       "      <td>1125.0</td>\n",
       "    </tr>\n",
       "    <tr>\n",
       "      <th>1</th>\n",
       "      <td>45764740</td>\n",
       "      <td>2021-02-24</td>\n",
       "      <td>f</td>\n",
       "      <td>$100.00</td>\n",
       "      <td>$100.00</td>\n",
       "      <td>1.0</td>\n",
       "      <td>4.0</td>\n",
       "    </tr>\n",
       "    <tr>\n",
       "      <th>2</th>\n",
       "      <td>45764740</td>\n",
       "      <td>2021-02-25</td>\n",
       "      <td>t</td>\n",
       "      <td>$100.00</td>\n",
       "      <td>$100.00</td>\n",
       "      <td>1.0</td>\n",
       "      <td>4.0</td>\n",
       "    </tr>\n",
       "    <tr>\n",
       "      <th>3</th>\n",
       "      <td>45764740</td>\n",
       "      <td>2021-02-26</td>\n",
       "      <td>t</td>\n",
       "      <td>$100.00</td>\n",
       "      <td>$100.00</td>\n",
       "      <td>1.0</td>\n",
       "      <td>4.0</td>\n",
       "    </tr>\n",
       "    <tr>\n",
       "      <th>4</th>\n",
       "      <td>45764740</td>\n",
       "      <td>2021-02-27</td>\n",
       "      <td>t</td>\n",
       "      <td>$100.00</td>\n",
       "      <td>$100.00</td>\n",
       "      <td>1.0</td>\n",
       "      <td>4.0</td>\n",
       "    </tr>\n",
       "  </tbody>\n",
       "</table>\n",
       "</div>"
      ],
      "text/plain": [
       "   listing_id        date available    price adjusted_price  minimum_nights  \\\n",
       "0    45766287  2021-02-23         f  $150.00        $150.00             2.0   \n",
       "1    45764740  2021-02-24         f  $100.00        $100.00             1.0   \n",
       "2    45764740  2021-02-25         t  $100.00        $100.00             1.0   \n",
       "3    45764740  2021-02-26         t  $100.00        $100.00             1.0   \n",
       "4    45764740  2021-02-27         t  $100.00        $100.00             1.0   \n",
       "\n",
       "   maximum_nights  \n",
       "0          1125.0  \n",
       "1             4.0  \n",
       "2             4.0  \n",
       "3             4.0  \n",
       "4             4.0  "
      ]
     },
     "execution_count": 6,
     "metadata": {},
     "output_type": "execute_result"
    }
   ],
   "source": [
    "calendar = pd.read_csv('../airbnb/data/calendar.csv.gz')\n",
    "calendar.head()"
   ]
  },
  {
   "cell_type": "code",
   "execution_count": 7,
   "metadata": {
    "ExecuteTime": {
     "end_time": "2021-04-17T15:52:07.676701Z",
     "start_time": "2021-04-17T15:52:07.669527Z"
    }
   },
   "outputs": [
    {
     "name": "stdout",
     "output_type": "stream",
     "text": [
      "<class 'pandas.core.frame.DataFrame'>\n",
      "RangeIndex: 9685126 entries, 0 to 9685125\n",
      "Data columns (total 7 columns):\n",
      " #   Column          Dtype  \n",
      "---  ------          -----  \n",
      " 0   listing_id      int64  \n",
      " 1   date            object \n",
      " 2   available       object \n",
      " 3   price           object \n",
      " 4   adjusted_price  object \n",
      " 5   minimum_nights  float64\n",
      " 6   maximum_nights  float64\n",
      "dtypes: float64(2), int64(1), object(4)\n",
      "memory usage: 517.2+ MB\n"
     ]
    }
   ],
   "source": [
    "calendar.info()"
   ]
  },
  {
   "cell_type": "code",
   "execution_count": 8,
   "metadata": {
    "ExecuteTime": {
     "end_time": "2021-04-17T15:52:09.077609Z",
     "start_time": "2021-04-17T15:52:07.678448Z"
    }
   },
   "outputs": [
    {
     "data": {
      "text/plain": [
       "listing_id           0\n",
       "date                 0\n",
       "available            0\n",
       "price              177\n",
       "adjusted_price     177\n",
       "minimum_nights    5587\n",
       "maximum_nights    5587\n",
       "dtype: int64"
      ]
     },
     "execution_count": 8,
     "metadata": {},
     "output_type": "execute_result"
    }
   ],
   "source": [
    "calendar.isnull().sum()"
   ]
  },
  {
   "cell_type": "code",
   "execution_count": 9,
   "metadata": {
    "ExecuteTime": {
     "end_time": "2021-04-17T15:52:13.964918Z",
     "start_time": "2021-04-17T15:52:09.079273Z"
    }
   },
   "outputs": [
    {
     "data": {
      "text/plain": [
       "0"
      ]
     },
     "execution_count": 9,
     "metadata": {},
     "output_type": "execute_result"
    }
   ],
   "source": [
    "calendar.duplicated().sum()"
   ]
  },
  {
   "cell_type": "markdown",
   "metadata": {},
   "source": [
    "<a id=\"2\"></a>\n",
    "<h1 style=\"background-color:orange;font-family:newtimeroman;font-size:300%;text-align:center;border-radius: 15px 50px;\">Análise Exploratória de Dados (EDA)</h1>"
   ]
  },
  {
   "cell_type": "markdown",
   "metadata": {},
   "source": [
    "<a id=\"2.1\"></a>\n",
    "<h2 style=\"background-color:orange;font-family:newtimeroman;font-size:200%;text-align:center;border-radius: 15px 50px;\">Automatic EDA -  Pandas Profiling</h2>"
   ]
  },
  {
   "cell_type": "code",
   "execution_count": 11,
   "metadata": {
    "ExecuteTime": {
     "end_time": "2021-04-16T19:33:29.045514Z",
     "start_time": "2021-04-16T19:27:36.145654Z"
    }
   },
   "outputs": [
    {
     "data": {
      "application/vnd.jupyter.widget-view+json": {
       "model_id": "79e3cc85fdbd427baa753d6e0aace488",
       "version_major": 2,
       "version_minor": 0
      },
      "text/plain": [
       "HBox(children=(HTML(value='Summarize dataset'), FloatProgress(value=0.0, max=87.0), HTML(value='')))"
      ]
     },
     "metadata": {},
     "output_type": "display_data"
    },
    {
     "name": "stdout",
     "output_type": "stream",
     "text": [
      "\n"
     ]
    },
    {
     "data": {
      "application/vnd.jupyter.widget-view+json": {
       "model_id": "45e48f5ff6564f8192fac5b110453b1f",
       "version_major": 2,
       "version_minor": 0
      },
      "text/plain": [
       "HBox(children=(HTML(value='Generate report structure'), FloatProgress(value=0.0, max=1.0), HTML(value='')))"
      ]
     },
     "metadata": {},
     "output_type": "display_data"
    },
    {
     "name": "stdout",
     "output_type": "stream",
     "text": [
      "\n"
     ]
    },
    {
     "data": {
      "application/vnd.jupyter.widget-view+json": {
       "model_id": "bc15f03abda342c7935c76b163f1a7b3",
       "version_major": 2,
       "version_minor": 0
      },
      "text/plain": [
       "HBox(children=(HTML(value='Render HTML'), FloatProgress(value=0.0, max=1.0), HTML(value='')))"
      ]
     },
     "metadata": {},
     "output_type": "display_data"
    },
    {
     "name": "stdout",
     "output_type": "stream",
     "text": [
      "\n"
     ]
    },
    {
     "name": "stderr",
     "output_type": "stream",
     "text": [
      "/home/mauricioeloy/anaconda3/lib/python3.8/site-packages/pandas_profiling/profile_report.py:283: UserWarning: Extension  not supported. For now we assume .html was intended. To remove this warning, please use .html or .json.\n",
      "  warnings.warn(\n"
     ]
    },
    {
     "data": {
      "application/vnd.jupyter.widget-view+json": {
       "model_id": "05b69974ec584900be6179cb10ae2459",
       "version_major": 2,
       "version_minor": 0
      },
      "text/plain": [
       "HBox(children=(HTML(value='Export report to file'), FloatProgress(value=0.0, max=1.0), HTML(value='')))"
      ]
     },
     "metadata": {},
     "output_type": "display_data"
    },
    {
     "name": "stdout",
     "output_type": "stream",
     "text": [
      "\n"
     ]
    }
   ],
   "source": [
    "listings_rep = pdpf.ProfileReport(listings, title=\"Report Listings\")\n",
    "listings_rep.to_file(output_file='../airbnb/reports/listings_rep_base')"
   ]
  },
  {
   "cell_type": "markdown",
   "metadata": {},
   "source": [
    "<a id=\"3\"></a>\n",
    "<h1 style=\"background-color:orange;font-family:newtimeroman;font-size:300%;text-align:center;border-radius: 15px 50px;\">Pré-processamento de Dados</h1>"
   ]
  },
  {
   "cell_type": "markdown",
   "metadata": {},
   "source": [
    "<a id=\"3.1\"></a>\n",
    "<h2 style=\"background-color:orange;font-family:newtimeroman;font-size:200%;text-align:center;border-radius: 15px 50px;\">'listings'</h2>"
   ]
  },
  {
   "cell_type": "markdown",
   "metadata": {},
   "source": [
    "<a id=\"3.1.1\"></a>\n",
    "<h3 style=\"background-color:orange;font-family:newtimeroman;font-size:150%;text-align:center;border-radius: 15px 50px;\">Exclusão de algumas variáveis</h3>"
   ]
  },
  {
   "cell_type": "code",
   "execution_count": 10,
   "metadata": {
    "ExecuteTime": {
     "end_time": "2021-04-17T15:52:14.014873Z",
     "start_time": "2021-04-17T15:52:13.967619Z"
    }
   },
   "outputs": [],
   "source": [
    "vars_drop_listings = ['listing_url', \n",
    "                        'scrape_id', \n",
    "                        'last_scraped',\n",
    "                        'name', \n",
    "                        'description',\n",
    "                        'neighborhood_overview', \n",
    "                        'picture_url', \n",
    "                        'host_id', \n",
    "                        'host_url', \n",
    "                        'host_name',\n",
    "                        'host_location', \n",
    "                        'host_about', \n",
    "                        'host_response_time', \n",
    "                        'host_acceptance_rate',\n",
    "                        'host_thumbnail_url', \n",
    "                        'host_picture_url', \n",
    "                        'host_total_listings_count','neighbourhood',\n",
    "                        'neighbourhood_group_cleansed', \n",
    "                        'latitude', \n",
    "                        'longitude',\n",
    "                        'bathrooms', \n",
    "                        'minimum_minimum_nights', \n",
    "                        'maximum_minimum_nights', \n",
    "                        'minimum_maximum_nights',\n",
    "                        'maximum_maximum_nights', \n",
    "                        'minimum_nights_avg_ntm', \n",
    "                        'maximum_nights_avg_ntm',\n",
    "                        'calendar_updated', \n",
    "                        'has_availability', \n",
    "                        'availability_30', \n",
    "                        'availability_60', \n",
    "                        'availability_90', \n",
    "                        'availability_365', \n",
    "                        'calendar_last_scraped', \n",
    "                        'number_of_reviews_ltm',\n",
    "                        'number_of_reviews_l30d', \n",
    "                        'first_review', 'last_review',\n",
    "                        'license',\n",
    "                        'calculated_host_listings_count_entire_homes', \n",
    "                        'calculated_host_listings_count_private_rooms', \n",
    "                        'calculated_host_listings_count_shared_rooms',\n",
    "                        'reviews_per_month', \n",
    "                        'host_neighbourhood', \n",
    "                        'neighbourhood_cleansed', \n",
    "                        'bathrooms_text']\n",
    "\n",
    "listings = listings.drop(columns=vars_drop_listings)\n",
    "\n",
    "listings = listings.dropna(subset = ['host_since', 'host_is_superhost', 'host_has_profile_pic',\n",
    "                                    'host_identity_verified', 'host_listings_count'])"
   ]
  },
  {
   "cell_type": "markdown",
   "metadata": {},
   "source": [
    "<a id=\"3.1.2\"></a>\n",
    "<h3 style=\"background-color:orange;font-family:newtimeroman;font-size:150%;text-align:center;border-radius: 15px 50px;\">host_since</h3>"
   ]
  },
  {
   "cell_type": "code",
   "execution_count": 11,
   "metadata": {
    "ExecuteTime": {
     "end_time": "2021-04-17T15:52:15.154240Z",
     "start_time": "2021-04-17T15:52:14.885611Z"
    }
   },
   "outputs": [],
   "source": [
    "#desmembrando a variável host_since em host_since_year\n",
    "def trans_host_since_year(l):\n",
    "    try:\n",
    "        host_since = int(l['host_since'].split('-')[0])\n",
    "    except:\n",
    "        host_since = np.nan\n",
    "    return host_since\n",
    "\n",
    "listings['host_since_year'] = listings.apply(lambda l: trans_host_since_year(l),axis=1)\n",
    "listings = listings.drop(columns = ['host_since'])"
   ]
  },
  {
   "cell_type": "markdown",
   "metadata": {},
   "source": [
    "<a id=\"3.1.3\"></a>\n",
    "<h3 style=\"background-color:orange;font-family:newtimeroman;font-size:150%;text-align:center;border-radius: 15px 50px;\">host_response_rate</h3>"
   ]
  },
  {
   "cell_type": "code",
   "execution_count": 12,
   "metadata": {
    "ExecuteTime": {
     "end_time": "2021-04-17T15:52:16.407150Z",
     "start_time": "2021-04-17T15:52:16.363470Z"
    }
   },
   "outputs": [],
   "source": [
    "# transformar a variável em numérica\n",
    "listings['host_response_rate_numeric'] = listings['host_response_rate'].astype(str)\n",
    "listings['host_response_rate_numeric'] = listings['host_response_rate_numeric'].str.\\\n",
    "                                        replace(\"%\", \"\").astype(\"float\")\n",
    "listings = listings.drop(columns = ['host_response_rate'])"
   ]
  },
  {
   "cell_type": "markdown",
   "metadata": {},
   "source": [
    "<a id=\"3.1.4\"></a>\n",
    "<h3 style=\"background-color:orange;font-family:newtimeroman;font-size:150%;text-align:center;border-radius: 15px 50px;\">property_type</h3>"
   ]
  },
  {
   "cell_type": "code",
   "execution_count": 13,
   "metadata": {
    "ExecuteTime": {
     "end_time": "2021-04-17T15:52:17.911172Z",
     "start_time": "2021-04-17T15:52:17.654914Z"
    }
   },
   "outputs": [],
   "source": [
    "#variavel com alta cardinalidade\n",
    "list_property_type = ['Entire apartment','Private room in apartment', \\\n",
    "                      'Entire condominium', 'Private room in house','Entire house']\n",
    "\n",
    "\n",
    "listings['property_type_mod'] = listings.apply(lambda l: (l['property_type']\\\n",
    "                                                    if (l['property_type'] in list_property_type)\\\n",
    "                                                    else 'Other values'), axis=1)\n",
    "listings = listings.drop(columns='property_type')"
   ]
  },
  {
   "cell_type": "markdown",
   "metadata": {},
   "source": [
    "<a id=\"3.1.5\"></a>\n",
    "<h3 style=\"background-color:orange;font-family:newtimeroman;font-size:150%;text-align:center;border-radius: 15px 50px;\">host_verifications | amenities</h3>"
   ]
  },
  {
   "cell_type": "code",
   "execution_count": 14,
   "metadata": {
    "ExecuteTime": {
     "end_time": "2021-04-17T15:52:19.325408Z",
     "start_time": "2021-04-17T15:52:19.318453Z"
    }
   },
   "outputs": [],
   "source": [
    "def get_val_from_list(row, column_name, value):\n",
    "    val = 0.0\n",
    "    try:\n",
    "        vals = row[column_name].replace('[', '').replace(\"'\", '').replace(\"]\", '').replace('\"', '').\\\n",
    "                                replace('{', '').replace('}', '').split(',')\n",
    "        if value in vals:\n",
    "            val = 1.0\n",
    "    except:\n",
    "        val = 0.0\n",
    "    return val\n",
    "\n",
    "def split_list_into_columns(df, column_name, max_dummies_num = 10):\n",
    "    \n",
    "    values_dict = {}\n",
    "\n",
    "    for unique_value in df[column_name].unique(): \n",
    "        for value in unique_value.replace('[', '').replace(\"'\", '').replace(\"]\", '').replace('\"', '').\\\n",
    "                                    replace('{', '').replace('}', '').split(','):\n",
    "            if value in values_dict:\n",
    "                values_dict[value] = values_dict[value] + 1\n",
    "            else:\n",
    "                values_dict[value] = 0\n",
    "                \n",
    "    values_sorted = sorted(values_dict.items(), key=lambda kv: kv[1], reverse = True)\n",
    "      \n",
    "    for value in values_sorted[: max_dummies_num]:\n",
    "        df[column_name + '_' + value[0]] = df.apply(lambda row: get_val_from_list(row, column_name,\\\n",
    "                                                                                  value[0]),axis=1)\n",
    "    return"
   ]
  },
  {
   "cell_type": "code",
   "execution_count": 15,
   "metadata": {
    "ExecuteTime": {
     "end_time": "2021-04-17T15:52:22.752576Z",
     "start_time": "2021-04-17T15:52:20.054729Z"
    }
   },
   "outputs": [],
   "source": [
    "split_list_into_columns(listings, 'host_verifications')\n",
    "listings = listings.drop(columns = ['host_verifications'])"
   ]
  },
  {
   "cell_type": "code",
   "execution_count": 16,
   "metadata": {
    "ExecuteTime": {
     "end_time": "2021-04-17T15:52:27.377586Z",
     "start_time": "2021-04-17T15:52:22.754364Z"
    }
   },
   "outputs": [],
   "source": [
    "split_list_into_columns(listings, 'amenities')\n",
    "listings = listings.drop(columns = ['amenities'])"
   ]
  },
  {
   "cell_type": "markdown",
   "metadata": {},
   "source": [
    "<a id=\"3.1.6\"></a>\n",
    "<h3 style=\"background-color:orange;font-family:newtimeroman;font-size:150%;text-align:center;border-radius: 15px 50px;\">Completando dados faltantes</h3>"
   ]
  },
  {
   "cell_type": "code",
   "execution_count": 17,
   "metadata": {
    "ExecuteTime": {
     "end_time": "2021-04-17T15:52:27.398480Z",
     "start_time": "2021-04-17T15:52:27.380036Z"
    }
   },
   "outputs": [
    {
     "data": {
      "text/plain": [
       "review_scores_accuracy                       10501\n",
       "review_scores_location                       10499\n",
       "review_scores_checkin                        10499\n",
       "review_scores_cleanliness                    10498\n",
       "review_scores_value                          10497\n",
       "review_scores_communication                  10495\n",
       "review_scores_rating                         10487\n",
       "host_response_rate_numeric                    7992\n",
       "bedrooms                                      1746\n",
       "beds                                           252\n",
       "amenities_ Hot water                             0\n",
       "number_of_reviews                                0\n",
       "minimum_nights                                   0\n",
       "maximum_nights                                   0\n",
       "calculated_host_listings_count                   0\n",
       "price                                            0\n",
       "accommodates                                     0\n",
       "room_type                                        0\n",
       "host_identity_verified                           0\n",
       "host_has_profile_pic                             0\n",
       "host_listings_count                              0\n",
       "host_is_superhost                                0\n",
       "instant_bookable                                 0\n",
       "host_since_year                                  0\n",
       "amenities_ Washer                                0\n",
       "host_verifications_ work_email                   0\n",
       "amenities_ Air conditioning                      0\n",
       "amenities_ Iron                                  0\n",
       "amenities_ Hangers                               0\n",
       "amenities_ Kitchen                               0\n",
       "amenities_ TV                                    0\n",
       "amenities_ Long term stays allowed               0\n",
       "amenities_ Essentials                            0\n",
       "amenities_ Wifi                                  0\n",
       "host_verifications_ identity_manual              0\n",
       "property_type_mod                                0\n",
       "host_verifications_ facebook                     0\n",
       "host_verifications_ selfie                       0\n",
       "host_verifications_ offline_government_id        0\n",
       "host_verifications_ jumio                        0\n",
       "host_verifications_ reviews                      0\n",
       "host_verifications_ phone                        0\n",
       "host_verifications_ government_id                0\n",
       "host_verifications_email                         0\n",
       "id                                               0\n",
       "dtype: int64"
      ]
     },
     "execution_count": 17,
     "metadata": {},
     "output_type": "execute_result"
    }
   ],
   "source": [
    "listings.isnull().sum().sort_values(ascending=False)"
   ]
  },
  {
   "cell_type": "code",
   "execution_count": 18,
   "metadata": {
    "ExecuteTime": {
     "end_time": "2021-04-17T15:52:27.414418Z",
     "start_time": "2021-04-17T15:52:27.400572Z"
    }
   },
   "outputs": [],
   "source": [
    "# corrigindo valores faltantes\n",
    "listings.fillna({'bedrooms': listings['bedrooms'].median(),\n",
    "                    'beds': listings['beds'].median(),\n",
    "                    'host_response_rate_numeric': listings['host_response_rate_numeric'].mean(),\n",
    "                    'review_scores_rating': listings['review_scores_rating'].mean(),\n",
    "                    'review_scores_accuracy': listings['review_scores_accuracy'].mean(),\n",
    "                    'review_scores_cleanliness': listings['review_scores_cleanliness'].mean(),\n",
    "                    'review_scores_checkin': listings['review_scores_checkin'].mean(),\n",
    "                    'review_scores_communication': listings['review_scores_communication'].mean(),\n",
    "                    'review_scores_location': listings['review_scores_location'].mean(),\n",
    "                    'review_scores_value': listings['review_scores_value'].mean()},\\\n",
    "                   inplace=True)"
   ]
  },
  {
   "cell_type": "markdown",
   "metadata": {},
   "source": [
    "<a id=\"3.1.7\"></a>\n",
    "<h3 style=\"background-color:orange;font-family:newtimeroman;font-size:150%;text-align:center;border-radius: 15px 50px;\">Label Encoding</h3>\n",
    "\n",
    "Sem o uso do `LabelEncoder()`"
   ]
  },
  {
   "cell_type": "code",
   "execution_count": 19,
   "metadata": {
    "ExecuteTime": {
     "end_time": "2021-04-17T15:52:27.434827Z",
     "start_time": "2021-04-17T15:52:27.416407Z"
    }
   },
   "outputs": [],
   "source": [
    "a_trocar = {'t': 1,\n",
    "            'f': 0}\n",
    "\n",
    "lista_trocar = ['host_is_superhost', \n",
    "                'host_has_profile_pic', \n",
    "                'host_identity_verified',\n",
    "                'instant_bookable']\n",
    "for troca in lista_trocar:\n",
    "    listings[troca] = listings[troca].map(a_trocar)"
   ]
  },
  {
   "cell_type": "markdown",
   "metadata": {},
   "source": [
    "<a id=\"3.1.8\"></a>\n",
    "<h3 style=\"background-color:orange;font-family:newtimeroman;font-size:150%;text-align:center;border-radius: 15px 50px;\">Eliminação de Outliers</h3>"
   ]
  },
  {
   "cell_type": "code",
   "execution_count": 20,
   "metadata": {
    "ExecuteTime": {
     "end_time": "2021-04-17T15:52:28.978391Z",
     "start_time": "2021-04-17T15:52:28.972702Z"
    }
   },
   "outputs": [],
   "source": [
    "#funcao auxiliar\n",
    "def elimina_outlier(df):\n",
    "    q1 = df.quantile(0.25)\n",
    "    q3 = df.quantile(0.75)\n",
    "    iqr = q3 - q1\n",
    "    df_mod = df[((df < (q1 - 1.5 * iqr)) | (df > (q3 + 1.5 * iqr))).any(axis=1)]\n",
    "    return df_mod"
   ]
  },
  {
   "cell_type": "code",
   "execution_count": 21,
   "metadata": {
    "ExecuteTime": {
     "end_time": "2021-04-17T15:52:29.734989Z",
     "start_time": "2021-04-17T15:52:29.629826Z"
    }
   },
   "outputs": [],
   "source": [
    "listings_mod = elimina_outlier(listings)"
   ]
  },
  {
   "cell_type": "code",
   "execution_count": 22,
   "metadata": {
    "ExecuteTime": {
     "end_time": "2021-04-17T15:52:30.414125Z",
     "start_time": "2021-04-17T15:52:30.407696Z"
    }
   },
   "outputs": [
    {
     "data": {
      "text/plain": [
       "0.9115866270542665"
      ]
     },
     "execution_count": 22,
     "metadata": {},
     "output_type": "execute_result"
    }
   ],
   "source": [
    "listings_mod.shape[0]/listings.shape[0]"
   ]
  },
  {
   "cell_type": "markdown",
   "metadata": {},
   "source": [
    "Verificação NaN e Duplicados"
   ]
  },
  {
   "cell_type": "code",
   "execution_count": 23,
   "metadata": {
    "ExecuteTime": {
     "end_time": "2021-04-17T15:52:31.227064Z",
     "start_time": "2021-04-17T15:52:31.214714Z"
    }
   },
   "outputs": [
    {
     "data": {
      "text/plain": [
       "0"
      ]
     },
     "execution_count": 23,
     "metadata": {},
     "output_type": "execute_result"
    }
   ],
   "source": [
    "listings_mod.isnull().sum().sum()"
   ]
  },
  {
   "cell_type": "code",
   "execution_count": 24,
   "metadata": {
    "ExecuteTime": {
     "end_time": "2021-04-17T15:52:31.741967Z",
     "start_time": "2021-04-17T15:52:31.705087Z"
    }
   },
   "outputs": [
    {
     "data": {
      "text/plain": [
       "0"
      ]
     },
     "execution_count": 24,
     "metadata": {},
     "output_type": "execute_result"
    }
   ],
   "source": [
    "listings_mod.duplicated().sum()"
   ]
  },
  {
   "cell_type": "markdown",
   "metadata": {},
   "source": [
    "<a id=\"3.2\"></a>\n",
    "<h2 style=\"background-color:orange;font-family:newtimeroman;font-size:200%;text-align:center;border-radius: 15px 50px;\">'calendar'</h2>"
   ]
  },
  {
   "cell_type": "markdown",
   "metadata": {},
   "source": [
    "<a id=\"3.2.1\"></a>\n",
    "<h3 style=\"background-color:orange;font-family:newtimeroman;font-size:150%;text-align:center;border-radius: 15px 50px;\">Exclusão de algumas variáveis</h3>"
   ]
  },
  {
   "cell_type": "code",
   "execution_count": 25,
   "metadata": {
    "ExecuteTime": {
     "end_time": "2021-04-17T15:52:33.764692Z",
     "start_time": "2021-04-17T15:52:33.591933Z"
    }
   },
   "outputs": [],
   "source": [
    "vars_drop_calendar = ['available',\n",
    "                     'adjusted_price',\n",
    "                      'minimum_nights',\n",
    "                      'maximum_nights']\n",
    "\n",
    "calendar = calendar.drop(columns=vars_drop_calendar)"
   ]
  },
  {
   "cell_type": "markdown",
   "metadata": {},
   "source": [
    "<a id=\"3.2.2\"></a>\n",
    "<h3 style=\"background-color:orange;font-family:newtimeroman;font-size:150%;text-align:center;border-radius: 15px 50px;\">price</h3>"
   ]
  },
  {
   "cell_type": "code",
   "execution_count": 26,
   "metadata": {
    "ExecuteTime": {
     "end_time": "2021-04-17T15:52:47.622861Z",
     "start_time": "2021-04-17T15:52:34.798077Z"
    }
   },
   "outputs": [],
   "source": [
    "# transformar a variável em numérica\n",
    "calendar = calendar.dropna(subset=['price'])\n",
    "calendar['price_ca'] = calendar['price'].astype(str)\n",
    "calendar['price_ca'] = calendar['price_ca'].str.replace(\"[$, ]\", \"\").astype(\"float\")\n",
    "calendar = calendar.drop(columns = ['price'])"
   ]
  },
  {
   "cell_type": "markdown",
   "metadata": {},
   "source": [
    "<a id=\"3.2.3\"></a>\n",
    "<h3 style=\"background-color:orange;font-family:newtimeroman;font-size:150%;text-align:center;border-radius: 15px 50px;\">date</h3>"
   ]
  },
  {
   "cell_type": "code",
   "execution_count": 27,
   "metadata": {
    "ExecuteTime": {
     "end_time": "2021-04-17T15:57:00.395380Z",
     "start_time": "2021-04-17T15:52:47.625597Z"
    }
   },
   "outputs": [],
   "source": [
    "#criando a variavel datetime\n",
    "calendar['date_datetime'] = pd.to_datetime(calendar['date'])\n",
    "\n",
    "#criando a variavel de feriados\n",
    "br_holidays = holidays.Brazil()\n",
    "calendar['holiday'] = calendar.apply(lambda l: str(l['date_datetime'] in br_holidays), axis=1)\n",
    "calendar['holiday'] = calendar['holiday'].map({'True': 1,'False': 0})\n",
    "\n",
    "#criando a variavel de final de semana\n",
    "calendar['weekday'] = calendar.apply(lambda l: l['date_datetime'].weekday(), axis=1)\n",
    "calendar = calendar.drop(columns = ['date_datetime'])"
   ]
  },
  {
   "cell_type": "code",
   "execution_count": 28,
   "metadata": {
    "ExecuteTime": {
     "end_time": "2021-04-17T15:59:48.646869Z",
     "start_time": "2021-04-17T15:57:00.397069Z"
    }
   },
   "outputs": [],
   "source": [
    "#desmembrando a variável date em duas variáveis: month e year\n",
    "calendar['month'] = calendar.apply(lambda l: int(l['date'].split('-')[1]), axis=1)\n",
    "calendar['year'] =  calendar.apply(lambda l: int(l['date'].split('-')[0]), axis=1)\n",
    "calendar = calendar.drop(columns = ['date'])"
   ]
  },
  {
   "cell_type": "markdown",
   "metadata": {},
   "source": [
    "Verificação NaN e Duplicados"
   ]
  },
  {
   "cell_type": "code",
   "execution_count": 29,
   "metadata": {
    "ExecuteTime": {
     "end_time": "2021-04-17T15:59:48.775632Z",
     "start_time": "2021-04-17T15:59:48.648664Z"
    }
   },
   "outputs": [
    {
     "data": {
      "text/plain": [
       "listing_id    0\n",
       "price_ca      0\n",
       "holiday       0\n",
       "weekday       0\n",
       "month         0\n",
       "year          0\n",
       "dtype: int64"
      ]
     },
     "execution_count": 29,
     "metadata": {},
     "output_type": "execute_result"
    }
   ],
   "source": [
    "calendar.isnull().sum()"
   ]
  },
  {
   "cell_type": "code",
   "execution_count": 30,
   "metadata": {
    "ExecuteTime": {
     "end_time": "2021-04-17T15:59:49.864566Z",
     "start_time": "2021-04-17T15:59:48.777413Z"
    }
   },
   "outputs": [
    {
     "data": {
      "text/plain": [
       "6869744"
      ]
     },
     "execution_count": 30,
     "metadata": {},
     "output_type": "execute_result"
    }
   ],
   "source": [
    "calendar.duplicated().sum()"
   ]
  },
  {
   "cell_type": "code",
   "execution_count": 31,
   "metadata": {
    "ExecuteTime": {
     "end_time": "2021-04-17T15:59:51.048497Z",
     "start_time": "2021-04-17T15:59:49.866712Z"
    }
   },
   "outputs": [],
   "source": [
    "calendar = calendar.drop_duplicates()"
   ]
  },
  {
   "cell_type": "markdown",
   "metadata": {},
   "source": [
    "<a id=\"3.2\"></a>\n",
    "<h2 style=\"background-color:orange;font-family:newtimeroman;font-size:200%;text-align:center;border-radius: 15px 50px;\">Merge entre 'calendar' e 'listings'</h2>"
   ]
  },
  {
   "cell_type": "code",
   "execution_count": 32,
   "metadata": {
    "ExecuteTime": {
     "end_time": "2021-04-17T15:59:53.761081Z",
     "start_time": "2021-04-17T15:59:51.050262Z"
    }
   },
   "outputs": [],
   "source": [
    "df_cl = pd.merge(calendar, (listings_mod.drop(columns = ['price'])),\\\n",
    "                 left_on='listing_id', right_on='id').drop(columns = ['id'])"
   ]
  },
  {
   "cell_type": "markdown",
   "metadata": {},
   "source": [
    "<a id=\"3.4\"></a>\n",
    "<h2 style=\"background-color:orange;font-family:newtimeroman;font-size:200%;text-align:center;border-radius: 15px 50px;\">Variáveis Dummie</h2>"
   ]
  },
  {
   "cell_type": "code",
   "execution_count": 33,
   "metadata": {
    "ExecuteTime": {
     "end_time": "2021-04-17T15:59:54.710931Z",
     "start_time": "2021-04-17T15:59:53.762995Z"
    }
   },
   "outputs": [],
   "source": [
    "df_cl = pd.get_dummies(df_cl,columns=['property_type_mod','room_type'])"
   ]
  },
  {
   "cell_type": "code",
   "execution_count": 34,
   "metadata": {
    "ExecuteTime": {
     "end_time": "2021-04-17T15:59:54.723498Z",
     "start_time": "2021-04-17T15:59:54.712397Z"
    }
   },
   "outputs": [
    {
     "data": {
      "text/html": [
       "<div>\n",
       "<style scoped>\n",
       "    .dataframe tbody tr th:only-of-type {\n",
       "        vertical-align: middle;\n",
       "    }\n",
       "\n",
       "    .dataframe tbody tr th {\n",
       "        vertical-align: top;\n",
       "    }\n",
       "\n",
       "    .dataframe thead th {\n",
       "        text-align: right;\n",
       "    }\n",
       "</style>\n",
       "<table border=\"1\" class=\"dataframe\">\n",
       "  <thead>\n",
       "    <tr style=\"text-align: right;\">\n",
       "      <th></th>\n",
       "      <th>0</th>\n",
       "    </tr>\n",
       "  </thead>\n",
       "  <tbody>\n",
       "    <tr>\n",
       "      <th>listing_id</th>\n",
       "      <td>45766287.0</td>\n",
       "    </tr>\n",
       "    <tr>\n",
       "      <th>price_ca</th>\n",
       "      <td>150.0</td>\n",
       "    </tr>\n",
       "    <tr>\n",
       "      <th>holiday</th>\n",
       "      <td>0.0</td>\n",
       "    </tr>\n",
       "    <tr>\n",
       "      <th>weekday</th>\n",
       "      <td>1.0</td>\n",
       "    </tr>\n",
       "    <tr>\n",
       "      <th>month</th>\n",
       "      <td>2.0</td>\n",
       "    </tr>\n",
       "    <tr>\n",
       "      <th>year</th>\n",
       "      <td>2021.0</td>\n",
       "    </tr>\n",
       "    <tr>\n",
       "      <th>host_is_superhost</th>\n",
       "      <td>0.0</td>\n",
       "    </tr>\n",
       "    <tr>\n",
       "      <th>host_listings_count</th>\n",
       "      <td>1.0</td>\n",
       "    </tr>\n",
       "    <tr>\n",
       "      <th>host_has_profile_pic</th>\n",
       "      <td>1.0</td>\n",
       "    </tr>\n",
       "    <tr>\n",
       "      <th>host_identity_verified</th>\n",
       "      <td>0.0</td>\n",
       "    </tr>\n",
       "    <tr>\n",
       "      <th>accommodates</th>\n",
       "      <td>4.0</td>\n",
       "    </tr>\n",
       "    <tr>\n",
       "      <th>bedrooms</th>\n",
       "      <td>1.0</td>\n",
       "    </tr>\n",
       "    <tr>\n",
       "      <th>beds</th>\n",
       "      <td>2.0</td>\n",
       "    </tr>\n",
       "    <tr>\n",
       "      <th>minimum_nights</th>\n",
       "      <td>2.0</td>\n",
       "    </tr>\n",
       "    <tr>\n",
       "      <th>maximum_nights</th>\n",
       "      <td>1125.0</td>\n",
       "    </tr>\n",
       "    <tr>\n",
       "      <th>number_of_reviews</th>\n",
       "      <td>10.0</td>\n",
       "    </tr>\n",
       "    <tr>\n",
       "      <th>review_scores_rating</th>\n",
       "      <td>100.0</td>\n",
       "    </tr>\n",
       "    <tr>\n",
       "      <th>review_scores_accuracy</th>\n",
       "      <td>10.0</td>\n",
       "    </tr>\n",
       "    <tr>\n",
       "      <th>review_scores_cleanliness</th>\n",
       "      <td>10.0</td>\n",
       "    </tr>\n",
       "    <tr>\n",
       "      <th>review_scores_checkin</th>\n",
       "      <td>10.0</td>\n",
       "    </tr>\n",
       "    <tr>\n",
       "      <th>review_scores_communication</th>\n",
       "      <td>10.0</td>\n",
       "    </tr>\n",
       "    <tr>\n",
       "      <th>review_scores_location</th>\n",
       "      <td>10.0</td>\n",
       "    </tr>\n",
       "    <tr>\n",
       "      <th>review_scores_value</th>\n",
       "      <td>10.0</td>\n",
       "    </tr>\n",
       "    <tr>\n",
       "      <th>instant_bookable</th>\n",
       "      <td>0.0</td>\n",
       "    </tr>\n",
       "    <tr>\n",
       "      <th>calculated_host_listings_count</th>\n",
       "      <td>1.0</td>\n",
       "    </tr>\n",
       "    <tr>\n",
       "      <th>host_since_year</th>\n",
       "      <td>2017.0</td>\n",
       "    </tr>\n",
       "    <tr>\n",
       "      <th>host_response_rate_numeric</th>\n",
       "      <td>100.0</td>\n",
       "    </tr>\n",
       "    <tr>\n",
       "      <th>host_verifications_email</th>\n",
       "      <td>0.0</td>\n",
       "    </tr>\n",
       "    <tr>\n",
       "      <th>host_verifications_ government_id</th>\n",
       "      <td>0.0</td>\n",
       "    </tr>\n",
       "    <tr>\n",
       "      <th>host_verifications_ phone</th>\n",
       "      <td>0.0</td>\n",
       "    </tr>\n",
       "    <tr>\n",
       "      <th>host_verifications_ reviews</th>\n",
       "      <td>0.0</td>\n",
       "    </tr>\n",
       "    <tr>\n",
       "      <th>host_verifications_ jumio</th>\n",
       "      <td>0.0</td>\n",
       "    </tr>\n",
       "    <tr>\n",
       "      <th>host_verifications_ offline_government_id</th>\n",
       "      <td>0.0</td>\n",
       "    </tr>\n",
       "    <tr>\n",
       "      <th>host_verifications_ selfie</th>\n",
       "      <td>0.0</td>\n",
       "    </tr>\n",
       "    <tr>\n",
       "      <th>host_verifications_ facebook</th>\n",
       "      <td>0.0</td>\n",
       "    </tr>\n",
       "    <tr>\n",
       "      <th>host_verifications_ identity_manual</th>\n",
       "      <td>0.0</td>\n",
       "    </tr>\n",
       "    <tr>\n",
       "      <th>host_verifications_ work_email</th>\n",
       "      <td>0.0</td>\n",
       "    </tr>\n",
       "    <tr>\n",
       "      <th>amenities_ Wifi</th>\n",
       "      <td>1.0</td>\n",
       "    </tr>\n",
       "    <tr>\n",
       "      <th>amenities_ Essentials</th>\n",
       "      <td>1.0</td>\n",
       "    </tr>\n",
       "    <tr>\n",
       "      <th>amenities_ Long term stays allowed</th>\n",
       "      <td>1.0</td>\n",
       "    </tr>\n",
       "    <tr>\n",
       "      <th>amenities_ TV</th>\n",
       "      <td>1.0</td>\n",
       "    </tr>\n",
       "    <tr>\n",
       "      <th>amenities_ Kitchen</th>\n",
       "      <td>1.0</td>\n",
       "    </tr>\n",
       "    <tr>\n",
       "      <th>amenities_ Hangers</th>\n",
       "      <td>1.0</td>\n",
       "    </tr>\n",
       "    <tr>\n",
       "      <th>amenities_ Iron</th>\n",
       "      <td>1.0</td>\n",
       "    </tr>\n",
       "    <tr>\n",
       "      <th>amenities_ Air conditioning</th>\n",
       "      <td>1.0</td>\n",
       "    </tr>\n",
       "    <tr>\n",
       "      <th>amenities_ Washer</th>\n",
       "      <td>0.0</td>\n",
       "    </tr>\n",
       "    <tr>\n",
       "      <th>amenities_ Hot water</th>\n",
       "      <td>1.0</td>\n",
       "    </tr>\n",
       "    <tr>\n",
       "      <th>property_type_mod_Entire apartment</th>\n",
       "      <td>1.0</td>\n",
       "    </tr>\n",
       "    <tr>\n",
       "      <th>property_type_mod_Entire condominium</th>\n",
       "      <td>0.0</td>\n",
       "    </tr>\n",
       "    <tr>\n",
       "      <th>property_type_mod_Entire house</th>\n",
       "      <td>0.0</td>\n",
       "    </tr>\n",
       "    <tr>\n",
       "      <th>property_type_mod_Other values</th>\n",
       "      <td>0.0</td>\n",
       "    </tr>\n",
       "    <tr>\n",
       "      <th>property_type_mod_Private room in apartment</th>\n",
       "      <td>0.0</td>\n",
       "    </tr>\n",
       "    <tr>\n",
       "      <th>property_type_mod_Private room in house</th>\n",
       "      <td>0.0</td>\n",
       "    </tr>\n",
       "    <tr>\n",
       "      <th>room_type_Entire home/apt</th>\n",
       "      <td>1.0</td>\n",
       "    </tr>\n",
       "    <tr>\n",
       "      <th>room_type_Hotel room</th>\n",
       "      <td>0.0</td>\n",
       "    </tr>\n",
       "    <tr>\n",
       "      <th>room_type_Private room</th>\n",
       "      <td>0.0</td>\n",
       "    </tr>\n",
       "    <tr>\n",
       "      <th>room_type_Shared room</th>\n",
       "      <td>0.0</td>\n",
       "    </tr>\n",
       "  </tbody>\n",
       "</table>\n",
       "</div>"
      ],
      "text/plain": [
       "                                                      0\n",
       "listing_id                                   45766287.0\n",
       "price_ca                                          150.0\n",
       "holiday                                             0.0\n",
       "weekday                                             1.0\n",
       "month                                               2.0\n",
       "year                                             2021.0\n",
       "host_is_superhost                                   0.0\n",
       "host_listings_count                                 1.0\n",
       "host_has_profile_pic                                1.0\n",
       "host_identity_verified                              0.0\n",
       "accommodates                                        4.0\n",
       "bedrooms                                            1.0\n",
       "beds                                                2.0\n",
       "minimum_nights                                      2.0\n",
       "maximum_nights                                   1125.0\n",
       "number_of_reviews                                  10.0\n",
       "review_scores_rating                              100.0\n",
       "review_scores_accuracy                             10.0\n",
       "review_scores_cleanliness                          10.0\n",
       "review_scores_checkin                              10.0\n",
       "review_scores_communication                        10.0\n",
       "review_scores_location                             10.0\n",
       "review_scores_value                                10.0\n",
       "instant_bookable                                    0.0\n",
       "calculated_host_listings_count                      1.0\n",
       "host_since_year                                  2017.0\n",
       "host_response_rate_numeric                        100.0\n",
       "host_verifications_email                            0.0\n",
       "host_verifications_ government_id                   0.0\n",
       "host_verifications_ phone                           0.0\n",
       "host_verifications_ reviews                         0.0\n",
       "host_verifications_ jumio                           0.0\n",
       "host_verifications_ offline_government_id           0.0\n",
       "host_verifications_ selfie                          0.0\n",
       "host_verifications_ facebook                        0.0\n",
       "host_verifications_ identity_manual                 0.0\n",
       "host_verifications_ work_email                      0.0\n",
       "amenities_ Wifi                                     1.0\n",
       "amenities_ Essentials                               1.0\n",
       "amenities_ Long term stays allowed                  1.0\n",
       "amenities_ TV                                       1.0\n",
       "amenities_ Kitchen                                  1.0\n",
       "amenities_ Hangers                                  1.0\n",
       "amenities_ Iron                                     1.0\n",
       "amenities_ Air conditioning                         1.0\n",
       "amenities_ Washer                                   0.0\n",
       "amenities_ Hot water                                1.0\n",
       "property_type_mod_Entire apartment                  1.0\n",
       "property_type_mod_Entire condominium                0.0\n",
       "property_type_mod_Entire house                      0.0\n",
       "property_type_mod_Other values                      0.0\n",
       "property_type_mod_Private room in apartment         0.0\n",
       "property_type_mod_Private room in house             0.0\n",
       "room_type_Entire home/apt                           1.0\n",
       "room_type_Hotel room                                0.0\n",
       "room_type_Private room                              0.0\n",
       "room_type_Shared room                               0.0"
      ]
     },
     "execution_count": 34,
     "metadata": {},
     "output_type": "execute_result"
    }
   ],
   "source": [
    "df_cl.head(1).T"
   ]
  },
  {
   "cell_type": "code",
   "execution_count": 35,
   "metadata": {
    "ExecuteTime": {
     "end_time": "2021-04-17T16:01:23.753883Z",
     "start_time": "2021-04-17T15:59:54.724977Z"
    }
   },
   "outputs": [],
   "source": [
    "df_cl.to_csv(r'../airbnb/data/df_final.csv', index=False)"
   ]
  },
  {
   "cell_type": "markdown",
   "metadata": {},
   "source": [
    "<a id=\"4\"></a>\n",
    "<h1 style=\"background-color:orange;font-family:newtimeroman;font-size:300%;text-align:center;border-radius: 15px 50px;\">Feature Importance</h1>"
   ]
  },
  {
   "cell_type": "markdown",
   "metadata": {},
   "source": [
    "<a id=\"4.2\"></a>\n",
    "<h2 style=\"background-color:orange;font-family:newtimeroman;font-size:200%;text-align:center;border-radius: 15px 50px;\">Separação dos conjuntos X e y</h2>"
   ]
  },
  {
   "cell_type": "code",
   "execution_count": 11,
   "metadata": {
    "ExecuteTime": {
     "end_time": "2021-04-17T22:56:41.829802Z",
     "start_time": "2021-04-17T22:56:32.721467Z"
    }
   },
   "outputs": [],
   "source": [
    "df_airbnb = pd.read_csv('../airbnb/data/df_final.csv')"
   ]
  },
  {
   "cell_type": "code",
   "execution_count": 12,
   "metadata": {
    "ExecuteTime": {
     "end_time": "2021-04-17T22:56:42.150498Z",
     "start_time": "2021-04-17T22:56:41.831766Z"
    }
   },
   "outputs": [
    {
     "name": "stdout",
     "output_type": "stream",
     "text": [
      "Shape X => (2568401, 55)\n"
     ]
    }
   ],
   "source": [
    "X = df_airbnb.drop(columns=['price_ca','listing_id'])\n",
    "y = df_airbnb['price_ca']\n",
    "print(\"Shape X =>\", X.shape)"
   ]
  },
  {
   "cell_type": "markdown",
   "metadata": {},
   "source": [
    "<a id=\"4.2\"></a>\n",
    "<h2 style=\"background-color:orange;font-family:newtimeroman;font-size:200%;text-align:center;border-radius: 15px 50px;\">Padronização do Dados</h2>"
   ]
  },
  {
   "cell_type": "code",
   "execution_count": 13,
   "metadata": {
    "ExecuteTime": {
     "end_time": "2021-04-17T22:56:48.629671Z",
     "start_time": "2021-04-17T22:56:45.122026Z"
    }
   },
   "outputs": [],
   "source": [
    "scaler = StandardScaler().fit(X)\n",
    "sX = scaler.transform(X)"
   ]
  },
  {
   "cell_type": "markdown",
   "metadata": {},
   "source": [
    "<a id=\"4.2\"></a>\n",
    "<h2 style=\"background-color:orange;font-family:newtimeroman;font-size:200%;text-align:center;border-radius: 15px 50px;\">Features Importantes</h2>"
   ]
  },
  {
   "cell_type": "markdown",
   "metadata": {},
   "source": [
    "<a id=\"3.2.2\"></a>\n",
    "<h3 style=\"background-color:orange;font-family:newtimeroman;font-size:150%;text-align:center;border-radius: 15px 50px;\">Análise de Componentes Principais</h3>"
   ]
  },
  {
   "cell_type": "markdown",
   "metadata": {},
   "source": [
    "<a id=\"3.2.2\"></a>\n",
    "<h4 style=\"background-color:orange;font-family:newtimeroman;font-size:120%;text-align:center;border-radius: 15px 50px;\">Número de componentes a ser utilizado</h4>"
   ]
  },
  {
   "cell_type": "code",
   "execution_count": 5,
   "metadata": {
    "ExecuteTime": {
     "end_time": "2021-04-17T19:12:12.758622Z",
     "start_time": "2021-04-17T19:12:03.255190Z"
    }
   },
   "outputs": [
    {
     "data": {
      "image/png": "[encoded data removed]",
      "text/plain": [
       "<Figure size 576x360 with 1 Axes>"
      ]
     },
     "metadata": {},
     "output_type": "display_data"
    }
   ],
   "source": [
    "pca = PCA(random_state=42).fit(sX)\n",
    "\n",
    "n_components_values = np.arange(1, len(X.columns) + 1)\n",
    "\n",
    "plt.figure(figsize=(8, 5))\n",
    "plt.plot(n_components_values, np.cumsum(pca.explained_variance_ratio_), 'ro-')\n",
    "plt.xlabel('componentes', fontsize=20)\n",
    "plt.ylabel('variancia acumulada', fontsize=20);\n",
    "plt.xticks(color='k', size=16)\n",
    "plt.yticks(color='k', size=16)\n",
    "plt.grid(True)\n",
    "plt.show(True)"
   ]
  },
  {
   "cell_type": "code",
   "execution_count": 6,
   "metadata": {
    "ExecuteTime": {
     "end_time": "2021-04-17T19:12:12.765200Z",
     "start_time": "2021-04-17T19:12:12.760487Z"
    }
   },
   "outputs": [
    {
     "data": {
      "text/plain": [
       "array([0.1 , 0.18, 0.25, 0.29, 0.33, 0.37, 0.4 , 0.43, 0.46, 0.48, 0.5 ,\n",
       "       0.52, 0.54, 0.56, 0.58, 0.6 , 0.62, 0.64, 0.66, 0.67, 0.69, 0.71,\n",
       "       0.73, 0.74, 0.76, 0.78, 0.79, 0.81, 0.82, 0.83, 0.85, 0.86, 0.87,\n",
       "       0.88, 0.89, 0.91, 0.92, 0.93, 0.94, 0.94, 0.95, 0.96, 0.97, 0.97,\n",
       "       0.98, 0.98, 0.99, 0.99, 0.99, 1.  , 1.  , 1.  , 1.  , 1.  , 1.  ])"
      ]
     },
     "execution_count": 6,
     "metadata": {},
     "output_type": "execute_result"
    }
   ],
   "source": [
    "np.round(pca.explained_variance_ratio_.cumsum(),2)"
   ]
  },
  {
   "cell_type": "markdown",
   "metadata": {
    "ExecuteTime": {
     "end_time": "2021-04-17T17:04:25.547648Z",
     "start_time": "2021-04-17T17:04:25.542692Z"
    }
   },
   "source": [
    "Conclusão: O número de componentes a ser utilizado será $36$"
   ]
  },
  {
   "cell_type": "code",
   "execution_count": 14,
   "metadata": {
    "ExecuteTime": {
     "end_time": "2021-04-17T22:57:22.723439Z",
     "start_time": "2021-04-17T22:56:50.295797Z"
    }
   },
   "outputs": [],
   "source": [
    "pca = PCA(random_state=42, n_components=36).fit(sX)"
   ]
  },
  {
   "cell_type": "markdown",
   "metadata": {},
   "source": [
    "<a id=\"3.2.2\"></a>\n",
    "<h4 style=\"background-color:orange;font-family:newtimeroman;font-size:120%;text-align:center;border-radius: 15px 50px;\">Importância dos atributos</h4>"
   ]
  },
  {
   "cell_type": "code",
   "execution_count": 8,
   "metadata": {
    "ExecuteTime": {
     "end_time": "2021-04-17T19:12:43.629074Z",
     "start_time": "2021-04-17T19:12:43.624652Z"
    }
   },
   "outputs": [
    {
     "data": {
      "text/plain": [
       "array([ 0.006,  0.   , -0.001,  0.002, -0.171, -0.03 , -0.03 , -0.296,\n",
       "       -0.142, -0.115, -0.099,  0.011, -0.001, -0.149, -0.141, -0.145,\n",
       "       -0.126, -0.13 , -0.134, -0.125, -0.111, -0.016, -0.075,  0.092,\n",
       "       -0.133, -0.111, -0.303, -0.098, -0.168, -0.254, -0.207, -0.194,\n",
       "       -0.01 , -0.186, -0.083, -0.091, -0.12 , -0.1  , -0.144, -0.153,\n",
       "       -0.154, -0.142, -0.075, -0.049, -0.163, -0.181, -0.03 , -0.015,\n",
       "        0.059,  0.16 ,  0.103, -0.234,  0.011,  0.215,  0.071])"
      ]
     },
     "execution_count": 8,
     "metadata": {},
     "output_type": "execute_result"
    }
   ],
   "source": [
    "np.round(pca.components_[0],3)"
   ]
  },
  {
   "cell_type": "code",
   "execution_count": 9,
   "metadata": {
    "ExecuteTime": {
     "end_time": "2021-04-17T19:12:45.166334Z",
     "start_time": "2021-04-17T19:12:43.631127Z"
    }
   },
   "outputs": [
    {
     "data": {
      "text/plain": [
       "<matplotlib.colorbar.Colorbar at 0x7ff408918970>"
      ]
     },
     "execution_count": 9,
     "metadata": {},
     "output_type": "execute_result"
    },
    {
     "data": {
      "image/png": "[encoded data removed]",
      "text/plain": [
       "<Figure size 1728x1296 with 2 Axes>"
      ]
     },
     "metadata": {},
     "output_type": "display_data"
    }
   ],
   "source": [
    "fig, ax = plt.subplots(figsize=(24, 18))\n",
    "plt.imshow(pca.components_.T, cmap=\"Spectral\", vmin=-1, vmax=1)\n",
    "plt.yticks(range(len(X.columns)), X.columns)\n",
    "plt.xticks(range(36), range(1, 37))\n",
    "plt.xlabel(\"Componentes\")\n",
    "plt.ylabel(\"Contribuição\")\n",
    "plt.colorbar()"
   ]
  },
  {
   "cell_type": "code",
   "execution_count": 15,
   "metadata": {
    "ExecuteTime": {
     "end_time": "2021-04-17T22:57:32.977952Z",
     "start_time": "2021-04-17T22:57:32.765207Z"
    }
   },
   "outputs": [
    {
     "name": "stderr",
     "output_type": "stream",
     "text": [
      "/home/mauricioeloy/anaconda3/lib/python3.8/site-packages/seaborn/_decorators.py:36: FutureWarning: Pass the following variable as a keyword arg: x. From version 0.12, the only valid positional argument will be `data`, and passing other arguments without an explicit keyword will result in an error or misinterpretation.\n",
      "  warnings.warn(\n"
     ]
    },
    {
     "data": {
      "text/plain": [
       "<AxesSubplot:>"
      ]
     },
     "execution_count": 15,
     "metadata": {},
     "output_type": "execute_result"
    },
    {
     "data": {
      "image/png": "[encoded data removed]",
      "text/plain": [
       "<Figure size 432x288 with 1 Axes>"
      ]
     },
     "metadata": {},
     "output_type": "display_data"
    }
   ],
   "source": [
    "pca_abs = np.abs(np.round(pca.components_[0],3))\n",
    "sns.boxplot(pca_abs)"
   ]
  },
  {
   "cell_type": "code",
   "execution_count": 17,
   "metadata": {
    "ExecuteTime": {
     "end_time": "2021-04-17T22:58:03.051941Z",
     "start_time": "2021-04-17T22:58:03.042184Z"
    }
   },
   "outputs": [
    {
     "data": {
      "text/plain": [
       "['review_scores_checkin',\n",
       " 'review_scores_cleanliness',\n",
       " 'review_scores_rating',\n",
       " 'review_scores_communication',\n",
       " 'host_verifications_ government_id',\n",
       " 'review_scores_location',\n",
       " 'review_scores_accuracy',\n",
       " 'host_verifications_ offline_government_id',\n",
       " 'room_type_Private room',\n",
       " 'bedrooms',\n",
       " 'host_verifications_ jumio',\n",
       " 'review_scores_value',\n",
       " 'host_identity_verified',\n",
       " 'property_type_mod_Entire apartment',\n",
       " 'accommodates',\n",
       " 'room_type_Entire home/apt',\n",
       " 'property_type_mod_Private room in apartment']"
      ]
     },
     "execution_count": 17,
     "metadata": {},
     "output_type": "execute_result"
    }
   ],
   "source": [
    "comps = pd.DataFrame(pca.components_, columns=X.columns)\n",
    "min_val = np.quantile(pca_abs,0.95)\n",
    "num_components = 3\n",
    "pca_cols = set()\n",
    "for i in range(num_components):\n",
    "    parts = comps.iloc[i][comps.iloc[i].abs() > min_val]\n",
    "    pca_cols.update(set(parts.index))\n",
    "l_pca_cols = list(pca_cols)\n",
    "l_pca_cols"
   ]
  },
  {
   "cell_type": "markdown",
   "metadata": {},
   "source": [
    "<a id=\"3.2.2\"></a>\n",
    "<h4 style=\"background-color:orange;font-family:newtimeroman;font-size:120%;text-align:center;border-radius: 15px 50px;\">Incorporando as 36 componentes no dataset</h4>"
   ]
  },
  {
   "cell_type": "code",
   "execution_count": 18,
   "metadata": {
    "ExecuteTime": {
     "end_time": "2021-04-17T22:58:09.235532Z",
     "start_time": "2021-04-17T22:58:06.917204Z"
    }
   },
   "outputs": [],
   "source": [
    "sX_pca = pca.transform(sX)\n",
    "\n",
    "for component in range(0,36):\n",
    "    X['PCA'+str(component+1)] = sX_pca[:,component]"
   ]
  },
  {
   "cell_type": "markdown",
   "metadata": {},
   "source": [
    "<a id=\"3.2.2\"></a>\n",
    "<h3 style=\"background-color:orange;font-family:newtimeroman;font-size:150%;text-align:center;border-radius: 15px 50px;\">LASSO</h3>"
   ]
  },
  {
   "cell_type": "markdown",
   "metadata": {},
   "source": [
    "<a id=\"3.2.2\"></a>\n",
    "<h4 style=\"background-color:orange;font-family:newtimeroman;font-size:120%;text-align:center;border-radius: 15px 50px;\">Treinamento e obtenção dos coeficientes</h4>"
   ]
  },
  {
   "cell_type": "code",
   "execution_count": 12,
   "metadata": {
    "ExecuteTime": {
     "end_time": "2021-04-17T19:17:22.345367Z",
     "start_time": "2021-04-17T19:12:45.389687Z"
    }
   },
   "outputs": [
    {
     "data": {
      "text/plain": [
       "array([   15.27715799,    35.31204591,   189.83347801,   189.08027324,\n",
       "        -202.1430806 ,   131.22585713,   -19.78688963,   111.94399302,\n",
       "         259.4382006 ,   417.40635095,   -58.48540753,   -27.4017583 ,\n",
       "          -5.26875118,   -75.74891443,  -104.08115883,   -29.04148874,\n",
       "         117.9056638 ,     8.16653977,    86.12086052,    84.620318  ,\n",
       "        -134.89328117,   151.79814894,   547.92881842,  -263.31086031,\n",
       "         122.6919449 , -1128.30656552,   -34.75179115,  1266.74199125,\n",
       "         -80.31116798,    57.00693943,  -345.14688501,   196.78074414,\n",
       "        -146.48911712,   138.39482324,   378.49107558,    25.11578049,\n",
       "        -238.27439521,    -5.36703027,    66.62888232,    91.76599558,\n",
       "          13.43107164,    -6.07027139,    29.43797748,   -17.57494026,\n",
       "        -144.01029447,     0.        ,   -96.09271006,   112.08231004,\n",
       "          39.35771571,   -35.6459564 ,   -28.17223802,   -36.89749303,\n",
       "          26.49349248,     0.        ,   141.96432785])"
      ]
     },
     "execution_count": 12,
     "metadata": {},
     "output_type": "execute_result"
    }
   ],
   "source": [
    "lasso = Lasso(alpha = 0.1,random_state=42)\n",
    "lasso.fit(sX, y)             \n",
    "lasso_coef = list(lasso.coef_)\n",
    "lasso.coef_"
   ]
  },
  {
   "cell_type": "markdown",
   "metadata": {},
   "source": [
    "<a id=\"3.2.2\"></a>\n",
    "<h4 style=\"background-color:orange;font-family:newtimeroman;font-size:120%;text-align:center;border-radius: 15px 50px;\">Importância dos atributos</h4>"
   ]
  },
  {
   "cell_type": "code",
   "execution_count": 13,
   "metadata": {
    "ExecuteTime": {
     "end_time": "2021-04-17T19:17:22.396554Z",
     "start_time": "2021-04-17T19:17:22.348358Z"
    }
   },
   "outputs": [
    {
     "data": {
      "text/plain": [
       "['holiday',\n",
       " 'weekday',\n",
       " 'month',\n",
       " 'year',\n",
       " 'host_is_superhost',\n",
       " 'host_listings_count',\n",
       " 'host_has_profile_pic',\n",
       " 'host_identity_verified',\n",
       " 'accommodates',\n",
       " 'bedrooms',\n",
       " 'beds',\n",
       " 'minimum_nights',\n",
       " 'maximum_nights',\n",
       " 'number_of_reviews',\n",
       " 'review_scores_rating',\n",
       " 'review_scores_accuracy',\n",
       " 'review_scores_cleanliness',\n",
       " 'review_scores_checkin',\n",
       " 'review_scores_communication',\n",
       " 'review_scores_location',\n",
       " 'review_scores_value',\n",
       " 'instant_bookable',\n",
       " 'calculated_host_listings_count',\n",
       " 'host_since_year',\n",
       " 'host_response_rate_numeric',\n",
       " 'host_verifications_email',\n",
       " 'host_verifications_ government_id',\n",
       " 'host_verifications_ phone',\n",
       " 'host_verifications_ reviews',\n",
       " 'host_verifications_ jumio',\n",
       " 'host_verifications_ offline_government_id',\n",
       " 'host_verifications_ selfie',\n",
       " 'host_verifications_ facebook',\n",
       " 'host_verifications_ identity_manual',\n",
       " 'host_verifications_ work_email',\n",
       " 'amenities_ Wifi',\n",
       " 'amenities_ Essentials',\n",
       " 'amenities_ Long term stays allowed',\n",
       " 'amenities_ TV',\n",
       " 'amenities_ Kitchen',\n",
       " 'amenities_ Hangers',\n",
       " 'amenities_ Iron',\n",
       " 'amenities_ Air conditioning',\n",
       " 'amenities_ Washer',\n",
       " 'amenities_ Hot water',\n",
       " 'property_type_mod_Entire condominium',\n",
       " 'property_type_mod_Entire house',\n",
       " 'property_type_mod_Other values',\n",
       " 'property_type_mod_Private room in apartment',\n",
       " 'property_type_mod_Private room in house',\n",
       " 'room_type_Entire home/apt',\n",
       " 'room_type_Hotel room',\n",
       " 'room_type_Shared room']"
      ]
     },
     "execution_count": 13,
     "metadata": {},
     "output_type": "execute_result"
    }
   ],
   "source": [
    "list_lasso = []\n",
    "for a in range(len(lasso_coef)):\n",
    "    if lasso_coef[a]!=0:\n",
    "        c = X.head(1).T.index[a]\n",
    "        list_lasso.append(c)\n",
    "list_lasso"
   ]
  },
  {
   "cell_type": "markdown",
   "metadata": {},
   "source": [
    "<a id=\"3.2.2\"></a>\n",
    "<h3 style=\"background-color:orange;font-family:newtimeroman;font-size:150%;text-align:center;border-radius: 15px 50px;\">Atributos PCA & LASSO</h3>"
   ]
  },
  {
   "cell_type": "code",
   "execution_count": 14,
   "metadata": {
    "ExecuteTime": {
     "end_time": "2021-04-17T19:17:22.403763Z",
     "start_time": "2021-04-17T19:17:22.398258Z"
    }
   },
   "outputs": [
    {
     "data": {
      "text/plain": [
       "['review_scores_communication',\n",
       " 'review_scores_checkin',\n",
       " 'host_verifications_ offline_government_id',\n",
       " 'property_type_mod_Private room in apartment',\n",
       " 'accommodates',\n",
       " 'review_scores_value',\n",
       " 'host_verifications_ government_id',\n",
       " 'review_scores_accuracy',\n",
       " 'room_type_Entire home/apt',\n",
       " 'bedrooms',\n",
       " 'host_verifications_ jumio',\n",
       " 'review_scores_location',\n",
       " 'review_scores_rating',\n",
       " 'review_scores_cleanliness',\n",
       " 'host_identity_verified']"
      ]
     },
     "execution_count": 14,
     "metadata": {},
     "output_type": "execute_result"
    }
   ],
   "source": [
    "pca_lasso = list(set(l_pca_cols) & set(list_lasso))\n",
    "pca_lasso"
   ]
  },
  {
   "cell_type": "markdown",
   "metadata": {},
   "source": [
    "<a id=\"4\"></a>\n",
    "<h1 style=\"background-color:orange;font-family:newtimeroman;font-size:300%;text-align:center;border-radius: 15px 50px;\">Criação do Modelo</h1>"
   ]
  },
  {
   "cell_type": "code",
   "execution_count": 19,
   "metadata": {
    "ExecuteTime": {
     "end_time": "2021-04-17T22:58:17.771118Z",
     "start_time": "2021-04-17T22:58:17.763701Z"
    }
   },
   "outputs": [],
   "source": [
    "# pca_lasso = ['review_scores_communication',\n",
    "#  'review_scores_checkin',\n",
    "#  'host_verifications_ offline_government_id',\n",
    "#  'property_type_mod_Private room in apartment',\n",
    "#  'accommodates',\n",
    "#  'review_scores_value',\n",
    "#  'host_verifications_ government_id',\n",
    "#  'review_scores_accuracy',\n",
    "#  'room_type_Entire home/apt',\n",
    "#  'bedrooms',\n",
    "#  'host_verifications_ jumio',\n",
    "#  'review_scores_location',\n",
    "#  'review_scores_rating',\n",
    "#  'review_scores_cleanliness',\n",
    "#  'host_identity_verified']\n",
    "\n",
    "# l_pca_cols = ['property_type_mod_Private room in apartment',\n",
    "#  'review_scores_value',\n",
    "#  'host_verifications_ government_id',\n",
    "#  'review_scores_accuracy',\n",
    "#  'room_type_Entire home/apt',\n",
    "#  'bedrooms',\n",
    "#  'host_verifications_ offline_government_id',\n",
    "#  'review_scores_rating',\n",
    "#  'review_scores_cleanliness',\n",
    "#  'host_identity_verified',\n",
    "#  'review_scores_communication',\n",
    "#  'review_scores_checkin',\n",
    "#  'property_type_mod_Entire apartment',\n",
    "#  'accommodates',\n",
    "#  'host_verifications_ jumio',\n",
    "#  'review_scores_location',\n",
    "#  'room_type_Private room']\n",
    "\n",
    "# list_lasso = ['holiday',\n",
    "#  'weekday',\n",
    "#  'month',\n",
    "#  'year',\n",
    "#  'host_is_superhost',\n",
    "#  'host_listings_count',\n",
    "#  'host_has_profile_pic',\n",
    "#  'host_identity_verified',\n",
    "#  'accommodates',\n",
    "#  'bedrooms',\n",
    "#  'beds',\n",
    "#  'minimum_nights',\n",
    "#  'maximum_nights',\n",
    "#  'number_of_reviews',\n",
    "#  'review_scores_rating',\n",
    "#  'review_scores_accuracy',\n",
    "#  'review_scores_cleanliness',\n",
    "#  'review_scores_checkin',\n",
    "#  'review_scores_communication',\n",
    "#  'review_scores_location',\n",
    "#  'review_scores_value',\n",
    "#  'instant_bookable',\n",
    "#  'calculated_host_listings_count',\n",
    "#  'host_since_year',\n",
    "#  'host_response_rate_numeric',\n",
    "#  'host_verifications_email',\n",
    "#  'host_verifications_ government_id',\n",
    "#  'host_verifications_ phone',\n",
    "#  'host_verifications_ reviews',\n",
    "#  'host_verifications_ jumio',\n",
    "#  'host_verifications_ offline_government_id',\n",
    "#  'host_verifications_ selfie',\n",
    "#  'host_verifications_ facebook',\n",
    "#  'host_verifications_ identity_manual',\n",
    "#  'host_verifications_ work_email',\n",
    "#  'amenities_ Wifi',\n",
    "#  'amenities_ Essentials',\n",
    "#  'amenities_ Long term stays allowed',\n",
    "#  'amenities_ TV',\n",
    "#  'amenities_ Kitchen',\n",
    "#  'amenities_ Hangers',\n",
    "#  'amenities_ Iron',\n",
    "#  'amenities_ Air conditioning',\n",
    "#  'amenities_ Washer',\n",
    "#  'amenities_ Hot water',\n",
    "#  'property_type_mod_Entire condominium',\n",
    "#  'property_type_mod_Entire house',\n",
    "#  'property_type_mod_Other values',\n",
    "#  'property_type_mod_Private room in apartment',\n",
    "#  'property_type_mod_Private room in house',\n",
    "#  'room_type_Entire home/apt',\n",
    "#  'room_type_Hotel room',\n",
    "#  'room_type_Shared room']"
   ]
  },
  {
   "cell_type": "markdown",
   "metadata": {},
   "source": [
    "<a id=\"4.2\"></a>\n",
    "<h2 style=\"background-color:orange;font-family:newtimeroman;font-size:200%;text-align:center;border-radius: 15px 50px;\">Comparativo de Modelos</h2>"
   ]
  },
  {
   "cell_type": "markdown",
   "metadata": {},
   "source": [
    "<a id=\"3.1.1\"></a>\n",
    "<h3 style=\"background-color:orange;font-family:newtimeroman;font-size:150%;text-align:center;border-radius: 15px 50px;\">Função de Comparação e Modelos</h3>"
   ]
  },
  {
   "cell_type": "code",
   "execution_count": 27,
   "metadata": {
    "ExecuteTime": {
     "end_time": "2021-04-17T23:01:53.863994Z",
     "start_time": "2021-04-17T23:01:53.856047Z"
    }
   },
   "outputs": [],
   "source": [
    "def comparar_modelos(lista_modelos, df_xtrain, df_xtest, df_ytrain, df_ytest):\n",
    "    for model in lista_modelos:  \n",
    "        print(\"=====\"+str(model)+\"=====\")\n",
    "        model.fit(df_xtrain, df_ytrain)\n",
    "        y_pred = model.predict(df_xtest)\n",
    "        residuos = df_ytest - y_pred\n",
    "        bp = sms.het_breuschpagan(residuos, df_xtest)\n",
    "        ks = stats.kstest(residuos, cdf=\"norm\")\n",
    "\n",
    "        r2= model.score(df_xtest, df_ytest)\n",
    "        print('====R2:', r2,'\\n')\n",
    "        mae = mean_absolute_error(df_ytest, y_pred)\n",
    "        print(\"===MAE:\", np.round(mae,2),'\\n')  \n",
    "\n",
    "        print(\"===p-value Breusch-Pagan:\", bp[1])\n",
    "        if bp[1]<0.05:\n",
    "            print(\"heterocedasticidade \\n\")\n",
    "        else:\n",
    "            print(\"HOMOCEDASTICIDADE \\n\")\n",
    "        \n",
    "        print(\"===p-value Kolmogorov-Smirkov\", ks[1])\n",
    "        if ks[1]<0.05:\n",
    "            print(\"Distribuição não normal \\n\")\n",
    "        else:\n",
    "            print(\"Distribuição NORMAL \\n\")\n",
    "        \n",
    "            \n",
    "        fig = plt.figure()\n",
    "        l = plt.plot(y_pred, y_test, 'bo')\n",
    "        xl = np.arange(min(y_test), 1.2*max(y_test),(max(y_test)-min(y_test))/10)\n",
    "        yl = xl\n",
    "        plt.plot(xl, yl, 'r--')\n",
    "        plt.show(True)"
   ]
  },
  {
   "cell_type": "code",
   "execution_count": 21,
   "metadata": {
    "ExecuteTime": {
     "end_time": "2021-04-17T22:58:22.949428Z",
     "start_time": "2021-04-17T22:58:22.943462Z"
    }
   },
   "outputs": [],
   "source": [
    "models_S = [DummyRegressor(),\n",
    "            LinearRegression(n_jobs=-1), \n",
    "            SGDRegressor(random_state=42), ]\n",
    "#             SVR(), \n",
    "#             KNeighborsRegressor(n_jobs=-1)]\n",
    "\n",
    "models = [DecisionTreeRegressor(random_state=42),\n",
    "          RandomForestRegressor(random_state=42, \n",
    "                            n_estimators=100,\n",
    "                            criterion='mse',\n",
    "                            n_jobs=-1), \n",
    "          GradientBoostingRegressor(random_state=42), \n",
    "          BaggingRegressor(random_state=42,\n",
    "                            n_jobs=-1), \n",
    "          ExtraTreesRegressor(random_state=42,\n",
    "                            n_jobs=-1), \n",
    "          AdaBoostRegressor(random_state=42), \n",
    "          xgboost.XGBRegressor(random_state=42, n_jobs=-1)]"
   ]
  },
  {
   "cell_type": "markdown",
   "metadata": {},
   "source": [
    "<a id=\"4.2\"></a>\n",
    "<h3 style=\"background-color:orange;font-family:newtimeroman;font-size:150%;text-align:center;border-radius: 15px 50px;\">Treino e teste</h3>"
   ]
  },
  {
   "cell_type": "code",
   "execution_count": 22,
   "metadata": {
    "ExecuteTime": {
     "end_time": "2021-04-17T22:58:30.495531Z",
     "start_time": "2021-04-17T22:58:25.904427Z"
    }
   },
   "outputs": [],
   "source": [
    "X_train, X_test, y_train, y_test = train_test_split(X, y, test_size=0.3, random_state=42)"
   ]
  },
  {
   "cell_type": "markdown",
   "metadata": {},
   "source": [
    "<a id=\"4.2\"></a>\n",
    "<h3 style=\"background-color:orange;font-family:newtimeroman;font-size:150%;text-align:center;border-radius: 15px 50px;\">Features PCA & LASSO</h3>"
   ]
  },
  {
   "cell_type": "markdown",
   "metadata": {},
   "source": [
    "<a id=\"3.1.1\"></a>\n",
    "<h4 style=\"background-color:orange;font-family:newtimeroman;font-size:120%;text-align:center;border-radius: 15px 50px;\">Aplicação do filtro</h4>"
   ]
  },
  {
   "cell_type": "code",
   "execution_count": 23,
   "metadata": {
    "ExecuteTime": {
     "end_time": "2021-04-17T22:58:39.363438Z",
     "start_time": "2021-04-17T22:58:38.206423Z"
    }
   },
   "outputs": [],
   "source": [
    "#filtro PCA&LASSO\n",
    "plX_train, plX_test = X_train[pca_lasso], X_test[pca_lasso]\n",
    "\n",
    "scaler_pl = StandardScaler().fit(X[pca_lasso])\n",
    "pl_sX_train, pl_sX_test = scaler_pl.transform(plX_train), scaler_pl.transform(plX_test)"
   ]
  },
  {
   "cell_type": "markdown",
   "metadata": {},
   "source": [
    "<a id=\"3.1.1\"></a>\n",
    "<h4 style=\"background-color:orange;font-family:newtimeroman;font-size:120%;text-align:center;border-radius: 15px 50px;\">Comparação dos Modelos</h4>"
   ]
  },
  {
   "cell_type": "code",
   "execution_count": 28,
   "metadata": {
    "ExecuteTime": {
     "end_time": "2021-04-17T23:04:02.541189Z",
     "start_time": "2021-04-17T23:01:56.915116Z"
    }
   },
   "outputs": [
    {
     "name": "stdout",
     "output_type": "stream",
     "text": [
      "=====DecisionTreeRegressor(random_state=42)=====\n",
      "====R2: 0.10245503509936249 \n",
      "\n",
      "===MAE: 902.64 \n",
      "\n",
      "===p-value Breusch-Pagan: 1.6336586262509502e-21\n",
      "heterocedasticidade \n",
      "\n",
      "===p-value Kolmogorov-Smirkov 0.0\n",
      "Distribuição não normal \n",
      "\n"
     ]
    },
    {
     "data": {
      "image/png": "[encoded data removed]",
      "text/plain": [
       "<Figure size 432x288 with 1 Axes>"
      ]
     },
     "metadata": {},
     "output_type": "display_data"
    },
    {
     "name": "stdout",
     "output_type": "stream",
     "text": [
      "=====RandomForestRegressor(n_jobs=-1, random_state=42)=====\n"
     ]
    },
    {
     "ename": "KeyboardInterrupt",
     "evalue": "",
     "output_type": "error",
     "traceback": [
      "\u001b[0;31m--------------------------------------------------------------------------\u001b[0m",
      "\u001b[0;31mKeyboardInterrupt\u001b[0m                        Traceback (most recent call last)",
      "\u001b[0;32m<ipython-input-28-7f2c4c5e11eb>\u001b[0m in \u001b[0;36m<module>\u001b[0;34m\u001b[0m\n\u001b[0;32m----> 1\u001b[0;31m \u001b[0mcomparar_modelos\u001b[0m\u001b[0;34m(\u001b[0m\u001b[0mmodels\u001b[0m\u001b[0;34m,\u001b[0m \u001b[0mplX_train\u001b[0m\u001b[0;34m,\u001b[0m \u001b[0mplX_test\u001b[0m\u001b[0;34m,\u001b[0m \u001b[0my_train\u001b[0m\u001b[0;34m,\u001b[0m \u001b[0my_test\u001b[0m\u001b[0;34m)\u001b[0m\u001b[0;34m\u001b[0m\u001b[0;34m\u001b[0m\u001b[0m\n\u001b[0m",
      "\u001b[0;32m<ipython-input-27-b8c2eec8b168>\u001b[0m in \u001b[0;36mcomparar_modelos\u001b[0;34m(lista_modelos, df_xtrain, df_xtest, df_ytrain, df_ytest)\u001b[0m\n\u001b[1;32m      2\u001b[0m     \u001b[0;32mfor\u001b[0m \u001b[0mmodel\u001b[0m \u001b[0;32min\u001b[0m \u001b[0mlista_modelos\u001b[0m\u001b[0;34m:\u001b[0m\u001b[0;34m\u001b[0m\u001b[0;34m\u001b[0m\u001b[0m\n\u001b[1;32m      3\u001b[0m         \u001b[0mprint\u001b[0m\u001b[0;34m(\u001b[0m\u001b[0;34m\"=====\"\u001b[0m\u001b[0;34m+\u001b[0m\u001b[0mstr\u001b[0m\u001b[0;34m(\u001b[0m\u001b[0mmodel\u001b[0m\u001b[0;34m)\u001b[0m\u001b[0;34m+\u001b[0m\u001b[0;34m\"=====\"\u001b[0m\u001b[0;34m)\u001b[0m\u001b[0;34m\u001b[0m\u001b[0;34m\u001b[0m\u001b[0m\n\u001b[0;32m----> 4\u001b[0;31m         \u001b[0mmodel\u001b[0m\u001b[0;34m.\u001b[0m\u001b[0mfit\u001b[0m\u001b[0;34m(\u001b[0m\u001b[0mdf_xtrain\u001b[0m\u001b[0;34m,\u001b[0m \u001b[0mdf_ytrain\u001b[0m\u001b[0;34m)\u001b[0m\u001b[0;34m\u001b[0m\u001b[0;34m\u001b[0m\u001b[0m\n\u001b[0m\u001b[1;32m      5\u001b[0m         \u001b[0my_pred\u001b[0m \u001b[0;34m=\u001b[0m \u001b[0mmodel\u001b[0m\u001b[0;34m.\u001b[0m\u001b[0mpredict\u001b[0m\u001b[0;34m(\u001b[0m\u001b[0mdf_xtest\u001b[0m\u001b[0;34m)\u001b[0m\u001b[0;34m\u001b[0m\u001b[0;34m\u001b[0m\u001b[0m\n\u001b[1;32m      6\u001b[0m         \u001b[0mresiduos\u001b[0m \u001b[0;34m=\u001b[0m \u001b[0mdf_ytest\u001b[0m \u001b[0;34m-\u001b[0m \u001b[0my_pred\u001b[0m\u001b[0;34m\u001b[0m\u001b[0;34m\u001b[0m\u001b[0m\n",
      "\u001b[0;32m~/anaconda3/lib/python3.8/site-packages/sklearn/ensemble/_forest.py\u001b[0m in \u001b[0;36mfit\u001b[0;34m(self, X, y, sample_weight)\u001b[0m\n\u001b[1;32m    384\u001b[0m             \u001b[0;31m# parallel_backend contexts set at a higher level,\u001b[0m\u001b[0;34m\u001b[0m\u001b[0;34m\u001b[0m\u001b[0;34m\u001b[0m\u001b[0m\n\u001b[1;32m    385\u001b[0m             \u001b[0;31m# since correctness does not rely on using threads.\u001b[0m\u001b[0;34m\u001b[0m\u001b[0;34m\u001b[0m\u001b[0;34m\u001b[0m\u001b[0m\n\u001b[0;32m--> 386\u001b[0;31m             trees = Parallel(n_jobs=self.n_jobs, verbose=self.verbose,\n\u001b[0m\u001b[1;32m    387\u001b[0m                              \u001b[0;34m**\u001b[0m\u001b[0m_joblib_parallel_args\u001b[0m\u001b[0;34m(\u001b[0m\u001b[0mprefer\u001b[0m\u001b[0;34m=\u001b[0m\u001b[0;34m'threads'\u001b[0m\u001b[0;34m)\u001b[0m\u001b[0;34m)\u001b[0m\u001b[0;34m(\u001b[0m\u001b[0;34m\u001b[0m\u001b[0;34m\u001b[0m\u001b[0m\n\u001b[1;32m    388\u001b[0m                 delayed(_parallel_build_trees)(\n",
      "\u001b[0;32m~/anaconda3/lib/python3.8/site-packages/joblib/parallel.py\u001b[0m in \u001b[0;36m__call__\u001b[0;34m(self, iterable)\u001b[0m\n\u001b[1;32m   1059\u001b[0m \u001b[0;34m\u001b[0m\u001b[0m\n\u001b[1;32m   1060\u001b[0m             \u001b[0;32mwith\u001b[0m \u001b[0mself\u001b[0m\u001b[0;34m.\u001b[0m\u001b[0m_backend\u001b[0m\u001b[0;34m.\u001b[0m\u001b[0mretrieval_context\u001b[0m\u001b[0;34m(\u001b[0m\u001b[0;34m)\u001b[0m\u001b[0;34m:\u001b[0m\u001b[0;34m\u001b[0m\u001b[0;34m\u001b[0m\u001b[0m\n\u001b[0;32m-> 1061\u001b[0;31m                 \u001b[0mself\u001b[0m\u001b[0;34m.\u001b[0m\u001b[0mretrieve\u001b[0m\u001b[0;34m(\u001b[0m\u001b[0;34m)\u001b[0m\u001b[0;34m\u001b[0m\u001b[0;34m\u001b[0m\u001b[0m\n\u001b[0m\u001b[1;32m   1062\u001b[0m             \u001b[0;31m# Make sure that we get a last message telling us we are done\u001b[0m\u001b[0;34m\u001b[0m\u001b[0;34m\u001b[0m\u001b[0;34m\u001b[0m\u001b[0m\n\u001b[1;32m   1063\u001b[0m             \u001b[0melapsed_time\u001b[0m \u001b[0;34m=\u001b[0m \u001b[0mtime\u001b[0m\u001b[0;34m.\u001b[0m\u001b[0mtime\u001b[0m\u001b[0;34m(\u001b[0m\u001b[0;34m)\u001b[0m \u001b[0;34m-\u001b[0m \u001b[0mself\u001b[0m\u001b[0;34m.\u001b[0m\u001b[0m_start_time\u001b[0m\u001b[0;34m\u001b[0m\u001b[0;34m\u001b[0m\u001b[0m\n",
      "\u001b[0;32m~/anaconda3/lib/python3.8/site-packages/joblib/parallel.py\u001b[0m in \u001b[0;36mretrieve\u001b[0;34m(self)\u001b[0m\n\u001b[1;32m    938\u001b[0m             \u001b[0;32mtry\u001b[0m\u001b[0;34m:\u001b[0m\u001b[0;34m\u001b[0m\u001b[0;34m\u001b[0m\u001b[0m\n\u001b[1;32m    939\u001b[0m                 \u001b[0;32mif\u001b[0m \u001b[0mgetattr\u001b[0m\u001b[0;34m(\u001b[0m\u001b[0mself\u001b[0m\u001b[0;34m.\u001b[0m\u001b[0m_backend\u001b[0m\u001b[0;34m,\u001b[0m \u001b[0;34m'supports_timeout'\u001b[0m\u001b[0;34m,\u001b[0m \u001b[0;32mFalse\u001b[0m\u001b[0;34m)\u001b[0m\u001b[0;34m:\u001b[0m\u001b[0;34m\u001b[0m\u001b[0;34m\u001b[0m\u001b[0m\n\u001b[0;32m--> 940\u001b[0;31m                     \u001b[0mself\u001b[0m\u001b[0;34m.\u001b[0m\u001b[0m_output\u001b[0m\u001b[0;34m.\u001b[0m\u001b[0mextend\u001b[0m\u001b[0;34m(\u001b[0m\u001b[0mjob\u001b[0m\u001b[0;34m.\u001b[0m\u001b[0mget\u001b[0m\u001b[0;34m(\u001b[0m\u001b[0mtimeout\u001b[0m\u001b[0;34m=\u001b[0m\u001b[0mself\u001b[0m\u001b[0;34m.\u001b[0m\u001b[0mtimeout\u001b[0m\u001b[0;34m)\u001b[0m\u001b[0;34m)\u001b[0m\u001b[0;34m\u001b[0m\u001b[0;34m\u001b[0m\u001b[0m\n\u001b[0m\u001b[1;32m    941\u001b[0m                 \u001b[0;32melse\u001b[0m\u001b[0;34m:\u001b[0m\u001b[0;34m\u001b[0m\u001b[0;34m\u001b[0m\u001b[0m\n\u001b[1;32m    942\u001b[0m                     \u001b[0mself\u001b[0m\u001b[0;34m.\u001b[0m\u001b[0m_output\u001b[0m\u001b[0;34m.\u001b[0m\u001b[0mextend\u001b[0m\u001b[0;34m(\u001b[0m\u001b[0mjob\u001b[0m\u001b[0;34m.\u001b[0m\u001b[0mget\u001b[0m\u001b[0;34m(\u001b[0m\u001b[0;34m)\u001b[0m\u001b[0;34m)\u001b[0m\u001b[0;34m\u001b[0m\u001b[0;34m\u001b[0m\u001b[0m\n",
      "\u001b[0;32m~/anaconda3/lib/python3.8/multiprocessing/pool.py\u001b[0m in \u001b[0;36mget\u001b[0;34m(self, timeout)\u001b[0m\n\u001b[1;32m    763\u001b[0m \u001b[0;34m\u001b[0m\u001b[0m\n\u001b[1;32m    764\u001b[0m     \u001b[0;32mdef\u001b[0m \u001b[0mget\u001b[0m\u001b[0;34m(\u001b[0m\u001b[0mself\u001b[0m\u001b[0;34m,\u001b[0m \u001b[0mtimeout\u001b[0m\u001b[0;34m=\u001b[0m\u001b[0;32mNone\u001b[0m\u001b[0;34m)\u001b[0m\u001b[0;34m:\u001b[0m\u001b[0;34m\u001b[0m\u001b[0;34m\u001b[0m\u001b[0m\n\u001b[0;32m--> 765\u001b[0;31m         \u001b[0mself\u001b[0m\u001b[0;34m.\u001b[0m\u001b[0mwait\u001b[0m\u001b[0;34m(\u001b[0m\u001b[0mtimeout\u001b[0m\u001b[0;34m)\u001b[0m\u001b[0;34m\u001b[0m\u001b[0;34m\u001b[0m\u001b[0m\n\u001b[0m\u001b[1;32m    766\u001b[0m         \u001b[0;32mif\u001b[0m \u001b[0;32mnot\u001b[0m \u001b[0mself\u001b[0m\u001b[0;34m.\u001b[0m\u001b[0mready\u001b[0m\u001b[0;34m(\u001b[0m\u001b[0;34m)\u001b[0m\u001b[0;34m:\u001b[0m\u001b[0;34m\u001b[0m\u001b[0;34m\u001b[0m\u001b[0m\n\u001b[1;32m    767\u001b[0m             \u001b[0;32mraise\u001b[0m \u001b[0mTimeoutError\u001b[0m\u001b[0;34m\u001b[0m\u001b[0;34m\u001b[0m\u001b[0m\n",
      "\u001b[0;32m~/anaconda3/lib/python3.8/multiprocessing/pool.py\u001b[0m in \u001b[0;36mwait\u001b[0;34m(self, timeout)\u001b[0m\n\u001b[1;32m    760\u001b[0m \u001b[0;34m\u001b[0m\u001b[0m\n\u001b[1;32m    761\u001b[0m     \u001b[0;32mdef\u001b[0m \u001b[0mwait\u001b[0m\u001b[0;34m(\u001b[0m\u001b[0mself\u001b[0m\u001b[0;34m,\u001b[0m \u001b[0mtimeout\u001b[0m\u001b[0;34m=\u001b[0m\u001b[0;32mNone\u001b[0m\u001b[0;34m)\u001b[0m\u001b[0;34m:\u001b[0m\u001b[0;34m\u001b[0m\u001b[0;34m\u001b[0m\u001b[0m\n\u001b[0;32m--> 762\u001b[0;31m         \u001b[0mself\u001b[0m\u001b[0;34m.\u001b[0m\u001b[0m_event\u001b[0m\u001b[0;34m.\u001b[0m\u001b[0mwait\u001b[0m\u001b[0;34m(\u001b[0m\u001b[0mtimeout\u001b[0m\u001b[0;34m)\u001b[0m\u001b[0;34m\u001b[0m\u001b[0;34m\u001b[0m\u001b[0m\n\u001b[0m\u001b[1;32m    763\u001b[0m \u001b[0;34m\u001b[0m\u001b[0m\n\u001b[1;32m    764\u001b[0m     \u001b[0;32mdef\u001b[0m \u001b[0mget\u001b[0m\u001b[0;34m(\u001b[0m\u001b[0mself\u001b[0m\u001b[0;34m,\u001b[0m \u001b[0mtimeout\u001b[0m\u001b[0;34m=\u001b[0m\u001b[0;32mNone\u001b[0m\u001b[0;34m)\u001b[0m\u001b[0;34m:\u001b[0m\u001b[0;34m\u001b[0m\u001b[0;34m\u001b[0m\u001b[0m\n",
      "\u001b[0;32m~/anaconda3/lib/python3.8/threading.py\u001b[0m in \u001b[0;36mwait\u001b[0;34m(self, timeout)\u001b[0m\n\u001b[1;32m    556\u001b[0m             \u001b[0msignaled\u001b[0m \u001b[0;34m=\u001b[0m \u001b[0mself\u001b[0m\u001b[0;34m.\u001b[0m\u001b[0m_flag\u001b[0m\u001b[0;34m\u001b[0m\u001b[0;34m\u001b[0m\u001b[0m\n\u001b[1;32m    557\u001b[0m             \u001b[0;32mif\u001b[0m \u001b[0;32mnot\u001b[0m \u001b[0msignaled\u001b[0m\u001b[0;34m:\u001b[0m\u001b[0;34m\u001b[0m\u001b[0;34m\u001b[0m\u001b[0m\n\u001b[0;32m--> 558\u001b[0;31m                 \u001b[0msignaled\u001b[0m \u001b[0;34m=\u001b[0m \u001b[0mself\u001b[0m\u001b[0;34m.\u001b[0m\u001b[0m_cond\u001b[0m\u001b[0;34m.\u001b[0m\u001b[0mwait\u001b[0m\u001b[0;34m(\u001b[0m\u001b[0mtimeout\u001b[0m\u001b[0;34m)\u001b[0m\u001b[0;34m\u001b[0m\u001b[0;34m\u001b[0m\u001b[0m\n\u001b[0m\u001b[1;32m    559\u001b[0m             \u001b[0;32mreturn\u001b[0m \u001b[0msignaled\u001b[0m\u001b[0;34m\u001b[0m\u001b[0;34m\u001b[0m\u001b[0m\n\u001b[1;32m    560\u001b[0m \u001b[0;34m\u001b[0m\u001b[0m\n",
      "\u001b[0;32m~/anaconda3/lib/python3.8/threading.py\u001b[0m in \u001b[0;36mwait\u001b[0;34m(self, timeout)\u001b[0m\n\u001b[1;32m    300\u001b[0m         \u001b[0;32mtry\u001b[0m\u001b[0;34m:\u001b[0m    \u001b[0;31m# restore state no matter what (e.g., KeyboardInterrupt)\u001b[0m\u001b[0;34m\u001b[0m\u001b[0;34m\u001b[0m\u001b[0m\n\u001b[1;32m    301\u001b[0m             \u001b[0;32mif\u001b[0m \u001b[0mtimeout\u001b[0m \u001b[0;32mis\u001b[0m \u001b[0;32mNone\u001b[0m\u001b[0;34m:\u001b[0m\u001b[0;34m\u001b[0m\u001b[0;34m\u001b[0m\u001b[0m\n\u001b[0;32m--> 302\u001b[0;31m                 \u001b[0mwaiter\u001b[0m\u001b[0;34m.\u001b[0m\u001b[0macquire\u001b[0m\u001b[0;34m(\u001b[0m\u001b[0;34m)\u001b[0m\u001b[0;34m\u001b[0m\u001b[0;34m\u001b[0m\u001b[0m\n\u001b[0m\u001b[1;32m    303\u001b[0m                 \u001b[0mgotit\u001b[0m \u001b[0;34m=\u001b[0m \u001b[0;32mTrue\u001b[0m\u001b[0;34m\u001b[0m\u001b[0;34m\u001b[0m\u001b[0m\n\u001b[1;32m    304\u001b[0m             \u001b[0;32melse\u001b[0m\u001b[0;34m:\u001b[0m\u001b[0;34m\u001b[0m\u001b[0;34m\u001b[0m\u001b[0m\n",
      "\u001b[0;31mKeyboardInterrupt\u001b[0m: "
     ]
    }
   ],
   "source": [
    "comparar_modelos(models, plX_train, plX_test, y_train, y_test)"
   ]
  },
  {
   "cell_type": "code",
   "execution_count": null,
   "metadata": {
    "ExecuteTime": {
     "start_time": "2021-04-17T22:24:30.271Z"
    }
   },
   "outputs": [
    {
     "name": "stdout",
     "output_type": "stream",
     "text": [
      "=====DummyRegressor()=====\n",
      "R2: -7.031619915220944e-07\n",
      "MAE: 1220.38\n",
      "p-value 4.161900505824452e-16\n",
      "Hipótese nula rejeitada\n"
     ]
    },
    {
     "data": {
      "image/png": "[encoded data removed]",
      "text/plain": [
       "<Figure size 432x288 with 1 Axes>"
      ]
     },
     "metadata": {},
     "output_type": "display_data"
    },
    {
     "name": "stdout",
     "output_type": "stream",
     "text": [
      "=====LinearRegression(n_jobs=-1)=====\n",
      "R2: 0.0064357994285917375\n",
      "MAE: 1150.81\n",
      "p-value 4.1062140681473635e-16\n",
      "Hipótese nula rejeitada\n"
     ]
    },
    {
     "data": {
      "image/png": "[encoded data removed]",
      "text/plain": [
       "<Figure size 432x288 with 1 Axes>"
      ]
     },
     "metadata": {},
     "output_type": "display_data"
    },
    {
     "name": "stdout",
     "output_type": "stream",
     "text": [
      "=====SGDRegressor(random_state=42)=====\n",
      "R2: 0.0061579231916912835\n",
      "MAE: 1252.78\n",
      "p-value 3.9050241636582593e-16\n",
      "Hipótese nula rejeitada\n"
     ]
    },
    {
     "data": {
      "image/png": "[encoded data removed]",
      "text/plain": [
       "<Figure size 432x288 with 1 Axes>"
      ]
     },
     "metadata": {},
     "output_type": "display_data"
    },
    {
     "name": "stdout",
     "output_type": "stream",
     "text": [
      "=====SVR()=====\n"
     ]
    }
   ],
   "source": [
    "comparar_modelos(models_S, pl_sX_train, pl_sX_test, y_train, y_test)"
   ]
  },
  {
   "cell_type": "markdown",
   "metadata": {},
   "source": [
    "<a id=\"4.2\"></a>\n",
    "<h3 style=\"background-color:orange;font-family:newtimeroman;font-size:150%;text-align:center;border-radius: 15px 50px;\">Features PCA</h3>"
   ]
  },
  {
   "cell_type": "markdown",
   "metadata": {},
   "source": [
    "<a id=\"3.1.1\"></a>\n",
    "<h4 style=\"background-color:orange;font-family:newtimeroman;font-size:120%;text-align:center;border-radius: 15px 50px;\">Aplicação do filtro</h4>"
   ]
  },
  {
   "cell_type": "code",
   "execution_count": 15,
   "metadata": {
    "ExecuteTime": {
     "end_time": "2021-04-17T21:05:04.590039Z",
     "start_time": "2021-04-17T21:05:02.596832Z"
    }
   },
   "outputs": [],
   "source": [
    "#filtro PCA\n",
    "pcaX_train, pcaX_test = X_train[l_pca_cols], X_test[l_pca_cols]\n",
    "\n",
    "scaler_pca = StandardScaler().fit(X[l_pca_cols])\n",
    "pca_sX_train, pca_sX_test = scaler_pca.transform(pcaX_train), scaler_pca.transform(pcaX_test)"
   ]
  },
  {
   "cell_type": "markdown",
   "metadata": {},
   "source": [
    "<a id=\"3.1.1\"></a>\n",
    "<h4 style=\"background-color:orange;font-family:newtimeroman;font-size:120%;text-align:center;border-radius: 15px 50px;\">Comparação dos Modelos</h4>"
   ]
  },
  {
   "cell_type": "code",
   "execution_count": 16,
   "metadata": {
    "ExecuteTime": {
     "end_time": "2021-04-17T21:05:21.997184Z",
     "start_time": "2021-04-17T21:05:07.635704Z"
    }
   },
   "outputs": [
    {
     "name": "stdout",
     "output_type": "stream",
     "text": [
      "=====DecisionTreeRegressor(random_state=42)=====\n",
      "R2: 0.11289270045547894\n",
      "RMSE: 95653216.59\n",
      "MAE: 886.8\n",
      "p-value 1.2063205553674172e-73\n",
      "Hipótese nula rejeitada\n"
     ]
    },
    {
     "data": {
      "image/png": "[encoded data removed]",
      "text/plain": [
       "<Figure size 432x288 with 1 Axes>"
      ]
     },
     "metadata": {},
     "output_type": "display_data"
    }
   ],
   "source": [
    "comparar_modelos(models, pcaX_train, pcaX_test, y_train, y_test)"
   ]
  },
  {
   "cell_type": "code",
   "execution_count": 22,
   "metadata": {
    "ExecuteTime": {
     "end_time": "2021-04-17T21:49:28.248077Z",
     "start_time": "2021-04-17T21:49:28.236291Z"
    }
   },
   "outputs": [
    {
     "ename": "NameError",
     "evalue": "name 'pcaX_train' is not defined",
     "output_type": "error",
     "traceback": [
      "\u001b[0;31m--------------------------------------------------------------------------\u001b[0m",
      "\u001b[0;31mNameError\u001b[0m                                Traceback (most recent call last)",
      "\u001b[0;32m<ipython-input-22-52342cf1f7fb>\u001b[0m in \u001b[0;36m<module>\u001b[0;34m\u001b[0m\n\u001b[0;32m----> 1\u001b[0;31m \u001b[0mcomparar_modelos\u001b[0m\u001b[0;34m(\u001b[0m\u001b[0mmodels_S\u001b[0m\u001b[0;34m,\u001b[0m \u001b[0mpcaX_train\u001b[0m\u001b[0;34m,\u001b[0m \u001b[0mpcaX_test\u001b[0m\u001b[0;34m,\u001b[0m \u001b[0my_train\u001b[0m\u001b[0;34m,\u001b[0m \u001b[0my_test\u001b[0m\u001b[0;34m)\u001b[0m\u001b[0;34m\u001b[0m\u001b[0;34m\u001b[0m\u001b[0m\n\u001b[0m",
      "\u001b[0;31mNameError\u001b[0m: name 'pcaX_train' is not defined"
     ]
    }
   ],
   "source": [
    "comparar_modelos(models_S, pcaX_train, pcaX_test, y_train, y_test)"
   ]
  },
  {
   "cell_type": "markdown",
   "metadata": {},
   "source": [
    "<a id=\"4.2\"></a>\n",
    "<h3 style=\"background-color:orange;font-family:newtimeroman;font-size:150%;text-align:center;border-radius: 15px 50px;\">Features LASSO</h3>"
   ]
  },
  {
   "cell_type": "markdown",
   "metadata": {},
   "source": [
    "<a id=\"3.1.1\"></a>\n",
    "<h4 style=\"background-color:orange;font-family:newtimeroman;font-size:120%;text-align:center;border-radius: 15px 50px;\">Aplicação do filtro</h4>"
   ]
  },
  {
   "cell_type": "code",
   "execution_count": 21,
   "metadata": {
    "ExecuteTime": {
     "end_time": "2021-04-17T22:58:39.363438Z",
     "start_time": "2021-04-17T22:58:38.206423Z"
    }
   },
   "outputs": [],
   "source": [
    "#filtro LASSO\n",
    "lX_train, lX_test = X_train[list_lasso], X_test[list_lasso]\n",
    "\n",
    "scaler_l = StandardScaler().fit(X[list_lasso])\n",
    "l_sX_train, l_sX_test = scaler_l.transform(lX_train), scaler_l.transform(lX_test)"
   ]
  },
  {
   "cell_type": "markdown",
   "metadata": {},
   "source": [
    "<a id=\"3.1.1\"></a>\n",
    "<h4 style=\"background-color:orange;font-family:newtimeroman;font-size:120%;text-align:center;border-radius: 15px 50px;\">Comparação dos Modelos</h4>"
   ]
  },
  {
   "cell_type": "code",
   "execution_count": 22,
   "metadata": {
    "ExecuteTime": {
     "end_time": "2021-04-17T23:04:02.541189Z",
     "start_time": "2021-04-17T23:01:56.915116Z"
    }
   },
   "outputs": [
    {
     "name": "stdout",
     "output_type": "stream",
     "text": [
      "=====DecisionTreeRegressor(random_state=42)=====\n",
      "R2: 0.7608726376970447\n",
      "RMSE: 25784142.9\n",
      "MAE: 255.97\n",
      "p-value 0.0\n",
      "Hipótese nula rejeitada\n"
     ]
    },
    {
     "data": {
      "image/png": "[encoded data removed]",
      "text/plain": [
       "<Figure size 432x288 with 1 Axes>"
      ]
     },
     "metadata": {},
     "output_type": "display_data"
    }
   ],
   "source": [
    "comparar_modelos(models, lX_train, lX_test, y_train, y_test)"
   ]
  },
  {
   "cell_type": "code",
   "execution_count": 23,
   "metadata": {
    "ExecuteTime": {
     "start_time": "2021-04-17T22:24:30.271Z"
    }
   },
   "outputs": [
    {
     "name": "stdout",
     "output_type": "stream",
     "text": [
      "=====DummyRegressor()=====\n",
      "R2: -7.031619915220944e-07\n",
      "RMSE: 107826058.81\n",
      "MAE: 1220.38\n",
      "p-value 1.4913922289982483e-110\n",
      "Hipótese nula rejeitada\n"
     ]
    },
    {
     "data": {
      "image/png": "[encoded data removed]",
      "text/plain": [
       "<Figure size 432x288 with 1 Axes>"
      ]
     },
     "metadata": {},
     "output_type": "display_data"
    },
    {
     "name": "stdout",
     "output_type": "stream",
     "text": [
      "=====LinearRegression(n_jobs=-1)=====\n",
      "R2: 0.013128298609755507\n",
      "RMSE: 106410411.29\n",
      "MAE: 1313.51\n",
      "p-value 3.4576557567226996e-110\n",
      "Hipótese nula rejeitada\n"
     ]
    },
    {
     "data": {
      "image/png": "[encoded data removed]",
      "text/plain": [
       "<Figure size 432x288 with 1 Axes>"
      ]
     },
     "metadata": {},
     "output_type": "display_data"
    },
    {
     "name": "stdout",
     "output_type": "stream",
     "text": [
      "=====SGDRegressor(random_state=42)=====\n",
      "R2: 0.012473521311563984\n",
      "RMSE: 106481013.29\n",
      "MAE: 1315.54\n",
      "p-value 4.0699535949017286e-110\n",
      "Hipótese nula rejeitada\n"
     ]
    },
    {
     "data": {
      "image/png": "[encoded data removed]",
      "text/plain": [
       "<Figure size 432x288 with 1 Axes>"
      ]
     },
     "metadata": {},
     "output_type": "display_data"
    }
   ],
   "source": [
    "comparar_modelos(models_S, l_sX_train, l_sX_test, y_train, y_test)"
   ]
  },
  {
   "cell_type": "markdown",
   "metadata": {},
   "source": [
    "<a id=\"4.2\"></a>\n",
    "<h3 style=\"background-color:orange;font-family:newtimeroman;font-size:150%;text-align:center;border-radius: 15px 50px;\">Features com as 36 componentes do PCA</h3>"
   ]
  },
  {
   "cell_type": "markdown",
   "metadata": {},
   "source": [
    "<a id=\"3.1.1\"></a>\n",
    "<h4 style=\"background-color:orange;font-family:newtimeroman;font-size:120%;text-align:center;border-radius: 15px 50px;\">Aplicação do filtro</h4>"
   ]
  },
  {
   "cell_type": "code",
   "execution_count": 19,
   "metadata": {
    "ExecuteTime": {
     "end_time": "2021-04-17T22:58:39.363438Z",
     "start_time": "2021-04-17T22:58:38.206423Z"
    }
   },
   "outputs": [],
   "source": [
    "#filtro PCA36\n",
    "pca36X_train, pca36X_test = X_train.loc[:,'PCA1':'PCA36'], X_test.loc[:,'PCA1':'PCA36']\n",
    "\n",
    "scaler_pca36 = StandardScaler().fit(X.loc[:,'PCA1':'PCA36'])\n",
    "pca36_sX_train, pca36_sX_test = scaler_pca36.transform(pca36X_train), scaler_pca36.transform(pca36X_test)"
   ]
  },
  {
   "cell_type": "markdown",
   "metadata": {},
   "source": [
    "<a id=\"3.1.1\"></a>\n",
    "<h4 style=\"background-color:orange;font-family:newtimeroman;font-size:120%;text-align:center;border-radius: 15px 50px;\">Comparação dos Modelos</h4>"
   ]
  },
  {
   "cell_type": "code",
   "execution_count": 21,
   "metadata": {
    "ExecuteTime": {
     "end_time": "2021-04-17T23:04:02.541189Z",
     "start_time": "2021-04-17T23:01:56.915116Z"
    }
   },
   "outputs": [
    {
     "name": "stdout",
     "output_type": "stream",
     "text": [
      "=====DecisionTreeRegressor(random_state=42)=====\n",
      "R2: 0.4816688175152417\n",
      "RMSE: 55889569.26\n",
      "MAE: 317.65\n",
      "p-value 3.8145110771852227e-44\n",
      "Hipótese nula rejeitada\n"
     ]
    },
    {
     "data": {
      "image/png": "[encoded data removed]",
      "text/plain": [
       "<Figure size 432x288 with 1 Axes>"
      ]
     },
     "metadata": {},
     "output_type": "display_data"
    }
   ],
   "source": [
    "comparar_modelos(models, pca36X_train, pca36X_test, y_train, y_test)"
   ]
  },
  {
   "cell_type": "code",
   "execution_count": 24,
   "metadata": {
    "ExecuteTime": {
     "start_time": "2021-04-17T22:24:30.271Z"
    },
    "scrolled": true
   },
   "outputs": [
    {
     "name": "stdout",
     "output_type": "stream",
     "text": [
      "=====DummyRegressor()=====\n",
      "R2: -7.031619915220944e-07\n",
      "RMSE: 107826058.81\n",
      "MAE: 1220.38\n",
      "p-value 3.501208156446174e-111\n",
      "Hipótese nula rejeitada\n"
     ]
    },
    {
     "data": {
      "image/png": "[encoded data removed]",
      "text/plain": [
       "<Figure size 432x288 with 1 Axes>"
      ]
     },
     "metadata": {},
     "output_type": "display_data"
    },
    {
     "name": "stdout",
     "output_type": "stream",
     "text": [
      "=====LinearRegression(n_jobs=-1)=====\n",
      "R2: 0.010949555517928866\n",
      "RMSE: 106645336.4\n",
      "MAE: 1277.94\n",
      "p-value 4.35625022074614e-111\n",
      "Hipótese nula rejeitada\n"
     ]
    },
    {
     "data": {
      "image/png": "[encoded data removed]",
      "text/plain": [
       "<Figure size 432x288 with 1 Axes>"
      ]
     },
     "metadata": {},
     "output_type": "display_data"
    },
    {
     "name": "stdout",
     "output_type": "stream",
     "text": [
      "=====SGDRegressor(random_state=42)=====\n",
      "R2: 0.010432323682670552\n",
      "RMSE: 106701107.43\n",
      "MAE: 1262.48\n",
      "p-value 4.952065693195604e-111\n",
      "Hipótese nula rejeitada\n"
     ]
    },
    {
     "data": {
      "image/png": "[encoded data removed]",
      "text/plain": [
       "<Figure size 432x288 with 1 Axes>"
      ]
     },
     "metadata": {},
     "output_type": "display_data"
    }
   ],
   "source": [
    "comparar_modelos(models_S, pca36_sX_train, pca36_sX_test, y_train, y_test)"
   ]
  },
  {
   "cell_type": "code",
   "execution_count": null,
   "metadata": {},
   "outputs": [],
   "source": []
  },
  {
   "cell_type": "code",
   "execution_count": null,
   "metadata": {},
   "outputs": [],
   "source": []
  },
  {
   "cell_type": "code",
   "execution_count": null,
   "metadata": {
    "ExecuteTime": {
     "start_time": "2021-04-16T22:18:00.308Z"
    }
   },
   "outputs": [],
   "source": [
    "# dtr = DecisionTreeRegressor()\n",
    "\n",
    "# distributions = {\n",
    "#     \"criterion\": ['mse', 'friedman_mse', 'mae'],\n",
    "#     \"max_depth\" : randint(low=1, high=6),\n",
    "#     \"min_samples_leaf\": uniform(loc=0.001, scale=0.005),\n",
    "#     \"random_state\": [42]\n",
    "# }\n",
    "\n",
    "# clf = RandomizedSearchCV(\n",
    "#     estimator = dtr, \n",
    "#     param_distributions = distributions, \n",
    "#     n_iter = 50, \n",
    "#     scoring = \"neg_mean_squared_error\", \n",
    "#     n_jobs = 4, \n",
    "#     cv = 10, \n",
    "#     random_state = 42\n",
    "# )\n",
    "\n",
    "# search_dtr = clf.fit(X_train, y_train) \n",
    "# result_dtr = search_dtr.cv_results_ \n",
    "# search_dtr.best_params_ \n",
    "\n",
    "# print(search_dtr.best_params_)\n",
    "\n",
    "# y_pred = clf.predict(X_test)\n",
    "# print('\\n clasification report:\\n', classification_report(y_test, y_pred, digits=3))"
   ]
  },
  {
   "cell_type": "code",
   "execution_count": null,
   "metadata": {
    "ExecuteTime": {
     "start_time": "2021-04-16T22:18:00.404Z"
    }
   },
   "outputs": [],
   "source": [
    "# dtr = DecisionTreeRegressor(**search.best_params_)\n",
    "# dtr.fit(X_train, y_train)\n",
    "# y_pred = dtr.predict(X_test)\n",
    "\n",
    "# r2_dtr = dtr.score(X_test, y_test)\n",
    "# print('R2:', r2_dtr)\n",
    "# rmse_dtr = mean_squared_error(y_test, y_pred)\n",
    "# print(\"RMSE:\", rmse_dtr)     \n",
    "# mae_dtr = mean_absolute_error(y_test, y_pred)\n",
    "# print(\"MAE:\", mae_dtr)    "
   ]
  },
  {
   "cell_type": "code",
   "execution_count": null,
   "metadata": {
    "ExecuteTime": {
     "start_time": "2021-04-16T22:18:00.510Z"
    }
   },
   "outputs": [],
   "source": [
    "# rfr = RandomForestRegressor()\n",
    "\n",
    "# distributions = {\n",
    "#     \"n_estimators\": randint(low=10, high=300),\n",
    "#     \"criterion\": ['mse', 'friedman_mse', 'mae'],\n",
    "#     \"max_features\": [\"sqrt\", \"log2\"],\n",
    "#     \"random_state\": [42]\n",
    "# }\n",
    "\n",
    "# clf = RandomizedSearchCV(\n",
    "#     estimator = rfr, \n",
    "#     param_distributions = distributions, \n",
    "#     n_iter = 50, \n",
    "#     scoring = \"neg_mean_squared_error\", \n",
    "#     n_jobs = 4, \n",
    "#     cv = 10, \n",
    "#     random_state = 42\n",
    "# )\n",
    "\n",
    "# search_rfr = clf.fit(X_train, y_train) \n",
    "# result_rfr = search_rfr.cv_results_ \n",
    "# search_rfr.best_params_ \n",
    "\n",
    "# print(search_rfr.best_params_)\n",
    "\n",
    "# y_pred = clf.predict(X_test)\n",
    "# print('\\n clasification report:\\n', classification_report(y_test, y_pred, digits=3))"
   ]
  },
  {
   "cell_type": "code",
   "execution_count": null,
   "metadata": {},
   "outputs": [],
   "source": []
  },
  {
   "cell_type": "code",
   "execution_count": null,
   "metadata": {},
   "outputs": [],
   "source": []
  },
  {
   "cell_type": "code",
   "execution_count": null,
   "metadata": {},
   "outputs": [],
   "source": []
  },
  {
   "cell_type": "code",
   "execution_count": null,
   "metadata": {},
   "outputs": [],
   "source": []
  },
  {
   "cell_type": "code",
   "execution_count": null,
   "metadata": {},
   "outputs": [],
   "source": []
  },
  {
   "cell_type": "code",
   "execution_count": null,
   "metadata": {},
   "outputs": [],
   "source": []
  },
  {
   "cell_type": "code",
   "execution_count": null,
   "metadata": {},
   "outputs": [],
   "source": []
  },
  {
   "cell_type": "code",
   "execution_count": null,
   "metadata": {},
   "outputs": [],
   "source": []
  },
  {
   "cell_type": "code",
   "execution_count": null,
   "metadata": {},
   "outputs": [],
   "source": []
  },
  {
   "cell_type": "code",
   "execution_count": 28,
   "metadata": {
    "ExecuteTime": {
     "end_time": "2021-04-17T21:13:44.886548Z",
     "start_time": "2021-04-17T21:13:43.762976Z"
    }
   },
   "outputs": [],
   "source": []
  },
  {
   "cell_type": "code",
   "execution_count": 30,
   "metadata": {
    "ExecuteTime": {
     "end_time": "2021-04-17T21:13:47.121221Z",
     "start_time": "2021-04-17T21:13:44.986168Z"
    }
   },
   "outputs": [],
   "source": []
  },
  {
   "cell_type": "code",
   "execution_count": 31,
   "metadata": {
    "ExecuteTime": {
     "end_time": "2021-04-17T21:13:54.754903Z",
     "start_time": "2021-04-17T21:13:54.726041Z"
    }
   },
   "outputs": [
    {
     "data": {
      "text/html": [
       "<div>\n",
       "<style scoped>\n",
       "    .dataframe tbody tr th:only-of-type {\n",
       "        vertical-align: middle;\n",
       "    }\n",
       "\n",
       "    .dataframe tbody tr th {\n",
       "        vertical-align: top;\n",
       "    }\n",
       "\n",
       "    .dataframe thead th {\n",
       "        text-align: right;\n",
       "    }\n",
       "</style>\n",
       "<table border=\"1\" class=\"dataframe\">\n",
       "  <thead>\n",
       "    <tr style=\"text-align: right;\">\n",
       "      <th></th>\n",
       "      <th>holiday</th>\n",
       "      <th>weekday</th>\n",
       "      <th>month</th>\n",
       "      <th>year</th>\n",
       "      <th>host_is_superhost</th>\n",
       "      <th>host_listings_count</th>\n",
       "      <th>host_has_profile_pic</th>\n",
       "      <th>host_identity_verified</th>\n",
       "      <th>accommodates</th>\n",
       "      <th>bedrooms</th>\n",
       "      <th>...</th>\n",
       "      <th>PCA26</th>\n",
       "      <th>PCA27</th>\n",
       "      <th>PCA28</th>\n",
       "      <th>PCA29</th>\n",
       "      <th>PCA30</th>\n",
       "      <th>PCA31</th>\n",
       "      <th>PCA32</th>\n",
       "      <th>PCA33</th>\n",
       "      <th>PCA34</th>\n",
       "      <th>PCA35</th>\n",
       "    </tr>\n",
       "  </thead>\n",
       "  <tbody>\n",
       "    <tr>\n",
       "      <th>0</th>\n",
       "      <td>0</td>\n",
       "      <td>1</td>\n",
       "      <td>2</td>\n",
       "      <td>2021</td>\n",
       "      <td>0</td>\n",
       "      <td>1.0</td>\n",
       "      <td>1</td>\n",
       "      <td>0</td>\n",
       "      <td>4</td>\n",
       "      <td>1.0</td>\n",
       "      <td>...</td>\n",
       "      <td>-0.765350</td>\n",
       "      <td>-0.329353</td>\n",
       "      <td>-0.025516</td>\n",
       "      <td>0.344103</td>\n",
       "      <td>0.771514</td>\n",
       "      <td>0.039460</td>\n",
       "      <td>-0.146500</td>\n",
       "      <td>0.048369</td>\n",
       "      <td>0.990008</td>\n",
       "      <td>-0.351523</td>\n",
       "    </tr>\n",
       "    <tr>\n",
       "      <th>1</th>\n",
       "      <td>0</td>\n",
       "      <td>2</td>\n",
       "      <td>2</td>\n",
       "      <td>2021</td>\n",
       "      <td>0</td>\n",
       "      <td>1.0</td>\n",
       "      <td>1</td>\n",
       "      <td>0</td>\n",
       "      <td>4</td>\n",
       "      <td>1.0</td>\n",
       "      <td>...</td>\n",
       "      <td>-0.765197</td>\n",
       "      <td>-0.332704</td>\n",
       "      <td>-0.023398</td>\n",
       "      <td>0.343707</td>\n",
       "      <td>0.771931</td>\n",
       "      <td>0.039085</td>\n",
       "      <td>-0.145980</td>\n",
       "      <td>0.048357</td>\n",
       "      <td>0.989289</td>\n",
       "      <td>-0.351309</td>\n",
       "    </tr>\n",
       "    <tr>\n",
       "      <th>2</th>\n",
       "      <td>0</td>\n",
       "      <td>3</td>\n",
       "      <td>2</td>\n",
       "      <td>2021</td>\n",
       "      <td>0</td>\n",
       "      <td>1.0</td>\n",
       "      <td>1</td>\n",
       "      <td>0</td>\n",
       "      <td>4</td>\n",
       "      <td>1.0</td>\n",
       "      <td>...</td>\n",
       "      <td>-0.765045</td>\n",
       "      <td>-0.336055</td>\n",
       "      <td>-0.021281</td>\n",
       "      <td>0.343311</td>\n",
       "      <td>0.772347</td>\n",
       "      <td>0.038710</td>\n",
       "      <td>-0.145459</td>\n",
       "      <td>0.048345</td>\n",
       "      <td>0.988570</td>\n",
       "      <td>-0.351095</td>\n",
       "    </tr>\n",
       "    <tr>\n",
       "      <th>3</th>\n",
       "      <td>0</td>\n",
       "      <td>4</td>\n",
       "      <td>2</td>\n",
       "      <td>2021</td>\n",
       "      <td>0</td>\n",
       "      <td>1.0</td>\n",
       "      <td>1</td>\n",
       "      <td>0</td>\n",
       "      <td>4</td>\n",
       "      <td>1.0</td>\n",
       "      <td>...</td>\n",
       "      <td>-0.764893</td>\n",
       "      <td>-0.339406</td>\n",
       "      <td>-0.019163</td>\n",
       "      <td>0.342916</td>\n",
       "      <td>0.772764</td>\n",
       "      <td>0.038336</td>\n",
       "      <td>-0.144938</td>\n",
       "      <td>0.048333</td>\n",
       "      <td>0.987851</td>\n",
       "      <td>-0.350881</td>\n",
       "    </tr>\n",
       "    <tr>\n",
       "      <th>4</th>\n",
       "      <td>0</td>\n",
       "      <td>5</td>\n",
       "      <td>2</td>\n",
       "      <td>2021</td>\n",
       "      <td>0</td>\n",
       "      <td>1.0</td>\n",
       "      <td>1</td>\n",
       "      <td>0</td>\n",
       "      <td>4</td>\n",
       "      <td>1.0</td>\n",
       "      <td>...</td>\n",
       "      <td>-0.764741</td>\n",
       "      <td>-0.342757</td>\n",
       "      <td>-0.017046</td>\n",
       "      <td>0.342520</td>\n",
       "      <td>0.773180</td>\n",
       "      <td>0.037961</td>\n",
       "      <td>-0.144417</td>\n",
       "      <td>0.048321</td>\n",
       "      <td>0.987132</td>\n",
       "      <td>-0.350667</td>\n",
       "    </tr>\n",
       "  </tbody>\n",
       "</table>\n",
       "<p>5 rows × 90 columns</p>\n",
       "</div>"
      ],
      "text/plain": [
       "   holiday  weekday  month  year  host_is_superhost  host_listings_count  \\\n",
       "0        0        1      2  2021                  0                  1.0   \n",
       "1        0        2      2  2021                  0                  1.0   \n",
       "2        0        3      2  2021                  0                  1.0   \n",
       "3        0        4      2  2021                  0                  1.0   \n",
       "4        0        5      2  2021                  0                  1.0   \n",
       "\n",
       "   host_has_profile_pic  host_identity_verified  accommodates  bedrooms  ...  \\\n",
       "0                     1                       0             4       1.0  ...   \n",
       "1                     1                       0             4       1.0  ...   \n",
       "2                     1                       0             4       1.0  ...   \n",
       "3                     1                       0             4       1.0  ...   \n",
       "4                     1                       0             4       1.0  ...   \n",
       "\n",
       "      PCA26     PCA27     PCA28     PCA29     PCA30     PCA31     PCA32  \\\n",
       "0 -0.765350 -0.329353 -0.025516  0.344103  0.771514  0.039460 -0.146500   \n",
       "1 -0.765197 -0.332704 -0.023398  0.343707  0.771931  0.039085 -0.145980   \n",
       "2 -0.765045 -0.336055 -0.021281  0.343311  0.772347  0.038710 -0.145459   \n",
       "3 -0.764893 -0.339406 -0.019163  0.342916  0.772764  0.038336 -0.144938   \n",
       "4 -0.764741 -0.342757 -0.017046  0.342520  0.773180  0.037961 -0.144417   \n",
       "\n",
       "      PCA33     PCA34     PCA35  \n",
       "0  0.048369  0.990008 -0.351523  \n",
       "1  0.048357  0.989289 -0.351309  \n",
       "2  0.048345  0.988570 -0.351095  \n",
       "3  0.048333  0.987851 -0.350881  \n",
       "4  0.048321  0.987132 -0.350667  \n",
       "\n",
       "[5 rows x 90 columns]"
      ]
     },
     "execution_count": 31,
     "metadata": {},
     "output_type": "execute_result"
    }
   ],
   "source": []
  },
  {
   "cell_type": "code",
   "execution_count": 9,
   "metadata": {
    "ExecuteTime": {
     "end_time": "2021-04-17T13:09:58.687779Z",
     "start_time": "2021-04-17T13:09:57.060646Z"
    }
   },
   "outputs": [],
   "source": []
  },
  {
   "cell_type": "code",
   "execution_count": 10,
   "metadata": {
    "ExecuteTime": {
     "end_time": "2021-04-17T13:10:00.344650Z",
     "start_time": "2021-04-17T13:10:00.338368Z"
    }
   },
   "outputs": [],
   "source": []
  },
  {
   "cell_type": "code",
   "execution_count": null,
   "metadata": {
    "ExecuteTime": {
     "end_time": "2021-04-16T11:30:05.146982Z",
     "start_time": "2021-04-16T11:29:46.870534Z"
    }
   },
   "outputs": [],
   "source": []
  },
  {
   "cell_type": "code",
   "execution_count": null,
   "metadata": {
    "ExecuteTime": {
     "start_time": "2021-04-16T22:18:01.446Z"
    }
   },
   "outputs": [],
   "source": [
    "# for col, val in sorted(\n",
    "#     zip(\n",
    "#         X_train.columns,\n",
    "#         cls.feature_importances_,\n",
    "#     ),\n",
    "#     key=lambda x: x[1],\n",
    "#     reverse=True,\n",
    "# ):\n",
    "#     print(f\"{col:10}{val:10.3f}\")\n",
    "\n"
   ]
  },
  {
   "cell_type": "code",
   "execution_count": null,
   "metadata": {},
   "outputs": [],
   "source": []
  }
 ],
 "metadata": {
  "kernelspec": {
   "display_name": "Python 3",
   "language": "python",
   "name": "python3"
  },
  "language_info": {
   "codemirror_mode": {
    "name": "ipython",
    "version": 3
   },
   "file_extension": ".py",
   "mimetype": "text/x-python",
   "name": "python",
   "nbconvert_exporter": "python",
   "pygments_lexer": "ipython3",
   "version": "3.8.5"
  },
  "nbTranslate": {
   "displayLangs": [
    "*"
   ],
   "hotkey": "alt-t",
   "langInMainMenu": true,
   "sourceLang": "en",
   "targetLang": "fr",
   "useGoogleTranslate": true
  },
  "toc": {
   "base_numbering": 1,
   "nav_menu": {},
   "number_sections": true,
   "sideBar": true,
   "skip_h1_title": false,
   "title_cell": "Table of Contents",
   "title_sidebar": "Contents",
   "toc_cell": false,
   "toc_position": {
    "height": "calc(100% - 180px)",
    "left": "10px",
    "top": "150px",
    "width": "453.4px"
   },
   "toc_section_display": true,
   "toc_window_display": true
  }
 },
 "nbformat": 4,
 "nbformat_minor": 4
}
