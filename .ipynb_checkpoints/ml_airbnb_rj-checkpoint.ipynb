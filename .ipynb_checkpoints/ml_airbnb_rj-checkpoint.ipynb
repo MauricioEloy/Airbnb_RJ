{
 "cells": [
  {
   "cell_type": "markdown",
   "metadata": {},
   "source": [
    "<p> <img src=\"LOGO.png\"  align=\"midle\"></p>\n",
    "\n",
    "**Data Science**<br>\n",
    "\n",
    "*profmauricioeloy@gmail.com | mauricioeloy@usp.br.<br>*"
   ]
  },
  {
   "cell_type": "markdown",
   "metadata": {
    "ExecuteTime": {
     "end_time": "2021-03-23T02:45:00.249551Z",
     "start_time": "2021-03-23T02:45:00.239616Z"
    }
   },
   "source": [
    "**Sumário:**\n",
    "\n",
    "\n",
    "* [1. Introdução](#1)\n",
    "    * [1.1 Formulação do Problema](#1.1)\n",
    "    * [1.2 Bibliotecas e Utilitários](#1.2)\n",
    "    * [1.3 Carregando Dados](#1.3)\n",
    "* [2. Análise Exploratória de Dados (EDA)](#2)\n",
    "    * [2.1 Automatic EDA - Pandas Profiling](#2.1)\n",
    "* [3. Pré-processamento de Dados](#3)\n",
    "    * [3.1 'listings'](#3.1)\n",
    "        * [3.1.1 Exclusão de algumas variáveis](#3.1.1)\n",
    "        * [3.1.2 host_since](#3.1.2)\n",
    "        * [3.1.3 host_since_rate](#3.1.3)\n",
    "        * [3.1.4 property_type](#3.1.4)\n",
    "        * [3.1.5 neighbourd_cleansed](#3.1.5)\n",
    "        * [3.1.6 host_verifications | amenties](#3.1.6)\n",
    "        * [3.1.7 Completando dados faltantes](#3.1.7)\n",
    "        * [3.1.8 Label Encoding](#3.1.8)\n",
    "        * [3.1.9 Eliminação de Outliers](#3.1.9)\n",
    "    * [3.2 'calendar'](#3.2)\n",
    "        * [3.2.1 Exclusão de algumas variáveis](#3.2.1)\n",
    "        * [3.2.2 price](#3.2.2)\n",
    "        * [3.2.3 date](#3.2.3)\n",
    "    * [3.3 Merge entre 'calendar' e 'listings'](#3.3)\n",
    "    * [3.4 Variáveis Dummies](#3.4)\n",
    "* [4. Feature Importance](#4) \n",
    "    * [4.1 Separaão dos conjuntos X e y](#4.1)\n",
    "    * [4.2 Padronização dos Dados](#4.1)\n",
    "    * [4.3 Feature Importantes](#4.1)    \n",
    "        * [4.3.1 Análise de Componentes Principais](#4.3.1)\n",
    "            * [4.3.1.1 Número de componentes a ser utilizado](#4.3.1.1)\n",
    "            * [4.3.1.2 Importância dos atributos](#4.3.1.2)\n",
    "            * [4.3.1.3 Incorporando as 41 componentes principais](#4.3.1.3)\n",
    "        * [4.3.2 LASSO](#4.3.2)\n",
    "            * [4.3.2.1 Treinamento e obtenção dos coeficientes](#4.3.2.1)\n",
    "            * [4.3.2.2 Importância dos atributos](#4.3.2.2)\n",
    "        * [4.3.3 Atributos PCA & LASSO](#4.3.3)\n",
    "* [5. Criação do Modelo](#5) \n",
    "    * [5.1 Comparação de Modelos](#5.1)\n",
    "        * [5.1.1 Função de Comparação e Modelos](#5.1.1)\n",
    "        * [5.1.2 Treino e Teste](#5.1.2)\n",
    "        * [5.1.3 Features PCA & LASSO](#5.1.3)\n",
    "            * [5.1.3.1 Aplicação do filtro](#5.1.3.1)\n",
    "            * [5.1.3.2 Comparação dos Modelos](#5.1.3.2)\n",
    "        * [5.1.4 Features PCA](#5.1.4)\n",
    "            * [5.1.4.1 Aplicação do filtro](#5.1.4.1)\n",
    "            * [5.1.4.2 Comparação dos Modelos](#5.1.4.2)\n",
    "        * [5.1.5 Features LASSO](#5.1.5)\n",
    "            * [5.1.5.1 Aplicação do filtro](#5.1.5.1)\n",
    "            * [5.1.5.2 Comparação dos Modelos](#5.1.5.2)\n",
    "        * [5.1.6 Featurres com as 41 componentes do PCA](#5.1.3)\n",
    "            * [5.1.6.1 Aplicação do filtro](#5.1.6.1)\n",
    "            * [5.1.6.2 Comparação dos Modelos](#5.1.6.2)\n",
    "        * [5.1.7 Todas as Features](#5.1.7)\n",
    "            * [5.1.7.1 Comparação dos Modelos](#5.1.7.1)\n",
    "    * [5.2 Análise do melhor modelo](#5.2)\n",
    "        * [5.2.1 Métricas](#5.2.1)\n",
    "        * [5.2.2 Features Importantes classificadas pelo modelo](#5.2.2)\n",
    "        * [5.2.3 Gráfico de erros de predição](#5.2.3)\n",
    "* [6. Conclusão](#6) "
   ]
  },
  {
   "cell_type": "markdown",
   "metadata": {},
   "source": [
    "<a id=\"1\"></a>\n",
    "<h1 style=\"background-color:orange;font-family:newtimeroman;font-size:300%;text-align:center;border-radius: 15px 50px;\">Introdução</h1>"
   ]
  },
  {
   "cell_type": "markdown",
   "metadata": {},
   "source": [
    "<a id=\"1.1\"></a>\n",
    "<h2 style=\"background-color:orange;font-family:newtimeroman;font-size:200%;text-align:center;border-radius: 15px 50px;\">Formulação do Problema</h2>"
   ]
  },
  {
   "cell_type": "markdown",
   "metadata": {},
   "source": [
    "Fazer uma análise exploratória para avaliar a consistência dos dados e identificar possíveis variáveis que impactam sua variável resposta.\n",
    "\n",
    "Para posteriormente realizar a previsão do preço da estadia (feature ‘price’)"
   ]
  },
  {
   "cell_type": "markdown",
   "metadata": {},
   "source": [
    "<a id=\"1.2\"></a>\n",
    "<h2 style=\"background-color:orange;font-family:newtimeroman;font-size:200%;text-align:center;border-radius: 15px 50px;\">Bibliotecas e Utilitários</h2>"
   ]
  },
  {
   "cell_type": "code",
   "execution_count": 1,
   "metadata": {
    "ExecuteTime": {
     "end_time": "2021-04-19T12:17:43.460242Z",
     "start_time": "2021-04-19T12:17:39.074021Z"
    }
   },
   "outputs": [],
   "source": [
    "#basicas\n",
    "import pandas as pd\n",
    "import numpy as np\n",
    "import matplotlib.pyplot as plt\n",
    "%matplotlib inline\n",
    "import seaborn as sns\n",
    "sns.set()\n",
    "\n",
    "import statsmodels.stats.api as sms\n",
    "\n",
    "\n",
    "#EDA\n",
    "import pandas_profiling as pdpf\n",
    "\n",
    "import holidays\n",
    "\n",
    "from sklearn.model_selection import (train_test_split,RandomizedSearchCV)\n",
    "\n",
    "from sklearn.preprocessing import StandardScaler\n",
    "\n",
    "from sklearn.decomposition import PCA \n",
    "\n",
    "from sklearn.dummy import DummyRegressor\n",
    "\n",
    "from sklearn.linear_model import (LinearRegression, Lasso)\n",
    "\n",
    "from sklearn.tree import (DecisionTreeRegressor)\n",
    "\n",
    "from sklearn.ensemble import (RandomForestRegressor)\n",
    "\n",
    "import xgboost\n",
    "\n",
    "from sklearn.metrics import (r2_score, mean_absolute_error, mean_squared_error)\n",
    "\n",
    "from scipy.stats import (uniform, randint)\n",
    "from scipy import stats"
   ]
  },
  {
   "cell_type": "markdown",
   "metadata": {},
   "source": [
    "<a id=\"1.3\"></a>\n",
    "<h2 style=\"background-color:orange;font-family:newtimeroman;font-size:200%;text-align:center;border-radius: 15px 50px;\">Carregando Dados</h2>\n",
    "\n",
    "Os dados utilizados são do Airbnb Rio de Janeiro, conforme fonte:\n",
    "http://insideairbnb.com/get-the-data.html.\n",
    "\n",
    "* listings.csv.gz: Dados detalhados de listagens para o Rio de Janeiro. \n",
    "    \n",
    "*  calendar.csv.gz: Dados detalhados do calendário para listagens no Rio de Janeiro."
   ]
  },
  {
   "cell_type": "code",
   "execution_count": 2,
   "metadata": {
    "ExecuteTime": {
     "end_time": "2021-04-18T17:04:55.782232Z",
     "start_time": "2021-04-18T17:04:54.821957Z"
    }
   },
   "outputs": [
    {
     "data": {
      "text/html": [
       "<div>\n",
       "<style scoped>\n",
       "    .dataframe tbody tr th:only-of-type {\n",
       "        vertical-align: middle;\n",
       "    }\n",
       "\n",
       "    .dataframe tbody tr th {\n",
       "        vertical-align: top;\n",
       "    }\n",
       "\n",
       "    .dataframe thead th {\n",
       "        text-align: right;\n",
       "    }\n",
       "</style>\n",
       "<table border=\"1\" class=\"dataframe\">\n",
       "  <thead>\n",
       "    <tr style=\"text-align: right;\">\n",
       "      <th></th>\n",
       "      <th>id</th>\n",
       "      <th>listing_url</th>\n",
       "      <th>scrape_id</th>\n",
       "      <th>last_scraped</th>\n",
       "      <th>name</th>\n",
       "      <th>description</th>\n",
       "      <th>neighborhood_overview</th>\n",
       "      <th>picture_url</th>\n",
       "      <th>host_id</th>\n",
       "      <th>host_url</th>\n",
       "      <th>...</th>\n",
       "      <th>review_scores_communication</th>\n",
       "      <th>review_scores_location</th>\n",
       "      <th>review_scores_value</th>\n",
       "      <th>license</th>\n",
       "      <th>instant_bookable</th>\n",
       "      <th>calculated_host_listings_count</th>\n",
       "      <th>calculated_host_listings_count_entire_homes</th>\n",
       "      <th>calculated_host_listings_count_private_rooms</th>\n",
       "      <th>calculated_host_listings_count_shared_rooms</th>\n",
       "      <th>reviews_per_month</th>\n",
       "    </tr>\n",
       "  </thead>\n",
       "  <tbody>\n",
       "    <tr>\n",
       "      <th>0</th>\n",
       "      <td>17878</td>\n",
       "      <td>https://www.airbnb.com/rooms/17878</td>\n",
       "      <td>20210222161029</td>\n",
       "      <td>2021-02-23</td>\n",
       "      <td>Very Nice 2Br in Copacabana w. balcony, fast WiFi</td>\n",
       "      <td>Discounts for long term stays. &lt;br /&gt;- Large b...</td>\n",
       "      <td>This is the one of the bests spots in Rio. Bec...</td>\n",
       "      <td>https://a0.muscache.com/pictures/65320518/3069...</td>\n",
       "      <td>68997</td>\n",
       "      <td>https://www.airbnb.com/users/show/68997</td>\n",
       "      <td>...</td>\n",
       "      <td>10.0</td>\n",
       "      <td>10.0</td>\n",
       "      <td>9.0</td>\n",
       "      <td>NaN</td>\n",
       "      <td>t</td>\n",
       "      <td>1</td>\n",
       "      <td>1</td>\n",
       "      <td>0</td>\n",
       "      <td>0</td>\n",
       "      <td>2.01</td>\n",
       "    </tr>\n",
       "    <tr>\n",
       "      <th>1</th>\n",
       "      <td>24480</td>\n",
       "      <td>https://www.airbnb.com/rooms/24480</td>\n",
       "      <td>20210222161029</td>\n",
       "      <td>2021-02-23</td>\n",
       "      <td>Nice and cozy near Ipanema Beach</td>\n",
       "      <td>My studio is located in the best  of Ipanema. ...</td>\n",
       "      <td>The beach, the lagoon, Ipanema is a great loca...</td>\n",
       "      <td>https://a0.muscache.com/pictures/11955612/b28e...</td>\n",
       "      <td>99249</td>\n",
       "      <td>https://www.airbnb.com/users/show/99249</td>\n",
       "      <td>...</td>\n",
       "      <td>10.0</td>\n",
       "      <td>10.0</td>\n",
       "      <td>9.0</td>\n",
       "      <td>NaN</td>\n",
       "      <td>f</td>\n",
       "      <td>1</td>\n",
       "      <td>1</td>\n",
       "      <td>0</td>\n",
       "      <td>0</td>\n",
       "      <td>0.67</td>\n",
       "    </tr>\n",
       "    <tr>\n",
       "      <th>2</th>\n",
       "      <td>25026</td>\n",
       "      <td>https://www.airbnb.com/rooms/25026</td>\n",
       "      <td>20210222161029</td>\n",
       "      <td>2021-02-23</td>\n",
       "      <td>Beautiful Modern Decorated Studio in Copa</td>\n",
       "      <td>Our apartment is a little gem, everyone loves ...</td>\n",
       "      <td>Copacabana is a lively neighborhood and the ap...</td>\n",
       "      <td>https://a0.muscache.com/pictures/3003965/68ebb...</td>\n",
       "      <td>3746246</td>\n",
       "      <td>https://www.airbnb.com/users/show/3746246</td>\n",
       "      <td>...</td>\n",
       "      <td>10.0</td>\n",
       "      <td>10.0</td>\n",
       "      <td>9.0</td>\n",
       "      <td>NaN</td>\n",
       "      <td>f</td>\n",
       "      <td>11</td>\n",
       "      <td>11</td>\n",
       "      <td>0</td>\n",
       "      <td>0</td>\n",
       "      <td>1.82</td>\n",
       "    </tr>\n",
       "    <tr>\n",
       "      <th>3</th>\n",
       "      <td>35636</td>\n",
       "      <td>https://www.airbnb.com/rooms/35636</td>\n",
       "      <td>20210222161029</td>\n",
       "      <td>2021-02-24</td>\n",
       "      <td>Cosy flat close to Ipanema beach</td>\n",
       "      <td>This cosy apartment  is just a few steps away ...</td>\n",
       "      <td>The  apartment street is very quiet and safe ....</td>\n",
       "      <td>https://a0.muscache.com/pictures/20009355/38b6...</td>\n",
       "      <td>153232</td>\n",
       "      <td>https://www.airbnb.com/users/show/153232</td>\n",
       "      <td>...</td>\n",
       "      <td>10.0</td>\n",
       "      <td>10.0</td>\n",
       "      <td>9.0</td>\n",
       "      <td>NaN</td>\n",
       "      <td>f</td>\n",
       "      <td>1</td>\n",
       "      <td>1</td>\n",
       "      <td>0</td>\n",
       "      <td>0</td>\n",
       "      <td>2.02</td>\n",
       "    </tr>\n",
       "    <tr>\n",
       "      <th>4</th>\n",
       "      <td>35764</td>\n",
       "      <td>https://www.airbnb.com/rooms/35764</td>\n",
       "      <td>20210222161029</td>\n",
       "      <td>2021-02-23</td>\n",
       "      <td>COPACABANA SEA BREEZE  -  RIO - 20 X Superhost</td>\n",
       "      <td>Our newly renovated studio is located in the b...</td>\n",
       "      <td>Our guests will experience living with a local...</td>\n",
       "      <td>https://a0.muscache.com/pictures/23782972/1d3e...</td>\n",
       "      <td>153691</td>\n",
       "      <td>https://www.airbnb.com/users/show/153691</td>\n",
       "      <td>...</td>\n",
       "      <td>10.0</td>\n",
       "      <td>10.0</td>\n",
       "      <td>10.0</td>\n",
       "      <td>NaN</td>\n",
       "      <td>f</td>\n",
       "      <td>1</td>\n",
       "      <td>1</td>\n",
       "      <td>0</td>\n",
       "      <td>0</td>\n",
       "      <td>2.79</td>\n",
       "    </tr>\n",
       "  </tbody>\n",
       "</table>\n",
       "<p>5 rows × 74 columns</p>\n",
       "</div>"
      ],
      "text/plain": [
       "      id                         listing_url       scrape_id last_scraped  \\\n",
       "0  17878  https://www.airbnb.com/rooms/17878  20210222161029   2021-02-23   \n",
       "1  24480  https://www.airbnb.com/rooms/24480  20210222161029   2021-02-23   \n",
       "2  25026  https://www.airbnb.com/rooms/25026  20210222161029   2021-02-23   \n",
       "3  35636  https://www.airbnb.com/rooms/35636  20210222161029   2021-02-24   \n",
       "4  35764  https://www.airbnb.com/rooms/35764  20210222161029   2021-02-23   \n",
       "\n",
       "                                                name  \\\n",
       "0  Very Nice 2Br in Copacabana w. balcony, fast WiFi   \n",
       "1                   Nice and cozy near Ipanema Beach   \n",
       "2          Beautiful Modern Decorated Studio in Copa   \n",
       "3                   Cosy flat close to Ipanema beach   \n",
       "4     COPACABANA SEA BREEZE  -  RIO - 20 X Superhost   \n",
       "\n",
       "                                         description  \\\n",
       "0  Discounts for long term stays. <br />- Large b...   \n",
       "1  My studio is located in the best  of Ipanema. ...   \n",
       "2  Our apartment is a little gem, everyone loves ...   \n",
       "3  This cosy apartment  is just a few steps away ...   \n",
       "4  Our newly renovated studio is located in the b...   \n",
       "\n",
       "                               neighborhood_overview  \\\n",
       "0  This is the one of the bests spots in Rio. Bec...   \n",
       "1  The beach, the lagoon, Ipanema is a great loca...   \n",
       "2  Copacabana is a lively neighborhood and the ap...   \n",
       "3  The  apartment street is very quiet and safe ....   \n",
       "4  Our guests will experience living with a local...   \n",
       "\n",
       "                                         picture_url  host_id  \\\n",
       "0  https://a0.muscache.com/pictures/65320518/3069...    68997   \n",
       "1  https://a0.muscache.com/pictures/11955612/b28e...    99249   \n",
       "2  https://a0.muscache.com/pictures/3003965/68ebb...  3746246   \n",
       "3  https://a0.muscache.com/pictures/20009355/38b6...   153232   \n",
       "4  https://a0.muscache.com/pictures/23782972/1d3e...   153691   \n",
       "\n",
       "                                    host_url  ... review_scores_communication  \\\n",
       "0    https://www.airbnb.com/users/show/68997  ...                        10.0   \n",
       "1    https://www.airbnb.com/users/show/99249  ...                        10.0   \n",
       "2  https://www.airbnb.com/users/show/3746246  ...                        10.0   \n",
       "3   https://www.airbnb.com/users/show/153232  ...                        10.0   \n",
       "4   https://www.airbnb.com/users/show/153691  ...                        10.0   \n",
       "\n",
       "  review_scores_location review_scores_value license instant_bookable  \\\n",
       "0                   10.0                 9.0     NaN                t   \n",
       "1                   10.0                 9.0     NaN                f   \n",
       "2                   10.0                 9.0     NaN                f   \n",
       "3                   10.0                 9.0     NaN                f   \n",
       "4                   10.0                10.0     NaN                f   \n",
       "\n",
       "  calculated_host_listings_count calculated_host_listings_count_entire_homes  \\\n",
       "0                              1                                           1   \n",
       "1                              1                                           1   \n",
       "2                             11                                          11   \n",
       "3                              1                                           1   \n",
       "4                              1                                           1   \n",
       "\n",
       "  calculated_host_listings_count_private_rooms  \\\n",
       "0                                            0   \n",
       "1                                            0   \n",
       "2                                            0   \n",
       "3                                            0   \n",
       "4                                            0   \n",
       "\n",
       "  calculated_host_listings_count_shared_rooms reviews_per_month  \n",
       "0                                           0              2.01  \n",
       "1                                           0              0.67  \n",
       "2                                           0              1.82  \n",
       "3                                           0              2.02  \n",
       "4                                           0              2.79  \n",
       "\n",
       "[5 rows x 74 columns]"
      ]
     },
     "execution_count": 2,
     "metadata": {},
     "output_type": "execute_result"
    }
   ],
   "source": [
    "listings= pd.read_csv('../airbnb/data/listings.csv.gz')\n",
    "listings.head()"
   ]
  },
  {
   "cell_type": "code",
   "execution_count": 3,
   "metadata": {
    "ExecuteTime": {
     "end_time": "2021-04-18T17:04:55.842441Z",
     "start_time": "2021-04-18T17:04:55.783841Z"
    }
   },
   "outputs": [
    {
     "name": "stdout",
     "output_type": "stream",
     "text": [
      "<class 'pandas.core.frame.DataFrame'>\n",
      "RangeIndex: 26615 entries, 0 to 26614\n",
      "Data columns (total 74 columns):\n",
      " #   Column                                        Non-Null Count  Dtype  \n",
      "---  ------                                        --------------  -----  \n",
      " 0   id                                            26615 non-null  int64  \n",
      " 1   listing_url                                   26615 non-null  object \n",
      " 2   scrape_id                                     26615 non-null  int64  \n",
      " 3   last_scraped                                  26615 non-null  object \n",
      " 4   name                                          26586 non-null  object \n",
      " 5   description                                   25160 non-null  object \n",
      " 6   neighborhood_overview                         14314 non-null  object \n",
      " 7   picture_url                                   26615 non-null  object \n",
      " 8   host_id                                       26615 non-null  int64  \n",
      " 9   host_url                                      26615 non-null  object \n",
      " 10  host_name                                     26591 non-null  object \n",
      " 11  host_since                                    26591 non-null  object \n",
      " 12  host_location                                 26508 non-null  object \n",
      " 13  host_about                                    12895 non-null  object \n",
      " 14  host_response_time                            18599 non-null  object \n",
      " 15  host_response_rate                            18599 non-null  object \n",
      " 16  host_acceptance_rate                          17074 non-null  object \n",
      " 17  host_is_superhost                             26591 non-null  object \n",
      " 18  host_thumbnail_url                            26591 non-null  object \n",
      " 19  host_picture_url                              26591 non-null  object \n",
      " 20  host_neighbourhood                            15344 non-null  object \n",
      " 21  host_listings_count                           26591 non-null  float64\n",
      " 22  host_total_listings_count                     26591 non-null  float64\n",
      " 23  host_verifications                            26615 non-null  object \n",
      " 24  host_has_profile_pic                          26591 non-null  object \n",
      " 25  host_identity_verified                        26591 non-null  object \n",
      " 26  neighbourhood                                 14314 non-null  object \n",
      " 27  neighbourhood_cleansed                        26615 non-null  object \n",
      " 28  neighbourhood_group_cleansed                  0 non-null      float64\n",
      " 29  latitude                                      26615 non-null  float64\n",
      " 30  longitude                                     26615 non-null  float64\n",
      " 31  property_type                                 26615 non-null  object \n",
      " 32  room_type                                     26615 non-null  object \n",
      " 33  accommodates                                  26615 non-null  int64  \n",
      " 34  bathrooms                                     0 non-null      float64\n",
      " 35  bathrooms_text                                26543 non-null  object \n",
      " 36  bedrooms                                      24869 non-null  float64\n",
      " 37  beds                                          26363 non-null  float64\n",
      " 38  amenities                                     26615 non-null  object \n",
      " 39  price                                         26615 non-null  object \n",
      " 40  minimum_nights                                26615 non-null  int64  \n",
      " 41  maximum_nights                                26615 non-null  int64  \n",
      " 42  minimum_minimum_nights                        26531 non-null  float64\n",
      " 43  maximum_minimum_nights                        26531 non-null  float64\n",
      " 44  minimum_maximum_nights                        26531 non-null  float64\n",
      " 45  maximum_maximum_nights                        26531 non-null  float64\n",
      " 46  minimum_nights_avg_ntm                        26531 non-null  float64\n",
      " 47  maximum_nights_avg_ntm                        26531 non-null  float64\n",
      " 48  calendar_updated                              0 non-null      float64\n",
      " 49  has_availability                              26615 non-null  object \n",
      " 50  availability_30                               26615 non-null  int64  \n",
      " 51  availability_60                               26615 non-null  int64  \n",
      " 52  availability_90                               26615 non-null  int64  \n",
      " 53  availability_365                              26615 non-null  int64  \n",
      " 54  calendar_last_scraped                         26615 non-null  object \n",
      " 55  number_of_reviews                             26615 non-null  int64  \n",
      " 56  number_of_reviews_ltm                         26615 non-null  int64  \n",
      " 57  number_of_reviews_l30d                        26615 non-null  int64  \n",
      " 58  first_review                                  16657 non-null  object \n",
      " 59  last_review                                   16657 non-null  object \n",
      " 60  review_scores_rating                          16118 non-null  float64\n",
      " 61  review_scores_accuracy                        16104 non-null  float64\n",
      " 62  review_scores_cleanliness                     16107 non-null  float64\n",
      " 63  review_scores_checkin                         16106 non-null  float64\n",
      " 64  review_scores_communication                   16110 non-null  float64\n",
      " 65  review_scores_location                        16106 non-null  float64\n",
      " 66  review_scores_value                           16108 non-null  float64\n",
      " 67  license                                       0 non-null      float64\n",
      " 68  instant_bookable                              26615 non-null  object \n",
      " 69  calculated_host_listings_count                26615 non-null  int64  \n",
      " 70  calculated_host_listings_count_entire_homes   26615 non-null  int64  \n",
      " 71  calculated_host_listings_count_private_rooms  26615 non-null  int64  \n",
      " 72  calculated_host_listings_count_shared_rooms   26615 non-null  int64  \n",
      " 73  reviews_per_month                             16657 non-null  float64\n",
      "dtypes: float64(24), int64(17), object(33)\n",
      "memory usage: 15.0+ MB\n"
     ]
    }
   ],
   "source": [
    "listings.info()"
   ]
  },
  {
   "cell_type": "code",
   "execution_count": 4,
   "metadata": {
    "ExecuteTime": {
     "end_time": "2021-04-18T17:04:56.385400Z",
     "start_time": "2021-04-18T17:04:56.322324Z"
    }
   },
   "outputs": [
    {
     "data": {
      "text/plain": [
       "id                                                 0\n",
       "listing_url                                        0\n",
       "scrape_id                                          0\n",
       "last_scraped                                       0\n",
       "name                                              29\n",
       "                                                ... \n",
       "calculated_host_listings_count                     0\n",
       "calculated_host_listings_count_entire_homes        0\n",
       "calculated_host_listings_count_private_rooms       0\n",
       "calculated_host_listings_count_shared_rooms        0\n",
       "reviews_per_month                               9958\n",
       "Length: 74, dtype: int64"
      ]
     },
     "execution_count": 4,
     "metadata": {},
     "output_type": "execute_result"
    }
   ],
   "source": [
    "listings.isnull().sum()"
   ]
  },
  {
   "cell_type": "code",
   "execution_count": 5,
   "metadata": {
    "ExecuteTime": {
     "end_time": "2021-04-18T17:04:57.100730Z",
     "start_time": "2021-04-18T17:04:56.920552Z"
    }
   },
   "outputs": [
    {
     "data": {
      "text/plain": [
       "0"
      ]
     },
     "execution_count": 5,
     "metadata": {},
     "output_type": "execute_result"
    }
   ],
   "source": [
    "listings.duplicated().sum()"
   ]
  },
  {
   "cell_type": "code",
   "execution_count": 6,
   "metadata": {
    "ExecuteTime": {
     "end_time": "2021-04-18T17:05:03.197938Z",
     "start_time": "2021-04-18T17:04:57.501942Z"
    }
   },
   "outputs": [
    {
     "data": {
      "text/html": [
       "<div>\n",
       "<style scoped>\n",
       "    .dataframe tbody tr th:only-of-type {\n",
       "        vertical-align: middle;\n",
       "    }\n",
       "\n",
       "    .dataframe tbody tr th {\n",
       "        vertical-align: top;\n",
       "    }\n",
       "\n",
       "    .dataframe thead th {\n",
       "        text-align: right;\n",
       "    }\n",
       "</style>\n",
       "<table border=\"1\" class=\"dataframe\">\n",
       "  <thead>\n",
       "    <tr style=\"text-align: right;\">\n",
       "      <th></th>\n",
       "      <th>listing_id</th>\n",
       "      <th>date</th>\n",
       "      <th>available</th>\n",
       "      <th>price</th>\n",
       "      <th>adjusted_price</th>\n",
       "      <th>minimum_nights</th>\n",
       "      <th>maximum_nights</th>\n",
       "    </tr>\n",
       "  </thead>\n",
       "  <tbody>\n",
       "    <tr>\n",
       "      <th>0</th>\n",
       "      <td>45766287</td>\n",
       "      <td>2021-02-23</td>\n",
       "      <td>f</td>\n",
       "      <td>$150.00</td>\n",
       "      <td>$150.00</td>\n",
       "      <td>2.0</td>\n",
       "      <td>1125.0</td>\n",
       "    </tr>\n",
       "    <tr>\n",
       "      <th>1</th>\n",
       "      <td>45764740</td>\n",
       "      <td>2021-02-24</td>\n",
       "      <td>f</td>\n",
       "      <td>$100.00</td>\n",
       "      <td>$100.00</td>\n",
       "      <td>1.0</td>\n",
       "      <td>4.0</td>\n",
       "    </tr>\n",
       "    <tr>\n",
       "      <th>2</th>\n",
       "      <td>45764740</td>\n",
       "      <td>2021-02-25</td>\n",
       "      <td>t</td>\n",
       "      <td>$100.00</td>\n",
       "      <td>$100.00</td>\n",
       "      <td>1.0</td>\n",
       "      <td>4.0</td>\n",
       "    </tr>\n",
       "    <tr>\n",
       "      <th>3</th>\n",
       "      <td>45764740</td>\n",
       "      <td>2021-02-26</td>\n",
       "      <td>t</td>\n",
       "      <td>$100.00</td>\n",
       "      <td>$100.00</td>\n",
       "      <td>1.0</td>\n",
       "      <td>4.0</td>\n",
       "    </tr>\n",
       "    <tr>\n",
       "      <th>4</th>\n",
       "      <td>45764740</td>\n",
       "      <td>2021-02-27</td>\n",
       "      <td>t</td>\n",
       "      <td>$100.00</td>\n",
       "      <td>$100.00</td>\n",
       "      <td>1.0</td>\n",
       "      <td>4.0</td>\n",
       "    </tr>\n",
       "  </tbody>\n",
       "</table>\n",
       "</div>"
      ],
      "text/plain": [
       "   listing_id        date available    price adjusted_price  minimum_nights  \\\n",
       "0    45766287  2021-02-23         f  $150.00        $150.00             2.0   \n",
       "1    45764740  2021-02-24         f  $100.00        $100.00             1.0   \n",
       "2    45764740  2021-02-25         t  $100.00        $100.00             1.0   \n",
       "3    45764740  2021-02-26         t  $100.00        $100.00             1.0   \n",
       "4    45764740  2021-02-27         t  $100.00        $100.00             1.0   \n",
       "\n",
       "   maximum_nights  \n",
       "0          1125.0  \n",
       "1             4.0  \n",
       "2             4.0  \n",
       "3             4.0  \n",
       "4             4.0  "
      ]
     },
     "execution_count": 6,
     "metadata": {},
     "output_type": "execute_result"
    }
   ],
   "source": [
    "calendar = pd.read_csv('../airbnb/data/calendar.csv.gz')\n",
    "calendar.head()"
   ]
  },
  {
   "cell_type": "code",
   "execution_count": 7,
   "metadata": {
    "ExecuteTime": {
     "end_time": "2021-04-18T17:05:03.208334Z",
     "start_time": "2021-04-18T17:05:03.200766Z"
    }
   },
   "outputs": [
    {
     "name": "stdout",
     "output_type": "stream",
     "text": [
      "<class 'pandas.core.frame.DataFrame'>\n",
      "RangeIndex: 9685126 entries, 0 to 9685125\n",
      "Data columns (total 7 columns):\n",
      " #   Column          Dtype  \n",
      "---  ------          -----  \n",
      " 0   listing_id      int64  \n",
      " 1   date            object \n",
      " 2   available       object \n",
      " 3   price           object \n",
      " 4   adjusted_price  object \n",
      " 5   minimum_nights  float64\n",
      " 6   maximum_nights  float64\n",
      "dtypes: float64(2), int64(1), object(4)\n",
      "memory usage: 517.2+ MB\n"
     ]
    }
   ],
   "source": [
    "calendar.info()"
   ]
  },
  {
   "cell_type": "code",
   "execution_count": 8,
   "metadata": {
    "ExecuteTime": {
     "end_time": "2021-04-18T17:05:04.571617Z",
     "start_time": "2021-04-18T17:05:03.211146Z"
    }
   },
   "outputs": [
    {
     "data": {
      "text/plain": [
       "listing_id           0\n",
       "date                 0\n",
       "available            0\n",
       "price              177\n",
       "adjusted_price     177\n",
       "minimum_nights    5587\n",
       "maximum_nights    5587\n",
       "dtype: int64"
      ]
     },
     "execution_count": 8,
     "metadata": {},
     "output_type": "execute_result"
    }
   ],
   "source": [
    "calendar.isnull().sum()"
   ]
  },
  {
   "cell_type": "code",
   "execution_count": 9,
   "metadata": {
    "ExecuteTime": {
     "end_time": "2021-04-18T17:05:09.759943Z",
     "start_time": "2021-04-18T17:05:04.573317Z"
    }
   },
   "outputs": [
    {
     "data": {
      "text/plain": [
       "0"
      ]
     },
     "execution_count": 9,
     "metadata": {},
     "output_type": "execute_result"
    }
   ],
   "source": [
    "calendar.duplicated().sum()"
   ]
  },
  {
   "cell_type": "markdown",
   "metadata": {},
   "source": [
    "<a id=\"2\"></a>\n",
    "<h1 style=\"background-color:orange;font-family:newtimeroman;font-size:300%;text-align:center;border-radius: 15px 50px;\">Análise Exploratória de Dados (EDA)</h1>"
   ]
  },
  {
   "cell_type": "markdown",
   "metadata": {},
   "source": [
    "<a id=\"2.1\"></a>\n",
    "<h2 style=\"background-color:orange;font-family:newtimeroman;font-size:200%;text-align:center;border-radius: 15px 50px;\">Automatic EDA -  Pandas Profiling</h2>"
   ]
  },
  {
   "cell_type": "code",
   "execution_count": 11,
   "metadata": {
    "ExecuteTime": {
     "end_time": "2021-04-16T19:33:29.045514Z",
     "start_time": "2021-04-16T19:27:36.145654Z"
    }
   },
   "outputs": [
    {
     "data": {
      "application/vnd.jupyter.widget-view+json": {
       "model_id": "79e3cc85fdbd427baa753d6e0aace488",
       "version_major": 2,
       "version_minor": 0
      },
      "text/plain": [
       "HBox(children=(HTML(value='Summarize dataset'), FloatProgress(value=0.0, max=87.0), HTML(value='')))"
      ]
     },
     "metadata": {},
     "output_type": "display_data"
    },
    {
     "name": "stdout",
     "output_type": "stream",
     "text": [
      "\n"
     ]
    },
    {
     "data": {
      "application/vnd.jupyter.widget-view+json": {
       "model_id": "45e48f5ff6564f8192fac5b110453b1f",
       "version_major": 2,
       "version_minor": 0
      },
      "text/plain": [
       "HBox(children=(HTML(value='Generate report structure'), FloatProgress(value=0.0, max=1.0), HTML(value='')))"
      ]
     },
     "metadata": {},
     "output_type": "display_data"
    },
    {
     "name": "stdout",
     "output_type": "stream",
     "text": [
      "\n"
     ]
    },
    {
     "data": {
      "application/vnd.jupyter.widget-view+json": {
       "model_id": "bc15f03abda342c7935c76b163f1a7b3",
       "version_major": 2,
       "version_minor": 0
      },
      "text/plain": [
       "HBox(children=(HTML(value='Render HTML'), FloatProgress(value=0.0, max=1.0), HTML(value='')))"
      ]
     },
     "metadata": {},
     "output_type": "display_data"
    },
    {
     "name": "stdout",
     "output_type": "stream",
     "text": [
      "\n"
     ]
    },
    {
     "name": "stderr",
     "output_type": "stream",
     "text": [
      "/home/mauricioeloy/anaconda3/lib/python3.8/site-packages/pandas_profiling/profile_report.py:283: UserWarning: Extension  not supported. For now we assume .html was intended. To remove this warning, please use .html or .json.\n",
      "  warnings.warn(\n"
     ]
    },
    {
     "data": {
      "application/vnd.jupyter.widget-view+json": {
       "model_id": "05b69974ec584900be6179cb10ae2459",
       "version_major": 2,
       "version_minor": 0
      },
      "text/plain": [
       "HBox(children=(HTML(value='Export report to file'), FloatProgress(value=0.0, max=1.0), HTML(value='')))"
      ]
     },
     "metadata": {},
     "output_type": "display_data"
    },
    {
     "name": "stdout",
     "output_type": "stream",
     "text": [
      "\n"
     ]
    }
   ],
   "source": [
    "listings_rep = pdpf.ProfileReport(listings, title=\"Report Listings\")\n",
    "listings_rep.to_file(output_file='../airbnb/reports/listings_rep_base')"
   ]
  },
  {
   "cell_type": "markdown",
   "metadata": {},
   "source": [
    "<a id=\"3\"></a>\n",
    "<h1 style=\"background-color:orange;font-family:newtimeroman;font-size:300%;text-align:center;border-radius: 15px 50px;\">Pré-processamento de Dados</h1>"
   ]
  },
  {
   "cell_type": "markdown",
   "metadata": {},
   "source": [
    "<a id=\"3.1\"></a>\n",
    "<h2 style=\"background-color:orange;font-family:newtimeroman;font-size:200%;text-align:center;border-radius: 15px 50px;\">'listings'</h2>"
   ]
  },
  {
   "cell_type": "markdown",
   "metadata": {},
   "source": [
    "<a id=\"3.1.1\"></a>\n",
    "<h3 style=\"background-color:orange;font-family:newtimeroman;font-size:150%;text-align:center;border-radius: 15px 50px;\">Exclusão de algumas variáveis</h3>"
   ]
  },
  {
   "cell_type": "code",
   "execution_count": 10,
   "metadata": {
    "ExecuteTime": {
     "end_time": "2021-04-18T17:05:09.791438Z",
     "start_time": "2021-04-18T17:05:09.761848Z"
    }
   },
   "outputs": [],
   "source": [
    "vars_drop_listings = ['listing_url', \n",
    "                        'scrape_id', \n",
    "                        'last_scraped',\n",
    "                        'name', \n",
    "                        'description',\n",
    "                        'neighborhood_overview', \n",
    "                        'picture_url', \n",
    "                        'host_id', \n",
    "                        'host_url', \n",
    "                        'host_name',\n",
    "                        'host_location', \n",
    "                        'host_about', \n",
    "                        'host_response_time', \n",
    "                        'host_acceptance_rate',\n",
    "                        'host_thumbnail_url', \n",
    "                        'host_picture_url', \n",
    "                        'host_total_listings_count','neighbourhood',\n",
    "                        'neighbourhood_group_cleansed', \n",
    "                        'latitude', \n",
    "                        'longitude',\n",
    "                        'bathrooms', \n",
    "                        'minimum_minimum_nights', \n",
    "                        'maximum_minimum_nights', \n",
    "                        'minimum_maximum_nights',\n",
    "                        'maximum_maximum_nights', \n",
    "                        'minimum_nights_avg_ntm', \n",
    "                        'maximum_nights_avg_ntm',\n",
    "                        'calendar_updated', \n",
    "                        'has_availability', \n",
    "                        'availability_30', \n",
    "                        'availability_60', \n",
    "                        'availability_90', \n",
    "                        'availability_365', \n",
    "                        'calendar_last_scraped', \n",
    "                        'number_of_reviews_ltm',\n",
    "                        'number_of_reviews_l30d', \n",
    "                        'first_review', 'last_review',\n",
    "                        'license',\n",
    "                        'calculated_host_listings_count_entire_homes', \n",
    "                        'calculated_host_listings_count_private_rooms', \n",
    "                        'calculated_host_listings_count_shared_rooms',\n",
    "                        'reviews_per_month', \n",
    "                        'host_neighbourhood', \n",
    "                        'bathrooms_text']\n",
    "\n",
    "listings = listings.drop(columns=vars_drop_listings)\n",
    "\n",
    "listings = listings.dropna(subset = ['host_since', 'host_is_superhost', 'host_has_profile_pic',\n",
    "                                    'host_identity_verified', 'host_listings_count'])"
   ]
  },
  {
   "cell_type": "markdown",
   "metadata": {},
   "source": [
    "<a id=\"3.1.2\"></a>\n",
    "<h3 style=\"background-color:orange;font-family:newtimeroman;font-size:150%;text-align:center;border-radius: 15px 50px;\">host_since</h3>"
   ]
  },
  {
   "cell_type": "code",
   "execution_count": 11,
   "metadata": {
    "ExecuteTime": {
     "end_time": "2021-04-18T17:05:11.593755Z",
     "start_time": "2021-04-18T17:05:11.332054Z"
    }
   },
   "outputs": [],
   "source": [
    "#desmembrando a variável host_since em host_since_year\n",
    "def trans_host_since_year(l):\n",
    "    try:\n",
    "        host_since = int(l['host_since'].split('-')[0])\n",
    "    except:\n",
    "        host_since = np.nan\n",
    "    return host_since\n",
    "\n",
    "listings['host_since_year'] = listings.apply(lambda l: trans_host_since_year(l),axis=1)\n",
    "listings = listings.drop(columns = ['host_since'])"
   ]
  },
  {
   "cell_type": "markdown",
   "metadata": {},
   "source": [
    "<a id=\"3.1.3\"></a>\n",
    "<h3 style=\"background-color:orange;font-family:newtimeroman;font-size:150%;text-align:center;border-radius: 15px 50px;\">host_response_rate</h3>"
   ]
  },
  {
   "cell_type": "code",
   "execution_count": 12,
   "metadata": {
    "ExecuteTime": {
     "end_time": "2021-04-18T17:05:12.510920Z",
     "start_time": "2021-04-18T17:05:12.470992Z"
    }
   },
   "outputs": [],
   "source": [
    "# transformar a variável em numérica\n",
    "listings['host_response_rate_numeric'] = listings['host_response_rate'].astype(str)\n",
    "listings['host_response_rate_numeric'] = listings['host_response_rate_numeric'].str.\\\n",
    "                                        replace(\"%\", \"\").astype(\"float\")\n",
    "listings = listings.drop(columns = ['host_response_rate'])"
   ]
  },
  {
   "cell_type": "markdown",
   "metadata": {},
   "source": [
    "<a id=\"3.1.4\"></a>\n",
    "<h3 style=\"background-color:orange;font-family:newtimeroman;font-size:150%;text-align:center;border-radius: 15px 50px;\">property_type</h3>"
   ]
  },
  {
   "cell_type": "code",
   "execution_count": 13,
   "metadata": {
    "ExecuteTime": {
     "end_time": "2021-04-18T17:05:15.933839Z",
     "start_time": "2021-04-18T17:05:15.675316Z"
    }
   },
   "outputs": [],
   "source": [
    "#variavel com alta cardinalidade\n",
    "list_property_type = ['Entire apartment','Private room in apartment', \\\n",
    "                      'Entire condominium', 'Private room in house','Entire house']\n",
    "\n",
    "\n",
    "listings['property_type_mod'] = listings.apply(lambda l: (l['property_type']\\\n",
    "                                                    if (l['property_type'] in list_property_type)\\\n",
    "                                                    else 'Other values'), axis=1)\n",
    "listings = listings.drop(columns='property_type')"
   ]
  },
  {
   "cell_type": "markdown",
   "metadata": {},
   "source": [
    "<a id=\"3.1.5\"></a>\n",
    "<h3 style=\"background-color:orange;font-family:newtimeroman;font-size:150%;text-align:center;border-radius: 15px 50px;\">neighbourhood_cleansed</h3>"
   ]
  },
  {
   "cell_type": "code",
   "execution_count": 14,
   "metadata": {
    "ExecuteTime": {
     "end_time": "2021-04-18T17:05:55.392227Z",
     "start_time": "2021-04-18T17:05:55.098069Z"
    }
   },
   "outputs": [],
   "source": [
    "#variavel com alta cardinalidade\n",
    "list_neighbourhood_cleansed = ['Copacabana', 'Barra da Tijuca', 'Ipanema',\\\n",
    "                               'Jacarepaguá', 'Botafogo', 'Recreio dos Bandeirantes', 'Leblon']\n",
    "\n",
    "listings['neighbourhood_cleansed_mod'] = listings.apply(lambda l: (l['neighbourhood_cleansed']\\\n",
    "                                    if (l['neighbourhood_cleansed'] in list_neighbourhood_cleansed)\\\n",
    "                                    else 'Other values'), axis=1)\n",
    "listings = listings.drop(columns='neighbourhood_cleansed')"
   ]
  },
  {
   "cell_type": "markdown",
   "metadata": {},
   "source": [
    "<a id=\"3.1.6\"></a>\n",
    "<h3 style=\"background-color:orange;font-family:newtimeroman;font-size:150%;text-align:center;border-radius: 15px 50px;\">host_verifications | amenities</h3>"
   ]
  },
  {
   "cell_type": "code",
   "execution_count": 15,
   "metadata": {
    "ExecuteTime": {
     "end_time": "2021-04-18T17:05:59.489257Z",
     "start_time": "2021-04-18T17:05:59.481627Z"
    }
   },
   "outputs": [],
   "source": [
    "def get_val_from_list(row, column_name, value):\n",
    "    val = 0.0\n",
    "    try:\n",
    "        vals = row[column_name].replace('[', '').replace(\"'\", '').replace(\"]\", '').replace('\"', '').\\\n",
    "                                replace('{', '').replace('}', '').split(',')\n",
    "        if value in vals:\n",
    "            val = 1.0\n",
    "    except:\n",
    "        val = 0.0\n",
    "    return val\n",
    "\n",
    "def split_list_into_columns(df, column_name, max_dummies_num = 10):\n",
    "    \n",
    "    values_dict = {}\n",
    "\n",
    "    for unique_value in df[column_name].unique(): \n",
    "        for value in unique_value.replace('[', '').replace(\"'\", '').replace(\"]\", '').replace('\"', '').\\\n",
    "                                    replace('{', '').replace('}', '').split(','):\n",
    "            if value in values_dict:\n",
    "                values_dict[value] = values_dict[value] + 1\n",
    "            else:\n",
    "                values_dict[value] = 0\n",
    "                \n",
    "    values_sorted = sorted(values_dict.items(), key=lambda kv: kv[1], reverse = True)\n",
    "      \n",
    "    for value in values_sorted[: max_dummies_num]:\n",
    "        df[column_name + '_' + value[0]] = df.apply(lambda row: get_val_from_list(row, column_name,\\\n",
    "                                                                                  value[0]),axis=1)\n",
    "    return"
   ]
  },
  {
   "cell_type": "code",
   "execution_count": 16,
   "metadata": {
    "ExecuteTime": {
     "end_time": "2021-04-18T17:06:03.636468Z",
     "start_time": "2021-04-18T17:06:01.004230Z"
    }
   },
   "outputs": [],
   "source": [
    "split_list_into_columns(listings, 'host_verifications')\n",
    "listings = listings.drop(columns = ['host_verifications'])"
   ]
  },
  {
   "cell_type": "code",
   "execution_count": 17,
   "metadata": {
    "ExecuteTime": {
     "end_time": "2021-04-18T17:06:07.750870Z",
     "start_time": "2021-04-18T17:06:03.638366Z"
    }
   },
   "outputs": [],
   "source": [
    "split_list_into_columns(listings, 'amenities')\n",
    "listings = listings.drop(columns = ['amenities'])"
   ]
  },
  {
   "cell_type": "markdown",
   "metadata": {},
   "source": [
    "<a id=\"3.1.7\"></a>\n",
    "<h3 style=\"background-color:orange;font-family:newtimeroman;font-size:150%;text-align:center;border-radius: 15px 50px;\">Completando dados faltantes</h3>"
   ]
  },
  {
   "cell_type": "code",
   "execution_count": 18,
   "metadata": {
    "ExecuteTime": {
     "end_time": "2021-04-18T17:06:07.781608Z",
     "start_time": "2021-04-18T17:06:07.753826Z"
    }
   },
   "outputs": [
    {
     "data": {
      "text/plain": [
       "review_scores_accuracy                       10501\n",
       "review_scores_location                       10499\n",
       "review_scores_checkin                        10499\n",
       "review_scores_cleanliness                    10498\n",
       "review_scores_value                          10497\n",
       "review_scores_communication                  10495\n",
       "review_scores_rating                         10487\n",
       "host_response_rate_numeric                    7992\n",
       "bedrooms                                      1746\n",
       "beds                                           252\n",
       "number_of_reviews                                0\n",
       "instant_bookable                                 0\n",
       "amenities_ Hot water                             0\n",
       "maximum_nights                                   0\n",
       "calculated_host_listings_count                   0\n",
       "price                                            0\n",
       "accommodates                                     0\n",
       "room_type                                        0\n",
       "host_identity_verified                           0\n",
       "host_has_profile_pic                             0\n",
       "host_listings_count                              0\n",
       "host_is_superhost                                0\n",
       "minimum_nights                                   0\n",
       "host_since_year                                  0\n",
       "amenities_ Washer                                0\n",
       "property_type_mod                                0\n",
       "amenities_ Air conditioning                      0\n",
       "amenities_ Iron                                  0\n",
       "amenities_ Hangers                               0\n",
       "amenities_ Kitchen                               0\n",
       "amenities_ TV                                    0\n",
       "amenities_ Long term stays allowed               0\n",
       "amenities_ Essentials                            0\n",
       "amenities_ Wifi                                  0\n",
       "host_verifications_ work_email                   0\n",
       "host_verifications_ identity_manual              0\n",
       "host_verifications_ facebook                     0\n",
       "host_verifications_ selfie                       0\n",
       "host_verifications_ offline_government_id        0\n",
       "host_verifications_ jumio                        0\n",
       "host_verifications_ reviews                      0\n",
       "host_verifications_ phone                        0\n",
       "host_verifications_ government_id                0\n",
       "host_verifications_email                         0\n",
       "neighbourhood_cleansed_mod                       0\n",
       "id                                               0\n",
       "dtype: int64"
      ]
     },
     "execution_count": 18,
     "metadata": {},
     "output_type": "execute_result"
    }
   ],
   "source": [
    "listings.isnull().sum().sort_values(ascending=False)"
   ]
  },
  {
   "cell_type": "code",
   "execution_count": 19,
   "metadata": {
    "ExecuteTime": {
     "end_time": "2021-04-18T17:06:10.274069Z",
     "start_time": "2021-04-18T17:06:10.262865Z"
    }
   },
   "outputs": [],
   "source": [
    "# corrigindo valores faltantes\n",
    "listings.fillna({'bedrooms': listings['bedrooms'].median(),\n",
    "                    'beds': listings['beds'].median(),\n",
    "                    'host_response_rate_numeric': listings['host_response_rate_numeric'].mean(),\n",
    "                    'review_scores_rating': listings['review_scores_rating'].mean(),\n",
    "                    'review_scores_accuracy': listings['review_scores_accuracy'].mean(),\n",
    "                    'review_scores_cleanliness': listings['review_scores_cleanliness'].mean(),\n",
    "                    'review_scores_checkin': listings['review_scores_checkin'].mean(),\n",
    "                    'review_scores_communication': listings['review_scores_communication'].mean(),\n",
    "                    'review_scores_location': listings['review_scores_location'].mean(),\n",
    "                    'review_scores_value': listings['review_scores_value'].mean()},\\\n",
    "                   inplace=True)"
   ]
  },
  {
   "cell_type": "markdown",
   "metadata": {},
   "source": [
    "<a id=\"3.1.8\"></a>\n",
    "<h3 style=\"background-color:orange;font-family:newtimeroman;font-size:150%;text-align:center;border-radius: 15px 50px;\">Label Encoding</h3>\n",
    "\n",
    "Sem o uso do `LabelEncoder()`"
   ]
  },
  {
   "cell_type": "code",
   "execution_count": 20,
   "metadata": {
    "ExecuteTime": {
     "end_time": "2021-04-18T17:06:14.266433Z",
     "start_time": "2021-04-18T17:06:14.235568Z"
    }
   },
   "outputs": [],
   "source": [
    "a_trocar = {'t': 1,\n",
    "            'f': 0}\n",
    "\n",
    "lista_trocar = ['host_is_superhost', \n",
    "                'host_has_profile_pic', \n",
    "                'host_identity_verified',\n",
    "                'instant_bookable']\n",
    "for troca in lista_trocar:\n",
    "    listings[troca] = listings[troca].map(a_trocar)"
   ]
  },
  {
   "cell_type": "markdown",
   "metadata": {},
   "source": [
    "<a id=\"3.1.9\"></a>\n",
    "<h3 style=\"background-color:orange;font-family:newtimeroman;font-size:150%;text-align:center;border-radius: 15px 50px;\">Eliminação de Outliers</h3>"
   ]
  },
  {
   "cell_type": "code",
   "execution_count": 21,
   "metadata": {
    "ExecuteTime": {
     "end_time": "2021-04-18T17:06:19.537478Z",
     "start_time": "2021-04-18T17:06:19.533183Z"
    }
   },
   "outputs": [],
   "source": [
    "#funcao auxiliar\n",
    "def elimina_outlier(df):\n",
    "    q1 = df.quantile(0.25)\n",
    "    q3 = df.quantile(0.75)\n",
    "    iqr = q3 - q1\n",
    "    df_mod = df[((df < (q1 - 1.5 * iqr)) | (df > (q3 + 1.5 * iqr))).any(axis=1)]\n",
    "    return df_mod"
   ]
  },
  {
   "cell_type": "code",
   "execution_count": 22,
   "metadata": {
    "ExecuteTime": {
     "end_time": "2021-04-18T17:06:20.269813Z",
     "start_time": "2021-04-18T17:06:20.170764Z"
    }
   },
   "outputs": [],
   "source": [
    "listings_mod = elimina_outlier(listings)"
   ]
  },
  {
   "cell_type": "code",
   "execution_count": 23,
   "metadata": {
    "ExecuteTime": {
     "end_time": "2021-04-18T17:06:20.660344Z",
     "start_time": "2021-04-18T17:06:20.654579Z"
    }
   },
   "outputs": [
    {
     "data": {
      "text/plain": [
       "0.9115866270542665"
      ]
     },
     "execution_count": 23,
     "metadata": {},
     "output_type": "execute_result"
    }
   ],
   "source": [
    "listings_mod.shape[0]/listings.shape[0]"
   ]
  },
  {
   "cell_type": "markdown",
   "metadata": {},
   "source": [
    "Verificação NaN e Duplicados"
   ]
  },
  {
   "cell_type": "code",
   "execution_count": 24,
   "metadata": {
    "ExecuteTime": {
     "end_time": "2021-04-18T17:06:22.358912Z",
     "start_time": "2021-04-18T17:06:22.346181Z"
    }
   },
   "outputs": [
    {
     "data": {
      "text/plain": [
       "0"
      ]
     },
     "execution_count": 24,
     "metadata": {},
     "output_type": "execute_result"
    }
   ],
   "source": [
    "listings_mod.isnull().sum().sum()"
   ]
  },
  {
   "cell_type": "code",
   "execution_count": 25,
   "metadata": {
    "ExecuteTime": {
     "end_time": "2021-04-18T17:06:24.686108Z",
     "start_time": "2021-04-18T17:06:24.648066Z"
    }
   },
   "outputs": [
    {
     "data": {
      "text/plain": [
       "0"
      ]
     },
     "execution_count": 25,
     "metadata": {},
     "output_type": "execute_result"
    }
   ],
   "source": [
    "listings_mod.duplicated().sum()"
   ]
  },
  {
   "cell_type": "markdown",
   "metadata": {},
   "source": [
    "<a id=\"3.2\"></a>\n",
    "<h2 style=\"background-color:orange;font-family:newtimeroman;font-size:200%;text-align:center;border-radius: 15px 50px;\">'calendar'</h2>"
   ]
  },
  {
   "cell_type": "markdown",
   "metadata": {},
   "source": [
    "<a id=\"3.2.1\"></a>\n",
    "<h3 style=\"background-color:orange;font-family:newtimeroman;font-size:150%;text-align:center;border-radius: 15px 50px;\">Exclusão de algumas variáveis</h3>"
   ]
  },
  {
   "cell_type": "code",
   "execution_count": 28,
   "metadata": {
    "ExecuteTime": {
     "end_time": "2021-04-18T17:07:21.544671Z",
     "start_time": "2021-04-18T17:07:21.390065Z"
    }
   },
   "outputs": [],
   "source": [
    "vars_drop_calendar = ['available',\n",
    "                     'adjusted_price',\n",
    "                      'minimum_nights',\n",
    "                      'maximum_nights']\n",
    "\n",
    "calendar = calendar.drop(columns=vars_drop_calendar)"
   ]
  },
  {
   "cell_type": "markdown",
   "metadata": {},
   "source": [
    "<a id=\"3.2.2\"></a>\n",
    "<h3 style=\"background-color:orange;font-family:newtimeroman;font-size:150%;text-align:center;border-radius: 15px 50px;\">price</h3>"
   ]
  },
  {
   "cell_type": "code",
   "execution_count": 29,
   "metadata": {
    "ExecuteTime": {
     "end_time": "2021-04-18T17:07:35.855511Z",
     "start_time": "2021-04-18T17:07:24.066654Z"
    }
   },
   "outputs": [],
   "source": [
    "# transformar a variável em numérica\n",
    "calendar = calendar.dropna(subset=['price'])\n",
    "calendar['price_ca'] = calendar['price'].astype(str)\n",
    "calendar['price_ca'] = calendar['price_ca'].str.replace(\"[$, ]\", \"\").astype(\"float\")\n",
    "calendar = calendar.drop(columns = ['price'])"
   ]
  },
  {
   "cell_type": "markdown",
   "metadata": {},
   "source": [
    "<a id=\"3.2.3\"></a>\n",
    "<h3 style=\"background-color:orange;font-family:newtimeroman;font-size:150%;text-align:center;border-radius: 15px 50px;\">date</h3>"
   ]
  },
  {
   "cell_type": "code",
   "execution_count": 30,
   "metadata": {
    "ExecuteTime": {
     "end_time": "2021-04-18T17:11:39.829655Z",
     "start_time": "2021-04-18T17:07:35.857185Z"
    }
   },
   "outputs": [],
   "source": [
    "#criando a variavel datetime\n",
    "calendar['date_datetime'] = pd.to_datetime(calendar['date'])\n",
    "\n",
    "#criando a variavel de feriados\n",
    "br_holidays = holidays.Brazil()\n",
    "calendar['holiday'] = calendar.apply(lambda l: str(l['date_datetime'] in br_holidays), axis=1)\n",
    "calendar['holiday'] = calendar['holiday'].map({'True': 1,'False': 0})\n",
    "\n",
    "#criando a variavel de final de semana\n",
    "calendar['weekday'] = calendar.apply(lambda l: l['date_datetime'].weekday(), axis=1)\n",
    "calendar = calendar.drop(columns = ['date_datetime'])"
   ]
  },
  {
   "cell_type": "code",
   "execution_count": 31,
   "metadata": {
    "ExecuteTime": {
     "end_time": "2021-04-18T17:14:28.944420Z",
     "start_time": "2021-04-18T17:11:39.831461Z"
    }
   },
   "outputs": [],
   "source": [
    "#desmembrando a variável date em duas variáveis: month e year\n",
    "calendar['month'] = calendar.apply(lambda l: int(l['date'].split('-')[1]), axis=1)\n",
    "calendar['year'] =  calendar.apply(lambda l: int(l['date'].split('-')[0]), axis=1)\n",
    "calendar = calendar.drop(columns = ['date'])"
   ]
  },
  {
   "cell_type": "markdown",
   "metadata": {},
   "source": [
    "Verificação NaN e Duplicados"
   ]
  },
  {
   "cell_type": "code",
   "execution_count": 32,
   "metadata": {
    "ExecuteTime": {
     "end_time": "2021-04-18T17:14:29.057184Z",
     "start_time": "2021-04-18T17:14:28.945795Z"
    }
   },
   "outputs": [
    {
     "data": {
      "text/plain": [
       "listing_id    0\n",
       "price_ca      0\n",
       "holiday       0\n",
       "weekday       0\n",
       "month         0\n",
       "year          0\n",
       "dtype: int64"
      ]
     },
     "execution_count": 32,
     "metadata": {},
     "output_type": "execute_result"
    }
   ],
   "source": [
    "calendar.isnull().sum()"
   ]
  },
  {
   "cell_type": "code",
   "execution_count": 33,
   "metadata": {
    "ExecuteTime": {
     "end_time": "2021-04-18T17:14:30.103356Z",
     "start_time": "2021-04-18T17:14:29.058526Z"
    }
   },
   "outputs": [
    {
     "data": {
      "text/plain": [
       "6869744"
      ]
     },
     "execution_count": 33,
     "metadata": {},
     "output_type": "execute_result"
    }
   ],
   "source": [
    "calendar.duplicated().sum()"
   ]
  },
  {
   "cell_type": "code",
   "execution_count": 34,
   "metadata": {
    "ExecuteTime": {
     "end_time": "2021-04-18T17:14:31.233114Z",
     "start_time": "2021-04-18T17:14:30.104953Z"
    }
   },
   "outputs": [],
   "source": [
    "calendar = calendar.drop_duplicates()"
   ]
  },
  {
   "cell_type": "markdown",
   "metadata": {},
   "source": [
    "<a id=\"3.3\"></a>\n",
    "<h2 style=\"background-color:orange;font-family:newtimeroman;font-size:200%;text-align:center;border-radius: 15px 50px;\">Merge entre 'calendar' e 'listings'</h2>"
   ]
  },
  {
   "cell_type": "code",
   "execution_count": 35,
   "metadata": {
    "ExecuteTime": {
     "end_time": "2021-04-18T17:14:40.538991Z",
     "start_time": "2021-04-18T17:14:37.740033Z"
    }
   },
   "outputs": [],
   "source": [
    "df_cl = pd.merge(calendar, (listings_mod.drop(columns = ['price'])),\\\n",
    "                 left_on='listing_id', right_on='id').drop(columns = ['id'])"
   ]
  },
  {
   "cell_type": "markdown",
   "metadata": {},
   "source": [
    "<a id=\"3.4\"></a>\n",
    "<h2 style=\"background-color:orange;font-family:newtimeroman;font-size:200%;text-align:center;border-radius: 15px 50px;\">Variáveis Dummie</h2>"
   ]
  },
  {
   "cell_type": "code",
   "execution_count": 36,
   "metadata": {
    "ExecuteTime": {
     "end_time": "2021-04-18T17:14:43.653303Z",
     "start_time": "2021-04-18T17:14:42.561313Z"
    }
   },
   "outputs": [],
   "source": [
    "df_cl = pd.get_dummies(df_cl,columns=['property_type_mod','room_type', 'neighbourhood_cleansed_mod'])"
   ]
  },
  {
   "cell_type": "code",
   "execution_count": 37,
   "metadata": {
    "ExecuteTime": {
     "end_time": "2021-04-18T17:14:44.978309Z",
     "start_time": "2021-04-18T17:14:44.968015Z"
    }
   },
   "outputs": [
    {
     "data": {
      "text/html": [
       "<div>\n",
       "<style scoped>\n",
       "    .dataframe tbody tr th:only-of-type {\n",
       "        vertical-align: middle;\n",
       "    }\n",
       "\n",
       "    .dataframe tbody tr th {\n",
       "        vertical-align: top;\n",
       "    }\n",
       "\n",
       "    .dataframe thead th {\n",
       "        text-align: right;\n",
       "    }\n",
       "</style>\n",
       "<table border=\"1\" class=\"dataframe\">\n",
       "  <thead>\n",
       "    <tr style=\"text-align: right;\">\n",
       "      <th></th>\n",
       "      <th>0</th>\n",
       "    </tr>\n",
       "  </thead>\n",
       "  <tbody>\n",
       "    <tr>\n",
       "      <th>listing_id</th>\n",
       "      <td>45766287.0</td>\n",
       "    </tr>\n",
       "    <tr>\n",
       "      <th>price_ca</th>\n",
       "      <td>150.0</td>\n",
       "    </tr>\n",
       "    <tr>\n",
       "      <th>holiday</th>\n",
       "      <td>0.0</td>\n",
       "    </tr>\n",
       "    <tr>\n",
       "      <th>weekday</th>\n",
       "      <td>1.0</td>\n",
       "    </tr>\n",
       "    <tr>\n",
       "      <th>month</th>\n",
       "      <td>2.0</td>\n",
       "    </tr>\n",
       "    <tr>\n",
       "      <th>...</th>\n",
       "      <td>...</td>\n",
       "    </tr>\n",
       "    <tr>\n",
       "      <th>neighbourhood_cleansed_mod_Ipanema</th>\n",
       "      <td>0.0</td>\n",
       "    </tr>\n",
       "    <tr>\n",
       "      <th>neighbourhood_cleansed_mod_Jacarepaguá</th>\n",
       "      <td>0.0</td>\n",
       "    </tr>\n",
       "    <tr>\n",
       "      <th>neighbourhood_cleansed_mod_Leblon</th>\n",
       "      <td>0.0</td>\n",
       "    </tr>\n",
       "    <tr>\n",
       "      <th>neighbourhood_cleansed_mod_Other values</th>\n",
       "      <td>1.0</td>\n",
       "    </tr>\n",
       "    <tr>\n",
       "      <th>neighbourhood_cleansed_mod_Recreio dos Bandeirantes</th>\n",
       "      <td>0.0</td>\n",
       "    </tr>\n",
       "  </tbody>\n",
       "</table>\n",
       "<p>65 rows × 1 columns</p>\n",
       "</div>"
      ],
      "text/plain": [
       "                                                             0\n",
       "listing_id                                          45766287.0\n",
       "price_ca                                                 150.0\n",
       "holiday                                                    0.0\n",
       "weekday                                                    1.0\n",
       "month                                                      2.0\n",
       "...                                                        ...\n",
       "neighbourhood_cleansed_mod_Ipanema                         0.0\n",
       "neighbourhood_cleansed_mod_Jacarepaguá                     0.0\n",
       "neighbourhood_cleansed_mod_Leblon                          0.0\n",
       "neighbourhood_cleansed_mod_Other values                    1.0\n",
       "neighbourhood_cleansed_mod_Recreio dos Bandeira...         0.0\n",
       "\n",
       "[65 rows x 1 columns]"
      ]
     },
     "execution_count": 37,
     "metadata": {},
     "output_type": "execute_result"
    }
   ],
   "source": [
    "df_cl.head(1).T"
   ]
  },
  {
   "cell_type": "code",
   "execution_count": 4,
   "metadata": {
    "ExecuteTime": {
     "end_time": "2021-04-18T17:32:26.732882Z",
     "start_time": "2021-04-18T17:32:26.730155Z"
    }
   },
   "outputs": [],
   "source": [
    "df_cl.to_csv(r'../airbnb/data/df_final.csv', index=False)"
   ]
  },
  {
   "cell_type": "markdown",
   "metadata": {},
   "source": [
    "<a id=\"4\"></a>\n",
    "<h1 style=\"background-color:orange;font-family:newtimeroman;font-size:300%;text-align:center;border-radius: 15px 50px;\">Feature Importance</h1>"
   ]
  },
  {
   "cell_type": "markdown",
   "metadata": {},
   "source": [
    "<a id=\"4.1\"></a>\n",
    "<h2 style=\"background-color:orange;font-family:newtimeroman;font-size:200%;text-align:center;border-radius: 15px 50px;\">Separação dos conjuntos X e y</h2>"
   ]
  },
  {
   "cell_type": "code",
   "execution_count": 2,
   "metadata": {
    "ExecuteTime": {
     "end_time": "2021-04-19T12:18:41.406656Z",
     "start_time": "2021-04-19T12:18:30.619927Z"
    }
   },
   "outputs": [],
   "source": [
    "df_airbnb = pd.read_csv('../airbnb/data/df_final.csv')"
   ]
  },
  {
   "cell_type": "code",
   "execution_count": 3,
   "metadata": {
    "ExecuteTime": {
     "end_time": "2021-04-19T10:54:06.016343Z",
     "start_time": "2021-04-19T10:54:05.364063Z"
    }
   },
   "outputs": [
    {
     "name": "stdout",
     "output_type": "stream",
     "text": [
      "Shape X => (2568401, 63)\n"
     ]
    }
   ],
   "source": [
    "X = df_airbnb.drop(columns=['price_ca','listing_id'])\n",
    "y = df_airbnb['price_ca']\n",
    "print(\"Shape X =>\", X.shape)"
   ]
  },
  {
   "cell_type": "markdown",
   "metadata": {},
   "source": [
    "<a id=\"4.2\"></a>\n",
    "<h2 style=\"background-color:orange;font-family:newtimeroman;font-size:200%;text-align:center;border-radius: 15px 50px;\">Padronização do Dados</h2>"
   ]
  },
  {
   "cell_type": "code",
   "execution_count": 4,
   "metadata": {
    "ExecuteTime": {
     "end_time": "2021-04-18T20:51:20.408145Z",
     "start_time": "2021-04-18T20:51:14.405072Z"
    }
   },
   "outputs": [],
   "source": [
    "scaler = StandardScaler().fit(X)\n",
    "sX = scaler.transform(X)"
   ]
  },
  {
   "cell_type": "markdown",
   "metadata": {},
   "source": [
    "<a id=\"4.3\"></a>\n",
    "<h2 style=\"background-color:orange;font-family:newtimeroman;font-size:200%;text-align:center;border-radius: 15px 50px;\">Features Importantes</h2>"
   ]
  },
  {
   "cell_type": "markdown",
   "metadata": {},
   "source": [
    "<a id=\"4.3.1\"></a>\n",
    "<h3 style=\"background-color:orange;font-family:newtimeroman;font-size:150%;text-align:center;border-radius: 15px 50px;\">Análise de Componentes Principais</h3>"
   ]
  },
  {
   "cell_type": "markdown",
   "metadata": {},
   "source": [
    "<a id=\"4.3.1.1\"></a>\n",
    "<h4 style=\"background-color:orange;font-family:newtimeroman;font-size:120%;text-align:center;border-radius: 15px 50px;\">Número de componentes a ser utilizado</h4>"
   ]
  },
  {
   "cell_type": "code",
   "execution_count": 7,
   "metadata": {
    "ExecuteTime": {
     "end_time": "2021-04-18T17:33:11.240248Z",
     "start_time": "2021-04-18T17:33:00.068257Z"
    }
   },
   "outputs": [
    {
     "data": {
      "image/png": "[encoded data removed]",
      "text/plain": [
       "<Figure size 576x360 with 1 Axes>"
      ]
     },
     "metadata": {},
     "output_type": "display_data"
    }
   ],
   "source": [
    "pca = PCA(random_state=42).fit(sX)\n",
    "\n",
    "n_components_values = np.arange(1, len(X.columns) + 1)\n",
    "\n",
    "plt.figure(figsize=(8, 5))\n",
    "plt.plot(n_components_values, np.cumsum(pca.explained_variance_ratio_), 'ro-')\n",
    "plt.xlabel('componentes', fontsize=20)\n",
    "plt.ylabel('variancia acumulada', fontsize=20);\n",
    "plt.xticks(color='k', size=16)\n",
    "plt.yticks(color='k', size=16)\n",
    "plt.grid(True)\n",
    "plt.show(True)"
   ]
  },
  {
   "cell_type": "code",
   "execution_count": 8,
   "metadata": {
    "ExecuteTime": {
     "end_time": "2021-04-18T17:33:22.902154Z",
     "start_time": "2021-04-18T17:33:22.896084Z"
    }
   },
   "outputs": [
    {
     "data": {
      "text/plain": [
       "array([0.09, 0.16, 0.22, 0.26, 0.3 , 0.33, 0.36, 0.38, 0.4 , 0.43, 0.45,\n",
       "       0.47, 0.49, 0.51, 0.53, 0.54, 0.56, 0.58, 0.59, 0.61, 0.63, 0.64,\n",
       "       0.66, 0.67, 0.69, 0.71, 0.72, 0.74, 0.75, 0.77, 0.78, 0.79, 0.81,\n",
       "       0.82, 0.83, 0.85, 0.86, 0.87, 0.88, 0.89, 0.9 , 0.91, 0.92, 0.93,\n",
       "       0.94, 0.94, 0.95, 0.96, 0.96, 0.97, 0.98, 0.98, 0.98, 0.99, 0.99,\n",
       "       1.  , 1.  , 1.  , 1.  , 1.  , 1.  , 1.  , 1.  ])"
      ]
     },
     "execution_count": 8,
     "metadata": {},
     "output_type": "execute_result"
    }
   ],
   "source": [
    "np.round(pca.explained_variance_ratio_.cumsum(),2)"
   ]
  },
  {
   "cell_type": "markdown",
   "metadata": {
    "ExecuteTime": {
     "end_time": "2021-04-17T17:04:25.547648Z",
     "start_time": "2021-04-17T17:04:25.542692Z"
    }
   },
   "source": [
    "Conclusão: O número de componentes a ser utilizado será $41$"
   ]
  },
  {
   "cell_type": "code",
   "execution_count": 9,
   "metadata": {
    "ExecuteTime": {
     "end_time": "2021-04-18T17:34:29.701472Z",
     "start_time": "2021-04-18T17:33:54.578158Z"
    }
   },
   "outputs": [],
   "source": [
    "pca = PCA(random_state=42, n_components=41).fit(sX)"
   ]
  },
  {
   "cell_type": "markdown",
   "metadata": {},
   "source": [
    "<a id=\"4.3.1.2\"></a>\n",
    "<h4 style=\"background-color:orange;font-family:newtimeroman;font-size:120%;text-align:center;border-radius: 15px 50px;\">Importância dos atributos</h4>"
   ]
  },
  {
   "cell_type": "code",
   "execution_count": 10,
   "metadata": {
    "ExecuteTime": {
     "end_time": "2021-04-18T17:34:36.089749Z",
     "start_time": "2021-04-18T17:34:36.083629Z"
    }
   },
   "outputs": [
    {
     "data": {
      "text/plain": [
       "array([ 0.006,  0.   , -0.001,  0.002, -0.164, -0.031, -0.03 , -0.29 ,\n",
       "       -0.143, -0.114, -0.099,  0.011, -0.001, -0.148, -0.115, -0.12 ,\n",
       "       -0.104, -0.108, -0.111, -0.112, -0.088, -0.016, -0.082,  0.093,\n",
       "       -0.132, -0.109, -0.297, -0.094, -0.169, -0.249, -0.201, -0.19 ,\n",
       "       -0.008, -0.182, -0.083, -0.09 , -0.118, -0.102, -0.149, -0.155,\n",
       "       -0.153, -0.139, -0.079, -0.043, -0.16 , -0.195, -0.028, -0.006,\n",
       "        0.064,  0.163,  0.112, -0.243,  0.012,  0.224,  0.074, -0.002,\n",
       "        0.004, -0.093, -0.074,  0.027, -0.047,  0.138,  0.02 ])"
      ]
     },
     "execution_count": 10,
     "metadata": {},
     "output_type": "execute_result"
    }
   ],
   "source": [
    "np.round(pca.components_[0],3)"
   ]
  },
  {
   "cell_type": "code",
   "execution_count": 11,
   "metadata": {
    "ExecuteTime": {
     "end_time": "2021-04-18T17:34:42.453551Z",
     "start_time": "2021-04-18T17:34:40.966655Z"
    }
   },
   "outputs": [
    {
     "data": {
      "text/plain": [
       "<matplotlib.colorbar.Colorbar at 0x7f21053f5370>"
      ]
     },
     "execution_count": 11,
     "metadata": {},
     "output_type": "execute_result"
    },
    {
     "data": {
      "image/png": "[encoded data removed]",
      "text/plain": [
       "<Figure size 1728x1296 with 2 Axes>"
      ]
     },
     "metadata": {},
     "output_type": "display_data"
    }
   ],
   "source": [
    "fig, ax = plt.subplots(figsize=(24, 18))\n",
    "plt.imshow(pca.components_.T, cmap=\"Spectral\", vmin=-1, vmax=1)\n",
    "plt.yticks(range(len(X.columns)), X.columns)\n",
    "plt.xticks(range(41), range(1, 42))\n",
    "plt.xlabel(\"Componentes\")\n",
    "plt.ylabel(\"Contribuição\")\n",
    "plt.colorbar()"
   ]
  },
  {
   "cell_type": "code",
   "execution_count": 12,
   "metadata": {
    "ExecuteTime": {
     "end_time": "2021-04-18T17:35:07.209082Z",
     "start_time": "2021-04-18T17:35:07.073697Z"
    }
   },
   "outputs": [
    {
     "name": "stderr",
     "output_type": "stream",
     "text": [
      "/home/mauricioeloy/anaconda3/lib/python3.8/site-packages/seaborn/_decorators.py:36: FutureWarning: Pass the following variable as a keyword arg: x. From version 0.12, the only valid positional argument will be `data`, and passing other arguments without an explicit keyword will result in an error or misinterpretation.\n",
      "  warnings.warn(\n"
     ]
    },
    {
     "data": {
      "text/plain": [
       "<AxesSubplot:>"
      ]
     },
     "execution_count": 12,
     "metadata": {},
     "output_type": "execute_result"
    },
    {
     "data": {
      "image/png": "[encoded data removed]",
      "text/plain": [
       "<Figure size 432x288 with 1 Axes>"
      ]
     },
     "metadata": {},
     "output_type": "display_data"
    }
   ],
   "source": [
    "pca_abs = np.abs(np.round(pca.components_[0],3))\n",
    "sns.boxplot(pca_abs)"
   ]
  },
  {
   "cell_type": "code",
   "execution_count": 15,
   "metadata": {
    "ExecuteTime": {
     "end_time": "2021-04-18T17:36:06.328563Z",
     "start_time": "2021-04-18T17:36:06.313733Z"
    }
   },
   "outputs": [
    {
     "data": {
      "text/plain": [
       "['review_scores_location',\n",
       " 'property_type_mod_Entire apartment',\n",
       " 'room_type_Entire home/apt',\n",
       " 'review_scores_checkin',\n",
       " 'bedrooms',\n",
       " 'room_type_Private room',\n",
       " 'host_identity_verified',\n",
       " 'review_scores_accuracy',\n",
       " 'accommodates',\n",
       " 'review_scores_cleanliness',\n",
       " 'review_scores_rating',\n",
       " 'host_verifications_ government_id',\n",
       " 'review_scores_communication',\n",
       " 'host_verifications_ offline_government_id',\n",
       " 'host_verifications_ jumio',\n",
       " 'review_scores_value']"
      ]
     },
     "execution_count": 15,
     "metadata": {},
     "output_type": "execute_result"
    }
   ],
   "source": [
    "comps = pd.DataFrame(pca.components_, columns=X.columns)\n",
    "min_val = np.quantile(pca_abs,0.95)\n",
    "num_components = 3\n",
    "pca_cols = set()\n",
    "for i in range(num_components):\n",
    "    parts = comps.iloc[i][comps.iloc[i].abs() > min_val]\n",
    "    pca_cols.update(set(parts.index))\n",
    "l_pca_cols = list(pca_cols)\n",
    "l_pca_cols"
   ]
  },
  {
   "cell_type": "markdown",
   "metadata": {},
   "source": [
    "<a id=\"4.3.1.3\"></a>\n",
    "<h4 style=\"background-color:orange;font-family:newtimeroman;font-size:120%;text-align:center;border-radius: 15px 50px;\">Incorporando as 41 componentes no dataset</h4>"
   ]
  },
  {
   "cell_type": "code",
   "execution_count": 16,
   "metadata": {
    "ExecuteTime": {
     "end_time": "2021-04-18T17:36:43.141954Z",
     "start_time": "2021-04-18T17:36:40.331470Z"
    }
   },
   "outputs": [],
   "source": [
    "sX_pca = pca.transform(sX)\n",
    "\n",
    "for component in range(0,41):\n",
    "    X['PCA'+str(component+1)] = sX_pca[:,component]"
   ]
  },
  {
   "cell_type": "markdown",
   "metadata": {},
   "source": [
    "<a id=\"4.3.2\"></a>\n",
    "<h3 style=\"background-color:orange;font-family:newtimeroman;font-size:150%;text-align:center;border-radius: 15px 50px;\">LASSO</h3>"
   ]
  },
  {
   "cell_type": "markdown",
   "metadata": {},
   "source": [
    "<a id=\"4.3.2.1\"></a>\n",
    "<h4 style=\"background-color:orange;font-family:newtimeroman;font-size:120%;text-align:center;border-radius: 15px 50px;\">Treinamento e obtenção dos coeficientes</h4>"
   ]
  },
  {
   "cell_type": "code",
   "execution_count": 17,
   "metadata": {
    "ExecuteTime": {
     "end_time": "2021-04-18T17:41:40.367718Z",
     "start_time": "2021-04-18T17:36:51.885519Z"
    }
   },
   "outputs": [
    {
     "data": {
      "text/plain": [
       "array([   15.27689583,    35.41493483,   190.19846199,   189.25254515,\n",
       "        -202.43788944,   130.5915937 ,   -19.50965547,   109.09457677,\n",
       "         264.70887875,   416.00481459,   -60.11189494,   -27.19607838,\n",
       "          -5.06817438,   -76.91907585,  -103.16297277,   -29.71277299,\n",
       "         117.75443305,     7.78232049,    85.46778073,    75.95361963,\n",
       "        -127.88740493,   154.75813408,   542.09727813,  -255.19469185,\n",
       "         119.85123723, -1127.2347107 ,   -34.47484142,  1263.95520172,\n",
       "         -83.56650651,    57.52769358,  -347.04068875,   192.64919669,\n",
       "        -142.37427702,   144.06420077,   376.65953143,    19.9743696 ,\n",
       "        -240.98845228,    -5.00510042,    66.64473919,    95.70582981,\n",
       "          14.70203724,    -5.56036677,    31.4092241 ,   -21.05152595,\n",
       "        -147.15045516,     0.        ,   -87.58560577,   116.21428345,\n",
       "          37.02983209,   -43.13366082,   -31.90847757,   -52.67473154,\n",
       "          25.3229108 ,     0.        ,   141.36728023,    13.38561253,\n",
       "         -25.08306923,    -0.        ,   -15.2340299 ,   -36.48287863,\n",
       "         123.4744409 ,     4.46947771,   -55.63894905])"
      ]
     },
     "execution_count": 17,
     "metadata": {},
     "output_type": "execute_result"
    }
   ],
   "source": [
    "lasso = Lasso(alpha = 0.1,random_state=42)\n",
    "lasso.fit(sX, y)             \n",
    "lasso_coef = list(lasso.coef_)\n",
    "lasso.coef_"
   ]
  },
  {
   "cell_type": "markdown",
   "metadata": {},
   "source": [
    "<a id=\"4.3.2.2\"></a>\n",
    "<h4 style=\"background-color:orange;font-family:newtimeroman;font-size:120%;text-align:center;border-radius: 15px 50px;\">Importância dos atributos</h4>"
   ]
  },
  {
   "cell_type": "code",
   "execution_count": 18,
   "metadata": {
    "ExecuteTime": {
     "end_time": "2021-04-18T17:41:50.477020Z",
     "start_time": "2021-04-18T17:41:50.401172Z"
    }
   },
   "outputs": [
    {
     "data": {
      "text/plain": [
       "['holiday',\n",
       " 'weekday',\n",
       " 'month',\n",
       " 'year',\n",
       " 'host_is_superhost',\n",
       " 'host_listings_count',\n",
       " 'host_has_profile_pic',\n",
       " 'host_identity_verified',\n",
       " 'accommodates',\n",
       " 'bedrooms',\n",
       " 'beds',\n",
       " 'minimum_nights',\n",
       " 'maximum_nights',\n",
       " 'number_of_reviews',\n",
       " 'review_scores_rating',\n",
       " 'review_scores_accuracy',\n",
       " 'review_scores_cleanliness',\n",
       " 'review_scores_checkin',\n",
       " 'review_scores_communication',\n",
       " 'review_scores_location',\n",
       " 'review_scores_value',\n",
       " 'instant_bookable',\n",
       " 'calculated_host_listings_count',\n",
       " 'host_since_year',\n",
       " 'host_response_rate_numeric',\n",
       " 'host_verifications_email',\n",
       " 'host_verifications_ government_id',\n",
       " 'host_verifications_ phone',\n",
       " 'host_verifications_ reviews',\n",
       " 'host_verifications_ jumio',\n",
       " 'host_verifications_ offline_government_id',\n",
       " 'host_verifications_ selfie',\n",
       " 'host_verifications_ facebook',\n",
       " 'host_verifications_ identity_manual',\n",
       " 'host_verifications_ work_email',\n",
       " 'amenities_ Wifi',\n",
       " 'amenities_ Essentials',\n",
       " 'amenities_ Long term stays allowed',\n",
       " 'amenities_ TV',\n",
       " 'amenities_ Kitchen',\n",
       " 'amenities_ Hangers',\n",
       " 'amenities_ Iron',\n",
       " 'amenities_ Air conditioning',\n",
       " 'amenities_ Washer',\n",
       " 'amenities_ Hot water',\n",
       " 'property_type_mod_Entire condominium',\n",
       " 'property_type_mod_Entire house',\n",
       " 'property_type_mod_Other values',\n",
       " 'property_type_mod_Private room in apartment',\n",
       " 'property_type_mod_Private room in house',\n",
       " 'room_type_Entire home/apt',\n",
       " 'room_type_Hotel room',\n",
       " 'room_type_Shared room',\n",
       " 'neighbourhood_cleansed_mod_Barra da Tijuca',\n",
       " 'neighbourhood_cleansed_mod_Botafogo',\n",
       " 'neighbourhood_cleansed_mod_Ipanema',\n",
       " 'neighbourhood_cleansed_mod_Jacarepaguá',\n",
       " 'neighbourhood_cleansed_mod_Leblon',\n",
       " 'neighbourhood_cleansed_mod_Other values',\n",
       " 'neighbourhood_cleansed_mod_Recreio dos Bandeirantes']"
      ]
     },
     "execution_count": 18,
     "metadata": {},
     "output_type": "execute_result"
    }
   ],
   "source": [
    "list_lasso = []\n",
    "for a in range(len(lasso_coef)):\n",
    "    if lasso_coef[a]!=0:\n",
    "        c = X.head(1).T.index[a]\n",
    "        list_lasso.append(c)\n",
    "list_lasso"
   ]
  },
  {
   "cell_type": "markdown",
   "metadata": {},
   "source": [
    "<a id=\"4.3.3\"></a>\n",
    "<h3 style=\"background-color:orange;font-family:newtimeroman;font-size:150%;text-align:center;border-radius: 15px 50px;\">Atributos PCA & LASSO</h3>"
   ]
  },
  {
   "cell_type": "code",
   "execution_count": 19,
   "metadata": {
    "ExecuteTime": {
     "end_time": "2021-04-18T17:41:55.544037Z",
     "start_time": "2021-04-18T17:41:55.540109Z"
    }
   },
   "outputs": [
    {
     "data": {
      "text/plain": [
       "['review_scores_accuracy',\n",
       " 'host_identity_verified',\n",
       " 'review_scores_location',\n",
       " 'accommodates',\n",
       " 'review_scores_cleanliness',\n",
       " 'room_type_Entire home/apt',\n",
       " 'review_scores_rating',\n",
       " 'review_scores_checkin',\n",
       " 'host_verifications_ government_id',\n",
       " 'review_scores_communication',\n",
       " 'host_verifications_ offline_government_id',\n",
       " 'bedrooms',\n",
       " 'host_verifications_ jumio',\n",
       " 'review_scores_value']"
      ]
     },
     "execution_count": 19,
     "metadata": {},
     "output_type": "execute_result"
    }
   ],
   "source": [
    "pca_lasso = list(set(l_pca_cols) & set(list_lasso))\n",
    "pca_lasso"
   ]
  },
  {
   "cell_type": "markdown",
   "metadata": {},
   "source": [
    "<a id=\"5\"></a>\n",
    "<h1 style=\"background-color:orange;font-family:newtimeroman;font-size:300%;text-align:center;border-radius: 15px 50px;\">Criação do Modelo</h1>"
   ]
  },
  {
   "cell_type": "markdown",
   "metadata": {},
   "source": [
    "<a id=\"5.1\"></a>\n",
    "<h2 style=\"background-color:orange;font-family:newtimeroman;font-size:200%;text-align:center;border-radius: 15px 50px;\">Comparativo de Modelos</h2>"
   ]
  },
  {
   "cell_type": "markdown",
   "metadata": {},
   "source": [
    "<a id=\"5.1.1\"></a>\n",
    "<h3 style=\"background-color:orange;font-family:newtimeroman;font-size:150%;text-align:center;border-radius: 15px 50px;\">Função de Comparação e Modelos</h3>"
   ]
  },
  {
   "cell_type": "code",
   "execution_count": 5,
   "metadata": {
    "ExecuteTime": {
     "end_time": "2021-04-19T10:54:19.608204Z",
     "start_time": "2021-04-19T10:54:19.597144Z"
    }
   },
   "outputs": [],
   "source": [
    "def comparar_modelos(lista_modelos, df_xtrain, df_xtest, df_ytrain, df_ytest):\n",
    "    for model in lista_modelos:  \n",
    "        print(\"=====\"+str(model)+\"=====\")\n",
    "        model.fit(df_xtrain, df_ytrain)\n",
    "        y_pred = model.predict(df_xtest)\n",
    "        residuos = df_ytest - y_pred\n",
    "        bp = sms.het_breuschpagan(residuos, df_xtest)\n",
    "        ks = stats.kstest(residuos, cdf=\"norm\")\n",
    "\n",
    "        r2= model.score(df_xtest, df_ytest)\n",
    "        print('==R2:', r2)\n",
    "        mae = mean_absolute_error(df_ytest, y_pred)\n",
    "        print(\"==MAE:\", np.round(mae,2))  \n",
    "\n",
    "        print(\"==p-value BP:\", bp[1])\n",
    "        if bp[1]<0.05:\n",
    "            print(\"heterocedasticidade\")\n",
    "        else:\n",
    "            print(\"HOMOCEDASTICIDADE\")\n",
    "        \n",
    "        print(\"==p-value KS\", ks[1])\n",
    "        if ks[1]<0.05:\n",
    "            print(\"Distribuição não normal \\n\")\n",
    "        else:\n",
    "            print(\"Distribuição NORMAL \\n\")"
   ]
  },
  {
   "cell_type": "code",
   "execution_count": 6,
   "metadata": {
    "ExecuteTime": {
     "end_time": "2021-04-19T10:54:20.946455Z",
     "start_time": "2021-04-19T10:54:20.942011Z"
    }
   },
   "outputs": [],
   "source": [
    "models_S = [LinearRegression(n_jobs=-1)]\n",
    "\n",
    "models = [DecisionTreeRegressor(random_state=42),\n",
    "          RandomForestRegressor(random_state=42, \n",
    "                            n_estimators=100,\n",
    "                            criterion='mse',\n",
    "                            n_jobs=-1), \n",
    "          xgboost.XGBRegressor(random_state=42, n_jobs=-1)]"
   ]
  },
  {
   "cell_type": "markdown",
   "metadata": {},
   "source": [
    "<a id=\"5.1.2\"></a>\n",
    "<h3 style=\"background-color:orange;font-family:newtimeroman;font-size:150%;text-align:center;border-radius: 15px 50px;\">Treino e teste</h3>"
   ]
  },
  {
   "cell_type": "code",
   "execution_count": 7,
   "metadata": {
    "ExecuteTime": {
     "end_time": "2021-04-19T10:54:29.862403Z",
     "start_time": "2021-04-19T10:54:25.886328Z"
    }
   },
   "outputs": [],
   "source": [
    "X_train, X_test, y_train, y_test = train_test_split(X, y, test_size=0.3, random_state=42)"
   ]
  },
  {
   "cell_type": "markdown",
   "metadata": {},
   "source": [
    "<a id=\"5.1.3\"></a>\n",
    "<h3 style=\"background-color:orange;font-family:newtimeroman;font-size:150%;text-align:center;border-radius: 15px 50px;\">Features PCA & LASSO</h3>"
   ]
  },
  {
   "cell_type": "markdown",
   "metadata": {},
   "source": [
    "<a id=\"5.1.3.1\"></a>\n",
    "<h4 style=\"background-color:orange;font-family:newtimeroman;font-size:120%;text-align:center;border-radius: 15px 50px;\">Aplicação do filtro</h4>"
   ]
  },
  {
   "cell_type": "code",
   "execution_count": 23,
   "metadata": {
    "ExecuteTime": {
     "end_time": "2021-04-18T17:44:09.119296Z",
     "start_time": "2021-04-18T17:44:08.250091Z"
    }
   },
   "outputs": [],
   "source": [
    "#filtro PCA&LASSO\n",
    "plX_train, plX_test = X_train[pca_lasso], X_test[pca_lasso]\n",
    "\n",
    "scaler_pl = StandardScaler().fit(X[pca_lasso])\n",
    "pl_sX_train, pl_sX_test = scaler_pl.transform(plX_train), scaler_pl.transform(plX_test)"
   ]
  },
  {
   "cell_type": "markdown",
   "metadata": {},
   "source": [
    "<a id=\"5.1.3.2\"></a>\n",
    "<h4 style=\"background-color:orange;font-family:newtimeroman;font-size:120%;text-align:center;border-radius: 15px 50px;\">Comparação dos Modelos</h4>"
   ]
  },
  {
   "cell_type": "code",
   "execution_count": 24,
   "metadata": {
    "ExecuteTime": {
     "end_time": "2021-04-18T17:51:31.155717Z",
     "start_time": "2021-04-18T17:44:11.285024Z"
    }
   },
   "outputs": [
    {
     "name": "stdout",
     "output_type": "stream",
     "text": [
      "=====DecisionTreeRegressor(random_state=42)=====\n",
      "==R2: 0.09890976446815758\n",
      "==MAE: 907.07\n",
      "==p-value BP: 2.844256202499061e-13\n",
      "heterocedasticidade\n",
      "==p-value KS 0.0\n",
      "Distribuição não normal \n",
      "\n",
      "=====RandomForestRegressor(n_jobs=-1, random_state=42)=====\n",
      "==R2: 0.09884004331409113\n",
      "==MAE: 907.61\n",
      "==p-value BP: 2.862179213614065e-13\n",
      "heterocedasticidade\n",
      "==p-value KS 0.0\n",
      "Distribuição não normal \n",
      "\n",
      "=====XGBRegressor(base_score=None, booster=None, colsample_bylevel=None,\n",
      "             colsample_bynode=None, colsample_bytree=None, gamma=None,\n",
      "             gpu_id=None, importance_type='gain', interaction_constraints=None,\n",
      "             learning_rate=None, max_delta_step=None, max_depth=None,\n",
      "             min_child_weight=None, missing=nan, monotone_constraints=None,\n",
      "             n_estimators=100, n_jobs=-1, num_parallel_tree=None,\n",
      "             random_state=42, reg_alpha=None, reg_lambda=None,\n",
      "             scale_pos_weight=None, subsample=None, tree_method=None,\n",
      "             validate_parameters=None, verbosity=None)=====\n",
      "==R2: 0.07492232414933575\n",
      "==MAE: 1071.72\n",
      "==p-value BP: 2.1326863469115142e-13\n",
      "heterocedasticidade\n",
      "==p-value KS 0.0\n",
      "Distribuição não normal \n",
      "\n"
     ]
    }
   ],
   "source": [
    "comparar_modelos(models, plX_train, plX_test, y_train, y_test)"
   ]
  },
  {
   "cell_type": "code",
   "execution_count": 25,
   "metadata": {
    "ExecuteTime": {
     "end_time": "2021-04-18T17:51:32.699667Z",
     "start_time": "2021-04-18T17:51:31.157244Z"
    }
   },
   "outputs": [
    {
     "name": "stdout",
     "output_type": "stream",
     "text": [
      "=====LinearRegression(n_jobs=-1)=====\n",
      "==R2: 0.006351819912197354\n",
      "==MAE: 1143.45\n",
      "==p-value BP: 2.0920791997525296e-08\n",
      "heterocedasticidade\n",
      "==p-value KS 0.0\n",
      "Distribuição não normal \n",
      "\n"
     ]
    }
   ],
   "source": [
    "comparar_modelos(models_S, pl_sX_train, pl_sX_test, y_train, y_test)"
   ]
  },
  {
   "cell_type": "markdown",
   "metadata": {},
   "source": [
    "<a id=\"5.1.4\"></a>\n",
    "<h3 style=\"background-color:orange;font-family:newtimeroman;font-size:150%;text-align:center;border-radius: 15px 50px;\">Features PCA</h3>"
   ]
  },
  {
   "cell_type": "markdown",
   "metadata": {},
   "source": [
    "<a id=\"5.1.4.1\"></a>\n",
    "<h4 style=\"background-color:orange;font-family:newtimeroman;font-size:120%;text-align:center;border-radius: 15px 50px;\">Aplicação do filtro</h4>"
   ]
  },
  {
   "cell_type": "code",
   "execution_count": 26,
   "metadata": {
    "ExecuteTime": {
     "end_time": "2021-04-18T17:54:58.413667Z",
     "start_time": "2021-04-18T17:54:57.494002Z"
    }
   },
   "outputs": [],
   "source": [
    "#filtro PCA\n",
    "pcaX_train, pcaX_test = X_train[l_pca_cols], X_test[l_pca_cols]\n",
    "\n",
    "scaler_pca = StandardScaler().fit(X[l_pca_cols])\n",
    "pca_sX_train, pca_sX_test = scaler_pca.transform(pcaX_train), scaler_pca.transform(pcaX_test)"
   ]
  },
  {
   "cell_type": "markdown",
   "metadata": {},
   "source": [
    "<a id=\"5.1.4.2\"></a>\n",
    "<h4 style=\"background-color:orange;font-family:newtimeroman;font-size:120%;text-align:center;border-radius: 15px 50px;\">Comparação dos Modelos</h4>"
   ]
  },
  {
   "cell_type": "code",
   "execution_count": 27,
   "metadata": {
    "ExecuteTime": {
     "end_time": "2021-04-18T18:01:41.854498Z",
     "start_time": "2021-04-18T17:55:00.946102Z"
    }
   },
   "outputs": [
    {
     "name": "stdout",
     "output_type": "stream",
     "text": [
      "=====DecisionTreeRegressor(random_state=42)=====\n",
      "==R2: 0.11233087218839055\n",
      "==MAE: 890.09\n",
      "==p-value BP: 2.4065511330416247e-74\n",
      "heterocedasticidade\n",
      "==p-value KS 0.0\n",
      "Distribuição não normal \n",
      "\n",
      "=====RandomForestRegressor(n_jobs=-1, random_state=42)=====\n",
      "==R2: 0.11224534401295727\n",
      "==MAE: 890.65\n",
      "==p-value BP: 2.6704232778997355e-74\n",
      "heterocedasticidade\n",
      "==p-value KS 0.0\n",
      "Distribuição não normal \n",
      "\n",
      "=====XGBRegressor(base_score=0.5, booster='gbtree', colsample_bylevel=1,\n",
      "             colsample_bynode=1, colsample_bytree=1, gamma=0, gpu_id=-1,\n",
      "             importance_type='gain', interaction_constraints='',\n",
      "             learning_rate=0.300000012, max_delta_step=0, max_depth=6,\n",
      "             min_child_weight=1, missing=nan, monotone_constraints='()',\n",
      "             n_estimators=100, n_jobs=-1, num_parallel_tree=1, random_state=42,\n",
      "             reg_alpha=0, reg_lambda=1, scale_pos_weight=1, subsample=1,\n",
      "             tree_method='exact', validate_parameters=1, verbosity=None)=====\n",
      "==R2: 0.07950009908738087\n",
      "==MAE: 1083.96\n",
      "==p-value BP: 3.8284806583463734e-73\n",
      "heterocedasticidade\n",
      "==p-value KS 0.0\n",
      "Distribuição não normal \n",
      "\n"
     ]
    }
   ],
   "source": [
    "comparar_modelos(models, pcaX_train, pcaX_test, y_train, y_test)"
   ]
  },
  {
   "cell_type": "code",
   "execution_count": 28,
   "metadata": {
    "ExecuteTime": {
     "end_time": "2021-04-18T18:01:43.915710Z",
     "start_time": "2021-04-18T18:01:41.857547Z"
    }
   },
   "outputs": [
    {
     "name": "stdout",
     "output_type": "stream",
     "text": [
      "=====LinearRegression(n_jobs=-1)=====\n",
      "==R2: 0.0066217882639109105\n",
      "==MAE: 1155.51\n",
      "==p-value BP: 3.3594573544184685e-71\n",
      "heterocedasticidade\n",
      "==p-value KS 0.0\n",
      "Distribuição não normal \n",
      "\n"
     ]
    }
   ],
   "source": [
    "comparar_modelos(models_S, pcaX_train, pcaX_test, y_train, y_test)"
   ]
  },
  {
   "cell_type": "markdown",
   "metadata": {},
   "source": [
    "<a id=\"5.1.5\"></a>\n",
    "<h3 style=\"background-color:orange;font-family:newtimeroman;font-size:150%;text-align:center;border-radius: 15px 50px;\">Features LASSO</h3>"
   ]
  },
  {
   "cell_type": "markdown",
   "metadata": {},
   "source": [
    "<a id=\"5.1.5.1\"></a>\n",
    "<h4 style=\"background-color:orange;font-family:newtimeroman;font-size:120%;text-align:center;border-radius: 15px 50px;\">Aplicação do filtro</h4>"
   ]
  },
  {
   "cell_type": "code",
   "execution_count": 8,
   "metadata": {
    "ExecuteTime": {
     "end_time": "2021-04-19T10:55:14.068378Z",
     "start_time": "2021-04-19T10:55:13.623807Z"
    }
   },
   "outputs": [],
   "source": [
    "#filtro LASSO\n",
    "lX_train, lX_test = X_train[list_lasso], X_test[list_lasso]\n",
    "\n",
    "scaler_l = StandardScaler().fit(X[list_lasso])\n",
    "l_sX_train, l_sX_test = scaler_l.transform(lX_train), scaler_l.transform(lX_test)"
   ]
  },
  {
   "cell_type": "markdown",
   "metadata": {},
   "source": [
    "<a id=\"5.1.5.2\"></a>\n",
    "<h4 style=\"background-color:orange;font-family:newtimeroman;font-size:120%;text-align:center;border-radius: 15px 50px;\">Comparação dos Modelos</h4>"
   ]
  },
  {
   "cell_type": "code",
   "execution_count": 30,
   "metadata": {
    "ExecuteTime": {
     "end_time": "2021-04-18T18:38:06.579331Z",
     "start_time": "2021-04-18T18:02:08.614554Z"
    }
   },
   "outputs": [
    {
     "name": "stdout",
     "output_type": "stream",
     "text": [
      "=====DecisionTreeRegressor(random_state=42)=====\n",
      "==R2: 0.7591443083830591\n",
      "==MAE: 253.9\n",
      "==p-value BP: 0.0\n",
      "heterocedasticidade\n",
      "==p-value KS 0.0\n",
      "Distribuição não normal \n",
      "\n",
      "=====RandomForestRegressor(n_jobs=-1, random_state=42)=====\n",
      "==R2: 0.8320532329702858\n",
      "==MAE: 235.72\n",
      "==p-value BP: 0.0\n",
      "heterocedasticidade\n",
      "==p-value KS 0.0\n",
      "Distribuição não normal \n",
      "\n",
      "=====XGBRegressor(base_score=0.5, booster='gbtree', colsample_bylevel=1,\n",
      "             colsample_bynode=1, colsample_bytree=1, gamma=0, gpu_id=-1,\n",
      "             importance_type='gain', interaction_constraints='',\n",
      "             learning_rate=0.300000012, max_delta_step=0, max_depth=6,\n",
      "             min_child_weight=1, missing=nan, monotone_constraints='()',\n",
      "             n_estimators=100, n_jobs=-1, num_parallel_tree=1, random_state=42,\n",
      "             reg_alpha=0, reg_lambda=1, scale_pos_weight=1, subsample=1,\n",
      "             tree_method='exact', validate_parameters=1, verbosity=None)=====\n",
      "==R2: 0.8375261873049099\n",
      "==MAE: 710.4\n",
      "==p-value BP: 0.0\n",
      "heterocedasticidade\n",
      "==p-value KS 0.0\n",
      "Distribuição não normal \n",
      "\n"
     ]
    }
   ],
   "source": [
    "comparar_modelos(models, lX_train, lX_test, y_train, y_test)"
   ]
  },
  {
   "cell_type": "code",
   "execution_count": 31,
   "metadata": {
    "ExecuteTime": {
     "end_time": "2021-04-18T18:38:13.151719Z",
     "start_time": "2021-04-18T18:38:06.580831Z"
    }
   },
   "outputs": [
    {
     "name": "stdout",
     "output_type": "stream",
     "text": [
      "=====LinearRegression(n_jobs=-1)=====\n",
      "==R2: 0.013334824542375778\n",
      "==MAE: 1316.99\n",
      "==p-value BP: 6.443257403481003e-109\n",
      "heterocedasticidade\n",
      "==p-value KS 0.0\n",
      "Distribuição não normal \n",
      "\n"
     ]
    }
   ],
   "source": [
    "comparar_modelos(models_S, l_sX_train, l_sX_test, y_train, y_test)"
   ]
  },
  {
   "cell_type": "markdown",
   "metadata": {},
   "source": [
    "<a id=\"5.1.6\"></a>\n",
    "<h3 style=\"background-color:orange;font-family:newtimeroman;font-size:150%;text-align:center;border-radius: 15px 50px;\">Features com as 41 componentes do PCA</h3>"
   ]
  },
  {
   "cell_type": "markdown",
   "metadata": {},
   "source": [
    "<a id=\"5.1.6.1\"></a>\n",
    "<h4 style=\"background-color:orange;font-family:newtimeroman;font-size:120%;text-align:center;border-radius: 15px 50px;\">Aplicação do filtro</h4>"
   ]
  },
  {
   "cell_type": "code",
   "execution_count": 32,
   "metadata": {
    "ExecuteTime": {
     "end_time": "2021-04-18T18:40:34.325440Z",
     "start_time": "2021-04-18T18:40:31.136858Z"
    }
   },
   "outputs": [],
   "source": [
    "#filtro PCA41\n",
    "pca41X_train, pca41X_test = X_train.loc[:,'PCA1':'PCA41'], X_test.loc[:,'PCA1':'PCA41']\n",
    "\n",
    "scaler_pca41 = StandardScaler().fit(X.loc[:,'PCA1':'PCA41'])\n",
    "pca41_sX_train, pca41_sX_test = scaler_pca41.transform(pca41X_train), scaler_pca41.transform(pca41X_test)"
   ]
  },
  {
   "cell_type": "markdown",
   "metadata": {},
   "source": [
    "<a id=\"5.1.6.2\"></a>\n",
    "<h4 style=\"background-color:orange;font-family:newtimeroman;font-size:120%;text-align:center;border-radius: 15px 50px;\">Comparação dos Modelos</h4>"
   ]
  },
  {
   "cell_type": "code",
   "execution_count": 33,
   "metadata": {
    "ExecuteTime": {
     "end_time": "2021-04-18T20:48:57.600540Z",
     "start_time": "2021-04-18T18:40:41.115010Z"
    }
   },
   "outputs": [
    {
     "name": "stdout",
     "output_type": "stream",
     "text": [
      "=====DecisionTreeRegressor(random_state=42)=====\n",
      "==R2: 0.35824769588876304\n",
      "==MAE: 328.54\n",
      "==p-value BP: 8.13183931578377e-57\n",
      "heterocedasticidade\n",
      "==p-value KS 0.0\n",
      "Distribuição não normal \n",
      "\n",
      "=====RandomForestRegressor(n_jobs=-1, random_state=42)=====\n",
      "==R2: 0.6115465751069276\n",
      "==MAE: 330.65\n",
      "==p-value BP: 9.73082975521587e-50\n",
      "heterocedasticidade\n",
      "==p-value KS 0.0\n",
      "Distribuição não normal \n",
      "\n",
      "=====XGBRegressor(base_score=0.5, booster='gbtree', colsample_bylevel=1,\n",
      "             colsample_bynode=1, colsample_bytree=1, gamma=0, gpu_id=-1,\n",
      "             importance_type='gain', interaction_constraints='',\n",
      "             learning_rate=0.300000012, max_delta_step=0, max_depth=6,\n",
      "             min_child_weight=1, missing=nan, monotone_constraints='()',\n",
      "             n_estimators=100, n_jobs=-1, num_parallel_tree=1, random_state=42,\n",
      "             reg_alpha=0, reg_lambda=1, scale_pos_weight=1, subsample=1,\n",
      "             tree_method='exact', validate_parameters=1, verbosity=None)=====\n",
      "==R2: 0.6624534310188671\n",
      "==MAE: 843.93\n",
      "==p-value BP: 1.5997820700345623e-65\n",
      "heterocedasticidade\n",
      "==p-value KS 0.0\n",
      "Distribuição não normal \n",
      "\n"
     ]
    }
   ],
   "source": [
    "comparar_modelos(models, pca41X_train, pca41X_test, y_train, y_test)"
   ]
  },
  {
   "cell_type": "code",
   "execution_count": 34,
   "metadata": {
    "ExecuteTime": {
     "end_time": "2021-04-18T20:49:03.798428Z",
     "start_time": "2021-04-18T20:48:57.602443Z"
    },
    "scrolled": true
   },
   "outputs": [
    {
     "name": "stdout",
     "output_type": "stream",
     "text": [
      "=====LinearRegression(n_jobs=-1)=====\n",
      "==R2: 0.01116244461939686\n",
      "==MAE: 1281.61\n",
      "==p-value BP: 2.7903674160218493e-94\n",
      "heterocedasticidade\n",
      "==p-value KS 0.0\n",
      "Distribuição não normal \n",
      "\n"
     ]
    }
   ],
   "source": [
    "comparar_modelos(models_S, pca41_sX_train, pca41_sX_test, y_train, y_test)"
   ]
  },
  {
   "cell_type": "markdown",
   "metadata": {},
   "source": [
    "<a id=\"5.1.7\"></a>\n",
    "<h3 style=\"background-color:orange;font-family:newtimeroman;font-size:150%;text-align:center;border-radius: 15px 50px;\">Todas as Features</h3>"
   ]
  },
  {
   "cell_type": "markdown",
   "metadata": {},
   "source": [
    "<a id=\"5.1.7.1\"></a>\n",
    "<h4 style=\"background-color:orange;font-family:newtimeroman;font-size:120%;text-align:center;border-radius: 15px 50px;\">Comparação dos Modelos</h4>"
   ]
  },
  {
   "cell_type": "code",
   "execution_count": 9,
   "metadata": {
    "ExecuteTime": {
     "end_time": "2021-04-18T21:40:32.375658Z",
     "start_time": "2021-04-18T20:52:20.452055Z"
    }
   },
   "outputs": [
    {
     "name": "stdout",
     "output_type": "stream",
     "text": [
      "=====DecisionTreeRegressor(random_state=42)=====\n",
      "==R2: 0.7592219483081972\n",
      "==MAE: 253.82\n",
      "==p-value BP: 0.0\n",
      "heterocedasticidade\n",
      "==p-value KS 0.0\n",
      "Distribuição não normal \n",
      "\n",
      "=====RandomForestRegressor(n_jobs=-1, random_state=42)=====\n",
      "==R2: 0.8318496059734594\n",
      "==MAE: 235.96\n",
      "==p-value BP: 0.0\n",
      "heterocedasticidade\n",
      "==p-value KS 0.0\n",
      "Distribuição não normal \n",
      "\n",
      "=====XGBRegressor(base_score=None, booster=None, colsample_bylevel=None,\n",
      "             colsample_bynode=None, colsample_bytree=None, gamma=None,\n",
      "             gpu_id=None, importance_type='gain', interaction_constraints=None,\n",
      "             learning_rate=None, max_delta_step=None, max_depth=None,\n",
      "             min_child_weight=None, missing=nan, monotone_constraints=None,\n",
      "             n_estimators=100, n_jobs=-1, num_parallel_tree=None,\n",
      "             random_state=42, reg_alpha=None, reg_lambda=None,\n",
      "             scale_pos_weight=None, subsample=None, tree_method=None,\n",
      "             validate_parameters=None, verbosity=None)=====\n",
      "==R2: 0.8396366705602958\n",
      "==MAE: 696.79\n",
      "==p-value BP: 0.0\n",
      "heterocedasticidade\n",
      "==p-value KS 0.0\n",
      "Distribuição não normal \n",
      "\n"
     ]
    }
   ],
   "source": [
    "comparar_modelos(models, X_train.loc[:,'holiday':'neighbourhood_cleansed_mod_Recreio dos Bandeirantes'],\n",
    "                 X_test.loc[:,'holiday':'neighbourhood_cleansed_mod_Recreio dos Bandeirantes'], y_train, y_test)"
   ]
  },
  {
   "cell_type": "markdown",
   "metadata": {},
   "source": [
    "<a id=\"5.2\"></a>\n",
    "<h2 style=\"background-color:orange;font-family:newtimeroman;font-size:200%;text-align:center;border-radius: 15px 50px;\">Análise do melhor modelo</h2>"
   ]
  },
  {
   "cell_type": "markdown",
   "metadata": {},
   "source": [
    "<a id=\"5.2.1\"></a>\n",
    "<h3 style=\"background-color:orange;font-family:newtimeroman;font-size:150%;text-align:center;border-radius: 15px 50px;\">Métricas</h3>"
   ]
  },
  {
   "cell_type": "code",
   "execution_count": 9,
   "metadata": {
    "ExecuteTime": {
     "end_time": "2021-04-19T11:43:32.116921Z",
     "start_time": "2021-04-19T10:55:34.487815Z"
    }
   },
   "outputs": [
    {
     "data": {
      "text/plain": [
       "RandomForestRegressor(n_jobs=-1, random_state=42)"
      ]
     },
     "execution_count": 9,
     "metadata": {},
     "output_type": "execute_result"
    }
   ],
   "source": [
    "rfr = RandomForestRegressor(random_state=42, \n",
    "                            n_estimators=100,\n",
    "                            criterion='mse',\n",
    "                            n_jobs=-1)\n",
    "rfr.fit(lX_train, y_train)"
   ]
  },
  {
   "cell_type": "code",
   "execution_count": 11,
   "metadata": {
    "ExecuteTime": {
     "end_time": "2021-04-19T11:50:27.747642Z",
     "start_time": "2021-04-19T11:49:54.243170Z"
    }
   },
   "outputs": [
    {
     "name": "stdout",
     "output_type": "stream",
     "text": [
      "==R2: 0.8320532329702858\n",
      "==MAE: 235.72\n"
     ]
    }
   ],
   "source": [
    "y_pred = rfr.predict(lX_test)\n",
    "\n",
    "r2= rfr.score(lX_test, y_test)\n",
    "print('==R2:', r2)\n",
    "mae = mean_absolute_error(y_test, y_pred)\n",
    "print(\"==MAE:\", np.round(mae,2))  "
   ]
  },
  {
   "cell_type": "markdown",
   "metadata": {},
   "source": [
    "<a id=\"5.2.2\"></a>\n",
    "<h3 style=\"background-color:orange;font-family:newtimeroman;font-size:150%;text-align:center;border-radius: 15px 50px;\">Features Importantes classificadas pelo modelo</h3>"
   ]
  },
  {
   "cell_type": "code",
   "execution_count": 13,
   "metadata": {
    "ExecuteTime": {
     "end_time": "2021-04-19T11:52:09.888205Z",
     "start_time": "2021-04-19T11:52:09.755580Z"
    }
   },
   "outputs": [
    {
     "name": "stdout",
     "output_type": "stream",
     "text": [
      "weekday        0.383\n",
      "month          0.098\n",
      "maximum_nights     0.055\n",
      "beds           0.049\n",
      "host_listings_count     0.049\n",
      "minimum_nights     0.038\n",
      "amenities_ Essentials     0.029\n",
      "number_of_reviews     0.024\n",
      "accommodates     0.023\n",
      "host_verifications_ identity_manual     0.020\n",
      "calculated_host_listings_count     0.018\n",
      "property_type_mod_Other values     0.015\n",
      "host_verifications_email     0.015\n",
      "host_since_year     0.014\n",
      "amenities_ Air conditioning     0.012\n",
      "bedrooms       0.011\n",
      "room_type_Shared room     0.010\n",
      "review_scores_rating     0.010\n",
      "neighbourhood_cleansed_mod_Other values     0.010\n",
      "neighbourhood_cleansed_mod_Botafogo     0.009\n",
      "review_scores_value     0.008\n",
      "year           0.006\n",
      "host_response_rate_numeric     0.006\n",
      "holiday        0.006\n",
      "amenities_ Kitchen     0.005\n",
      "review_scores_accuracy     0.005\n",
      "review_scores_communication     0.005\n",
      "amenities_ Hot water     0.005\n",
      "review_scores_checkin     0.005\n",
      "review_scores_cleanliness     0.004\n",
      "neighbourhood_cleansed_mod_Leblon     0.004\n",
      "host_verifications_ phone     0.004\n",
      "instant_bookable     0.004\n",
      "amenities_ Washer     0.004\n",
      "amenities_ Iron     0.004\n",
      "neighbourhood_cleansed_mod_Ipanema     0.004\n",
      "amenities_ Hangers     0.003\n",
      "property_type_mod_Entire house     0.003\n",
      "host_verifications_ selfie     0.002\n",
      "neighbourhood_cleansed_mod_Barra da Tijuca     0.002\n",
      "amenities_ Wifi     0.002\n",
      "amenities_ TV     0.002\n",
      "host_verifications_ government_id     0.002\n",
      "host_verifications_ jumio     0.002\n",
      "neighbourhood_cleansed_mod_Jacarepaguá     0.002\n",
      "review_scores_location     0.001\n",
      "host_verifications_ reviews     0.001\n",
      "property_type_mod_Private room in apartment     0.001\n",
      "host_verifications_ offline_government_id     0.001\n",
      "room_type_Entire home/apt     0.001\n",
      "neighbourhood_cleansed_mod_Recreio dos Bandeirantes     0.001\n",
      "host_identity_verified     0.001\n",
      "host_verifications_ work_email     0.001\n",
      "host_is_superhost     0.001\n",
      "host_verifications_ facebook     0.000\n",
      "room_type_Hotel room     0.000\n",
      "amenities_ Long term stays allowed     0.000\n",
      "property_type_mod_Private room in house     0.000\n",
      "host_has_profile_pic     0.000\n",
      "property_type_mod_Entire condominium     0.000\n"
     ]
    }
   ],
   "source": [
    "for col, val in sorted(\n",
    "    zip(lX_train.columns,rfr.feature_importances_),\n",
    "    key=lambda x: x[1], reverse=True):\n",
    "    print(f\"{col:10}{val:10.3f}\")"
   ]
  },
  {
   "cell_type": "markdown",
   "metadata": {},
   "source": [
    "<a id=\"5.2.3\"></a>\n",
    "<h3 style=\"background-color:orange;font-family:newtimeroman;font-size:150%;text-align:center;border-radius: 15px 50px;\">Gráfico de erros de predição</h3>"
   ]
  },
  {
   "cell_type": "code",
   "execution_count": 14,
   "metadata": {
    "ExecuteTime": {
     "end_time": "2021-04-19T11:52:17.054219Z",
     "start_time": "2021-04-19T11:52:15.560601Z"
    }
   },
   "outputs": [
    {
     "data": {
      "image/png": "[encoded data removed]",
      "text/plain": [
       "<Figure size 432x288 with 1 Axes>"
      ]
     },
     "metadata": {},
     "output_type": "display_data"
    }
   ],
   "source": [
    "fig = plt.figure()\n",
    "l = plt.plot(y_pred, y_test, 'bo')\n",
    "xl = np.arange(min(y_test), 1.2*max(y_test),(max(y_test)-min(y_test))/10)\n",
    "yl = xl\n",
    "plt.plot(xl, yl, 'r--')\n",
    "plt.show(True)"
   ]
  },
  {
   "cell_type": "markdown",
   "metadata": {},
   "source": [
    "<a id=\"4\"></a>\n",
    "<h1 style=\"background-color:orange;font-family:newtimeroman;font-size:300%;text-align:center;border-radius: 15px 50px;\">Conclusão</h1>"
   ]
  },
  {
   "cell_type": "markdown",
   "metadata": {},
   "source": [
    "O modelo com melhor comportamento foi o Random Forest Regressor, tanto aplicado com as variáveis do LASSO quanto as variáveis originais, optou-se pelos atributos LASSO.\n",
    "\n",
    "As seguintes métricas de avaliação foram obtidas:\n",
    "* R2: 0.832\n",
    "* MAE: 235.72\n",
    "\n",
    "Ainda não pode-se dizer que é o modelo desejável, uma vez que, o MAE está elevado, e os resíduos ndo modelo não passaram nos testes de Breusch-Pagan e Kolmogorov-Smirvoc.\n",
    "\n",
    "De modo a obter melhores resultados, os próximos passos seriam:\n",
    "\n",
    "1. Realizar uma feature engineering mais detalhada;\n",
    "2. Após a obtenção do modelo com melhor comportamento, efetuar hyperparameter optimization;\n",
    "3. Avaliar se estas alterações foram relevantes."
   ]
  }
 ],
 "metadata": {
  "kernelspec": {
   "display_name": "Python 3",
   "language": "python",
   "name": "python3"
  },
  "language_info": {
   "codemirror_mode": {
    "name": "ipython",
    "version": 3
   },
   "file_extension": ".py",
   "mimetype": "text/x-python",
   "name": "python",
   "nbconvert_exporter": "python",
   "pygments_lexer": "ipython3",
   "version": "3.8.5"
  },
  "nbTranslate": {
   "displayLangs": [
    "*"
   ],
   "hotkey": "alt-t",
   "langInMainMenu": true,
   "sourceLang": "en",
   "targetLang": "fr",
   "useGoogleTranslate": true
  },
  "toc": {
   "base_numbering": 1,
   "nav_menu": {},
   "number_sections": true,
   "sideBar": true,
   "skip_h1_title": false,
   "title_cell": "Table of Contents",
   "title_sidebar": "Contents",
   "toc_cell": false,
   "toc_position": {
    "height": "calc(100% - 180px)",
    "left": "10px",
    "top": "150px",
    "width": "276.367px"
   },
   "toc_section_display": true,
   "toc_window_display": true
  }
 },
 "nbformat": 4,
 "nbformat_minor": 4
}
