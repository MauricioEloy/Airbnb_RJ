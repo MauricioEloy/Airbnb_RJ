{
 "cells": [
  {
   "cell_type": "markdown",
   "metadata": {},
   "source": [
    "<p> <img src=\"LOGO.png\"  align=\"midle\"></p>\n",
    "\n",
    "**Data Science**<br>\n",
    "\n",
    "*profmauricioeloy@gmail.com | mauricioeloy@usp.br.<br>*"
   ]
  },
  {
   "cell_type": "markdown",
   "metadata": {
    "ExecuteTime": {
     "end_time": "2021-03-23T02:45:00.249551Z",
     "start_time": "2021-03-23T02:45:00.239616Z"
    }
   },
   "source": [
    "**Sumário:**\n",
    "\n",
    "\n",
    "* [1. Introdução](#1)\n",
    "    * [1.1 Formulação do Problema](#1.1)\n",
    "    * [1.2 Bibliotecas e Utilitários](#1.2)\n",
    "    * [1.3 Carregando Dados](#1.3)\n",
    "* [2. Análise Exploratória de Dados (EDA)](#2)\n",
    "    * [2.1 Dataprep - Automatic EDA](#2.1)\n",
    "* [3. Pré-processamento de Dados](#3)\n",
    "    * [3.1 Tratamento NaN + Duplicados](#3.1)\n",
    "        * [3.1.1 Listings](#3.1.1)\n",
    "    * [3.2 Geração da Base Unificada](#3.2)\n",
    "        * [3.2.1 Criação da base geral](#3.2.1)\n",
    "    * [3.3 Feature Engineering](#3.3)\n",
    "        * [3.3.1 Feature Creation](#3.3.1)\n",
    "            * [3.3.1.1 Variáveis Dummies](#3.3.1.1)\n",
    "        * [3.3.2 Feature Selection](#3.3.2)\n",
    "* [4. Seleção do Modelo e Avaliação](#4) \n",
    "    * [4.1 ](#4.1)\n",
    "    * [4.2 ](#4.2)\n",
    "    * [4.3 Avaliação do Modelos)](#4.3)\n",
    "        * [Métricas Utilizadas](#4.3.1)\n",
    "        * [Comparativo dos modelos](#4.3.2)"
   ]
  },
  {
   "cell_type": "markdown",
   "metadata": {},
   "source": [
    "<a id=\"1\"></a>\n",
    "<h1 style=\"background-color:orange;font-family:newtimeroman;font-size:300%;text-align:center;border-radius: 15px 50px;\">Introdução</h1>"
   ]
  },
  {
   "cell_type": "markdown",
   "metadata": {},
   "source": [
    "<a id=\"1.1\"></a>\n",
    "<h2 style=\"background-color:orange;font-family:newtimeroman;font-size:200%;text-align:center;border-radius: 15px 50px;\">Formulação do Problema</h2>"
   ]
  },
  {
   "cell_type": "markdown",
   "metadata": {},
   "source": [
    "Fazer uma análise exploratória para avaliar a consistência dos dados e identificar possíveis variáveis que impactam sua variável resposta.\n",
    "\n",
    "Para posteriormente realizar a previsão do preço da estadia (feature ‘price’)"
   ]
  },
  {
   "cell_type": "markdown",
   "metadata": {},
   "source": [
    "<a id=\"1.2\"></a>\n",
    "<h2 style=\"background-color:orange;font-family:newtimeroman;font-size:200%;text-align:center;border-radius: 15px 50px;\">Bibliotecas e Utilitários</h2>"
   ]
  },
  {
   "cell_type": "code",
   "execution_count": 1,
   "metadata": {
    "ExecuteTime": {
     "end_time": "2021-04-16T19:26:46.971829Z",
     "start_time": "2021-04-16T19:26:44.834370Z"
    }
   },
   "outputs": [],
   "source": [
    "#basicas\n",
    "import pandas as pd\n",
    "import numpy as np\n",
    "# import matplotlib.pyplot as plt\n",
    "# %matplotlib inline\n",
    "# import seaborn as sns\n",
    "# sns.set()\n",
    "\n",
    "#EDA\n",
    "import pandas_profiling as pdpf\n",
    "\n",
    "import holidays\n",
    "\n",
    "from sklearn.model_selection import (train_test_split,RandomizedSearchCV)\n",
    "\n",
    "# from sklearn.preprocessing import StandardScaler\n",
    "\n",
    "from sklearn.dummy import DummyRegressor\n",
    "\n",
    "from sklearn.tree import (DecisionTreeRegressor)\n",
    "\n",
    "from sklearn.ensemble import (RandomForestRegressor)\n",
    "\n",
    "import xgboost\n",
    "\n",
    "from sklearn.metrics import (r2_score, mean_absolute_error, mean_squared_error, classification_report)\n",
    "\n",
    "from scipy.stats import (uniform, randint)"
   ]
  },
  {
   "cell_type": "markdown",
   "metadata": {},
   "source": [
    "<a id=\"1.3\"></a>\n",
    "<h2 style=\"background-color:orange;font-family:newtimeroman;font-size:200%;text-align:center;border-radius: 15px 50px;\">Carregando Dados</h2>\n",
    "\n",
    "Os dados utilizados são do Airbnb Rio de Janeiro, conforme fonte:\n",
    "http://insideairbnb.com/get-the-data.html.\n",
    "\n",
    "* listings.csv.gz: Dados detalhados de listagens para o Rio de Janeiro. \n",
    "    \n",
    "*  calendar.csv.gz: Dados detalhados do calendário para listagens no Rio de Janeiro."
   ]
  },
  {
   "cell_type": "code",
   "execution_count": 3,
   "metadata": {
    "ExecuteTime": {
     "end_time": "2021-04-16T19:27:09.632461Z",
     "start_time": "2021-04-16T19:27:08.691218Z"
    }
   },
   "outputs": [
    {
     "data": {
      "text/html": [
       "<div>\n",
       "<style scoped>\n",
       "    .dataframe tbody tr th:only-of-type {\n",
       "        vertical-align: middle;\n",
       "    }\n",
       "\n",
       "    .dataframe tbody tr th {\n",
       "        vertical-align: top;\n",
       "    }\n",
       "\n",
       "    .dataframe thead th {\n",
       "        text-align: right;\n",
       "    }\n",
       "</style>\n",
       "<table border=\"1\" class=\"dataframe\">\n",
       "  <thead>\n",
       "    <tr style=\"text-align: right;\">\n",
       "      <th></th>\n",
       "      <th>id</th>\n",
       "      <th>listing_url</th>\n",
       "      <th>scrape_id</th>\n",
       "      <th>last_scraped</th>\n",
       "      <th>name</th>\n",
       "      <th>description</th>\n",
       "      <th>neighborhood_overview</th>\n",
       "      <th>picture_url</th>\n",
       "      <th>host_id</th>\n",
       "      <th>host_url</th>\n",
       "      <th>...</th>\n",
       "      <th>review_scores_communication</th>\n",
       "      <th>review_scores_location</th>\n",
       "      <th>review_scores_value</th>\n",
       "      <th>license</th>\n",
       "      <th>instant_bookable</th>\n",
       "      <th>calculated_host_listings_count</th>\n",
       "      <th>calculated_host_listings_count_entire_homes</th>\n",
       "      <th>calculated_host_listings_count_private_rooms</th>\n",
       "      <th>calculated_host_listings_count_shared_rooms</th>\n",
       "      <th>reviews_per_month</th>\n",
       "    </tr>\n",
       "  </thead>\n",
       "  <tbody>\n",
       "    <tr>\n",
       "      <th>0</th>\n",
       "      <td>17878</td>\n",
       "      <td>https://www.airbnb.com/rooms/17878</td>\n",
       "      <td>20210222161029</td>\n",
       "      <td>2021-02-23</td>\n",
       "      <td>Very Nice 2Br in Copacabana w. balcony, fast WiFi</td>\n",
       "      <td>Discounts for long term stays. &lt;br /&gt;- Large b...</td>\n",
       "      <td>This is the one of the bests spots in Rio. Bec...</td>\n",
       "      <td>https://a0.muscache.com/pictures/65320518/3069...</td>\n",
       "      <td>68997</td>\n",
       "      <td>https://www.airbnb.com/users/show/68997</td>\n",
       "      <td>...</td>\n",
       "      <td>10.0</td>\n",
       "      <td>10.0</td>\n",
       "      <td>9.0</td>\n",
       "      <td>NaN</td>\n",
       "      <td>t</td>\n",
       "      <td>1</td>\n",
       "      <td>1</td>\n",
       "      <td>0</td>\n",
       "      <td>0</td>\n",
       "      <td>2.01</td>\n",
       "    </tr>\n",
       "    <tr>\n",
       "      <th>1</th>\n",
       "      <td>24480</td>\n",
       "      <td>https://www.airbnb.com/rooms/24480</td>\n",
       "      <td>20210222161029</td>\n",
       "      <td>2021-02-23</td>\n",
       "      <td>Nice and cozy near Ipanema Beach</td>\n",
       "      <td>My studio is located in the best  of Ipanema. ...</td>\n",
       "      <td>The beach, the lagoon, Ipanema is a great loca...</td>\n",
       "      <td>https://a0.muscache.com/pictures/11955612/b28e...</td>\n",
       "      <td>99249</td>\n",
       "      <td>https://www.airbnb.com/users/show/99249</td>\n",
       "      <td>...</td>\n",
       "      <td>10.0</td>\n",
       "      <td>10.0</td>\n",
       "      <td>9.0</td>\n",
       "      <td>NaN</td>\n",
       "      <td>f</td>\n",
       "      <td>1</td>\n",
       "      <td>1</td>\n",
       "      <td>0</td>\n",
       "      <td>0</td>\n",
       "      <td>0.67</td>\n",
       "    </tr>\n",
       "    <tr>\n",
       "      <th>2</th>\n",
       "      <td>25026</td>\n",
       "      <td>https://www.airbnb.com/rooms/25026</td>\n",
       "      <td>20210222161029</td>\n",
       "      <td>2021-02-23</td>\n",
       "      <td>Beautiful Modern Decorated Studio in Copa</td>\n",
       "      <td>Our apartment is a little gem, everyone loves ...</td>\n",
       "      <td>Copacabana is a lively neighborhood and the ap...</td>\n",
       "      <td>https://a0.muscache.com/pictures/3003965/68ebb...</td>\n",
       "      <td>3746246</td>\n",
       "      <td>https://www.airbnb.com/users/show/3746246</td>\n",
       "      <td>...</td>\n",
       "      <td>10.0</td>\n",
       "      <td>10.0</td>\n",
       "      <td>9.0</td>\n",
       "      <td>NaN</td>\n",
       "      <td>f</td>\n",
       "      <td>11</td>\n",
       "      <td>11</td>\n",
       "      <td>0</td>\n",
       "      <td>0</td>\n",
       "      <td>1.82</td>\n",
       "    </tr>\n",
       "    <tr>\n",
       "      <th>3</th>\n",
       "      <td>35636</td>\n",
       "      <td>https://www.airbnb.com/rooms/35636</td>\n",
       "      <td>20210222161029</td>\n",
       "      <td>2021-02-24</td>\n",
       "      <td>Cosy flat close to Ipanema beach</td>\n",
       "      <td>This cosy apartment  is just a few steps away ...</td>\n",
       "      <td>The  apartment street is very quiet and safe ....</td>\n",
       "      <td>https://a0.muscache.com/pictures/20009355/38b6...</td>\n",
       "      <td>153232</td>\n",
       "      <td>https://www.airbnb.com/users/show/153232</td>\n",
       "      <td>...</td>\n",
       "      <td>10.0</td>\n",
       "      <td>10.0</td>\n",
       "      <td>9.0</td>\n",
       "      <td>NaN</td>\n",
       "      <td>f</td>\n",
       "      <td>1</td>\n",
       "      <td>1</td>\n",
       "      <td>0</td>\n",
       "      <td>0</td>\n",
       "      <td>2.02</td>\n",
       "    </tr>\n",
       "    <tr>\n",
       "      <th>4</th>\n",
       "      <td>35764</td>\n",
       "      <td>https://www.airbnb.com/rooms/35764</td>\n",
       "      <td>20210222161029</td>\n",
       "      <td>2021-02-23</td>\n",
       "      <td>COPACABANA SEA BREEZE  -  RIO - 20 X Superhost</td>\n",
       "      <td>Our newly renovated studio is located in the b...</td>\n",
       "      <td>Our guests will experience living with a local...</td>\n",
       "      <td>https://a0.muscache.com/pictures/23782972/1d3e...</td>\n",
       "      <td>153691</td>\n",
       "      <td>https://www.airbnb.com/users/show/153691</td>\n",
       "      <td>...</td>\n",
       "      <td>10.0</td>\n",
       "      <td>10.0</td>\n",
       "      <td>10.0</td>\n",
       "      <td>NaN</td>\n",
       "      <td>f</td>\n",
       "      <td>1</td>\n",
       "      <td>1</td>\n",
       "      <td>0</td>\n",
       "      <td>0</td>\n",
       "      <td>2.79</td>\n",
       "    </tr>\n",
       "  </tbody>\n",
       "</table>\n",
       "<p>5 rows × 74 columns</p>\n",
       "</div>"
      ],
      "text/plain": [
       "      id                         listing_url       scrape_id last_scraped  \\\n",
       "0  17878  https://www.airbnb.com/rooms/17878  20210222161029   2021-02-23   \n",
       "1  24480  https://www.airbnb.com/rooms/24480  20210222161029   2021-02-23   \n",
       "2  25026  https://www.airbnb.com/rooms/25026  20210222161029   2021-02-23   \n",
       "3  35636  https://www.airbnb.com/rooms/35636  20210222161029   2021-02-24   \n",
       "4  35764  https://www.airbnb.com/rooms/35764  20210222161029   2021-02-23   \n",
       "\n",
       "                                                name  \\\n",
       "0  Very Nice 2Br in Copacabana w. balcony, fast WiFi   \n",
       "1                   Nice and cozy near Ipanema Beach   \n",
       "2          Beautiful Modern Decorated Studio in Copa   \n",
       "3                   Cosy flat close to Ipanema beach   \n",
       "4     COPACABANA SEA BREEZE  -  RIO - 20 X Superhost   \n",
       "\n",
       "                                         description  \\\n",
       "0  Discounts for long term stays. <br />- Large b...   \n",
       "1  My studio is located in the best  of Ipanema. ...   \n",
       "2  Our apartment is a little gem, everyone loves ...   \n",
       "3  This cosy apartment  is just a few steps away ...   \n",
       "4  Our newly renovated studio is located in the b...   \n",
       "\n",
       "                               neighborhood_overview  \\\n",
       "0  This is the one of the bests spots in Rio. Bec...   \n",
       "1  The beach, the lagoon, Ipanema is a great loca...   \n",
       "2  Copacabana is a lively neighborhood and the ap...   \n",
       "3  The  apartment street is very quiet and safe ....   \n",
       "4  Our guests will experience living with a local...   \n",
       "\n",
       "                                         picture_url  host_id  \\\n",
       "0  https://a0.muscache.com/pictures/65320518/3069...    68997   \n",
       "1  https://a0.muscache.com/pictures/11955612/b28e...    99249   \n",
       "2  https://a0.muscache.com/pictures/3003965/68ebb...  3746246   \n",
       "3  https://a0.muscache.com/pictures/20009355/38b6...   153232   \n",
       "4  https://a0.muscache.com/pictures/23782972/1d3e...   153691   \n",
       "\n",
       "                                    host_url  ... review_scores_communication  \\\n",
       "0    https://www.airbnb.com/users/show/68997  ...                        10.0   \n",
       "1    https://www.airbnb.com/users/show/99249  ...                        10.0   \n",
       "2  https://www.airbnb.com/users/show/3746246  ...                        10.0   \n",
       "3   https://www.airbnb.com/users/show/153232  ...                        10.0   \n",
       "4   https://www.airbnb.com/users/show/153691  ...                        10.0   \n",
       "\n",
       "  review_scores_location review_scores_value license instant_bookable  \\\n",
       "0                   10.0                 9.0     NaN                t   \n",
       "1                   10.0                 9.0     NaN                f   \n",
       "2                   10.0                 9.0     NaN                f   \n",
       "3                   10.0                 9.0     NaN                f   \n",
       "4                   10.0                10.0     NaN                f   \n",
       "\n",
       "  calculated_host_listings_count calculated_host_listings_count_entire_homes  \\\n",
       "0                              1                                           1   \n",
       "1                              1                                           1   \n",
       "2                             11                                          11   \n",
       "3                              1                                           1   \n",
       "4                              1                                           1   \n",
       "\n",
       "  calculated_host_listings_count_private_rooms  \\\n",
       "0                                            0   \n",
       "1                                            0   \n",
       "2                                            0   \n",
       "3                                            0   \n",
       "4                                            0   \n",
       "\n",
       "  calculated_host_listings_count_shared_rooms reviews_per_month  \n",
       "0                                           0              2.01  \n",
       "1                                           0              0.67  \n",
       "2                                           0              1.82  \n",
       "3                                           0              2.02  \n",
       "4                                           0              2.79  \n",
       "\n",
       "[5 rows x 74 columns]"
      ]
     },
     "execution_count": 3,
     "metadata": {},
     "output_type": "execute_result"
    }
   ],
   "source": [
    "listings= pd.read_csv('../airbnb/data/listings.csv.gz')\n",
    "listings.head()"
   ]
  },
  {
   "cell_type": "code",
   "execution_count": 4,
   "metadata": {
    "ExecuteTime": {
     "end_time": "2021-04-16T19:27:10.290653Z",
     "start_time": "2021-04-16T19:27:10.212039Z"
    }
   },
   "outputs": [
    {
     "name": "stdout",
     "output_type": "stream",
     "text": [
      "<class 'pandas.core.frame.DataFrame'>\n",
      "RangeIndex: 26615 entries, 0 to 26614\n",
      "Data columns (total 74 columns):\n",
      " #   Column                                        Non-Null Count  Dtype  \n",
      "---  ------                                        --------------  -----  \n",
      " 0   id                                            26615 non-null  int64  \n",
      " 1   listing_url                                   26615 non-null  object \n",
      " 2   scrape_id                                     26615 non-null  int64  \n",
      " 3   last_scraped                                  26615 non-null  object \n",
      " 4   name                                          26586 non-null  object \n",
      " 5   description                                   25160 non-null  object \n",
      " 6   neighborhood_overview                         14314 non-null  object \n",
      " 7   picture_url                                   26615 non-null  object \n",
      " 8   host_id                                       26615 non-null  int64  \n",
      " 9   host_url                                      26615 non-null  object \n",
      " 10  host_name                                     26591 non-null  object \n",
      " 11  host_since                                    26591 non-null  object \n",
      " 12  host_location                                 26508 non-null  object \n",
      " 13  host_about                                    12895 non-null  object \n",
      " 14  host_response_time                            18599 non-null  object \n",
      " 15  host_response_rate                            18599 non-null  object \n",
      " 16  host_acceptance_rate                          17074 non-null  object \n",
      " 17  host_is_superhost                             26591 non-null  object \n",
      " 18  host_thumbnail_url                            26591 non-null  object \n",
      " 19  host_picture_url                              26591 non-null  object \n",
      " 20  host_neighbourhood                            15344 non-null  object \n",
      " 21  host_listings_count                           26591 non-null  float64\n",
      " 22  host_total_listings_count                     26591 non-null  float64\n",
      " 23  host_verifications                            26615 non-null  object \n",
      " 24  host_has_profile_pic                          26591 non-null  object \n",
      " 25  host_identity_verified                        26591 non-null  object \n",
      " 26  neighbourhood                                 14314 non-null  object \n",
      " 27  neighbourhood_cleansed                        26615 non-null  object \n",
      " 28  neighbourhood_group_cleansed                  0 non-null      float64\n",
      " 29  latitude                                      26615 non-null  float64\n",
      " 30  longitude                                     26615 non-null  float64\n",
      " 31  property_type                                 26615 non-null  object \n",
      " 32  room_type                                     26615 non-null  object \n",
      " 33  accommodates                                  26615 non-null  int64  \n",
      " 34  bathrooms                                     0 non-null      float64\n",
      " 35  bathrooms_text                                26543 non-null  object \n",
      " 36  bedrooms                                      24869 non-null  float64\n",
      " 37  beds                                          26363 non-null  float64\n",
      " 38  amenities                                     26615 non-null  object \n",
      " 39  price                                         26615 non-null  object \n",
      " 40  minimum_nights                                26615 non-null  int64  \n",
      " 41  maximum_nights                                26615 non-null  int64  \n",
      " 42  minimum_minimum_nights                        26531 non-null  float64\n",
      " 43  maximum_minimum_nights                        26531 non-null  float64\n",
      " 44  minimum_maximum_nights                        26531 non-null  float64\n",
      " 45  maximum_maximum_nights                        26531 non-null  float64\n",
      " 46  minimum_nights_avg_ntm                        26531 non-null  float64\n",
      " 47  maximum_nights_avg_ntm                        26531 non-null  float64\n",
      " 48  calendar_updated                              0 non-null      float64\n",
      " 49  has_availability                              26615 non-null  object \n",
      " 50  availability_30                               26615 non-null  int64  \n",
      " 51  availability_60                               26615 non-null  int64  \n",
      " 52  availability_90                               26615 non-null  int64  \n",
      " 53  availability_365                              26615 non-null  int64  \n",
      " 54  calendar_last_scraped                         26615 non-null  object \n",
      " 55  number_of_reviews                             26615 non-null  int64  \n",
      " 56  number_of_reviews_ltm                         26615 non-null  int64  \n",
      " 57  number_of_reviews_l30d                        26615 non-null  int64  \n",
      " 58  first_review                                  16657 non-null  object \n",
      " 59  last_review                                   16657 non-null  object \n",
      " 60  review_scores_rating                          16118 non-null  float64\n",
      " 61  review_scores_accuracy                        16104 non-null  float64\n",
      " 62  review_scores_cleanliness                     16107 non-null  float64\n",
      " 63  review_scores_checkin                         16106 non-null  float64\n",
      " 64  review_scores_communication                   16110 non-null  float64\n",
      " 65  review_scores_location                        16106 non-null  float64\n",
      " 66  review_scores_value                           16108 non-null  float64\n",
      " 67  license                                       0 non-null      float64\n",
      " 68  instant_bookable                              26615 non-null  object \n",
      " 69  calculated_host_listings_count                26615 non-null  int64  \n",
      " 70  calculated_host_listings_count_entire_homes   26615 non-null  int64  \n",
      " 71  calculated_host_listings_count_private_rooms  26615 non-null  int64  \n",
      " 72  calculated_host_listings_count_shared_rooms   26615 non-null  int64  \n",
      " 73  reviews_per_month                             16657 non-null  float64\n",
      "dtypes: float64(24), int64(17), object(33)\n",
      "memory usage: 15.0+ MB\n"
     ]
    }
   ],
   "source": [
    "listings.info()"
   ]
  },
  {
   "cell_type": "code",
   "execution_count": 5,
   "metadata": {
    "ExecuteTime": {
     "end_time": "2021-04-16T19:27:10.995520Z",
     "start_time": "2021-04-16T19:27:10.941578Z"
    }
   },
   "outputs": [
    {
     "data": {
      "text/plain": [
       "id                                                 0\n",
       "listing_url                                        0\n",
       "scrape_id                                          0\n",
       "last_scraped                                       0\n",
       "name                                              29\n",
       "                                                ... \n",
       "calculated_host_listings_count                     0\n",
       "calculated_host_listings_count_entire_homes        0\n",
       "calculated_host_listings_count_private_rooms       0\n",
       "calculated_host_listings_count_shared_rooms        0\n",
       "reviews_per_month                               9958\n",
       "Length: 74, dtype: int64"
      ]
     },
     "execution_count": 5,
     "metadata": {},
     "output_type": "execute_result"
    }
   ],
   "source": [
    "listings.isnull().sum()"
   ]
  },
  {
   "cell_type": "code",
   "execution_count": 6,
   "metadata": {
    "ExecuteTime": {
     "end_time": "2021-04-16T19:27:12.116992Z",
     "start_time": "2021-04-16T19:27:11.920777Z"
    }
   },
   "outputs": [
    {
     "data": {
      "text/plain": [
       "0"
      ]
     },
     "execution_count": 6,
     "metadata": {},
     "output_type": "execute_result"
    }
   ],
   "source": [
    "listings.duplicated().sum()"
   ]
  },
  {
   "cell_type": "code",
   "execution_count": 7,
   "metadata": {
    "ExecuteTime": {
     "end_time": "2021-04-16T19:27:23.423536Z",
     "start_time": "2021-04-16T19:27:16.617563Z"
    }
   },
   "outputs": [
    {
     "data": {
      "text/html": [
       "<div>\n",
       "<style scoped>\n",
       "    .dataframe tbody tr th:only-of-type {\n",
       "        vertical-align: middle;\n",
       "    }\n",
       "\n",
       "    .dataframe tbody tr th {\n",
       "        vertical-align: top;\n",
       "    }\n",
       "\n",
       "    .dataframe thead th {\n",
       "        text-align: right;\n",
       "    }\n",
       "</style>\n",
       "<table border=\"1\" class=\"dataframe\">\n",
       "  <thead>\n",
       "    <tr style=\"text-align: right;\">\n",
       "      <th></th>\n",
       "      <th>listing_id</th>\n",
       "      <th>date</th>\n",
       "      <th>available</th>\n",
       "      <th>price</th>\n",
       "      <th>adjusted_price</th>\n",
       "      <th>minimum_nights</th>\n",
       "      <th>maximum_nights</th>\n",
       "    </tr>\n",
       "  </thead>\n",
       "  <tbody>\n",
       "    <tr>\n",
       "      <th>0</th>\n",
       "      <td>45766287</td>\n",
       "      <td>2021-02-23</td>\n",
       "      <td>f</td>\n",
       "      <td>$150.00</td>\n",
       "      <td>$150.00</td>\n",
       "      <td>2.0</td>\n",
       "      <td>1125.0</td>\n",
       "    </tr>\n",
       "    <tr>\n",
       "      <th>1</th>\n",
       "      <td>45764740</td>\n",
       "      <td>2021-02-24</td>\n",
       "      <td>f</td>\n",
       "      <td>$100.00</td>\n",
       "      <td>$100.00</td>\n",
       "      <td>1.0</td>\n",
       "      <td>4.0</td>\n",
       "    </tr>\n",
       "    <tr>\n",
       "      <th>2</th>\n",
       "      <td>45764740</td>\n",
       "      <td>2021-02-25</td>\n",
       "      <td>t</td>\n",
       "      <td>$100.00</td>\n",
       "      <td>$100.00</td>\n",
       "      <td>1.0</td>\n",
       "      <td>4.0</td>\n",
       "    </tr>\n",
       "    <tr>\n",
       "      <th>3</th>\n",
       "      <td>45764740</td>\n",
       "      <td>2021-02-26</td>\n",
       "      <td>t</td>\n",
       "      <td>$100.00</td>\n",
       "      <td>$100.00</td>\n",
       "      <td>1.0</td>\n",
       "      <td>4.0</td>\n",
       "    </tr>\n",
       "    <tr>\n",
       "      <th>4</th>\n",
       "      <td>45764740</td>\n",
       "      <td>2021-02-27</td>\n",
       "      <td>t</td>\n",
       "      <td>$100.00</td>\n",
       "      <td>$100.00</td>\n",
       "      <td>1.0</td>\n",
       "      <td>4.0</td>\n",
       "    </tr>\n",
       "  </tbody>\n",
       "</table>\n",
       "</div>"
      ],
      "text/plain": [
       "   listing_id        date available    price adjusted_price  minimum_nights  \\\n",
       "0    45766287  2021-02-23         f  $150.00        $150.00             2.0   \n",
       "1    45764740  2021-02-24         f  $100.00        $100.00             1.0   \n",
       "2    45764740  2021-02-25         t  $100.00        $100.00             1.0   \n",
       "3    45764740  2021-02-26         t  $100.00        $100.00             1.0   \n",
       "4    45764740  2021-02-27         t  $100.00        $100.00             1.0   \n",
       "\n",
       "   maximum_nights  \n",
       "0          1125.0  \n",
       "1             4.0  \n",
       "2             4.0  \n",
       "3             4.0  \n",
       "4             4.0  "
      ]
     },
     "execution_count": 7,
     "metadata": {},
     "output_type": "execute_result"
    }
   ],
   "source": [
    "calendar = pd.read_csv('../airbnb/data/calendar.csv.gz')\n",
    "calendar.head()"
   ]
  },
  {
   "cell_type": "code",
   "execution_count": 8,
   "metadata": {
    "ExecuteTime": {
     "end_time": "2021-04-16T19:27:24.292620Z",
     "start_time": "2021-04-16T19:27:24.285357Z"
    }
   },
   "outputs": [
    {
     "name": "stdout",
     "output_type": "stream",
     "text": [
      "<class 'pandas.core.frame.DataFrame'>\n",
      "RangeIndex: 9685126 entries, 0 to 9685125\n",
      "Data columns (total 7 columns):\n",
      " #   Column          Dtype  \n",
      "---  ------          -----  \n",
      " 0   listing_id      int64  \n",
      " 1   date            object \n",
      " 2   available       object \n",
      " 3   price           object \n",
      " 4   adjusted_price  object \n",
      " 5   minimum_nights  float64\n",
      " 6   maximum_nights  float64\n",
      "dtypes: float64(2), int64(1), object(4)\n",
      "memory usage: 517.2+ MB\n"
     ]
    }
   ],
   "source": [
    "calendar.info()"
   ]
  },
  {
   "cell_type": "code",
   "execution_count": 9,
   "metadata": {
    "ExecuteTime": {
     "end_time": "2021-04-16T19:27:26.555114Z",
     "start_time": "2021-04-16T19:27:25.267258Z"
    }
   },
   "outputs": [
    {
     "data": {
      "text/plain": [
       "listing_id           0\n",
       "date                 0\n",
       "available            0\n",
       "price              177\n",
       "adjusted_price     177\n",
       "minimum_nights    5587\n",
       "maximum_nights    5587\n",
       "dtype: int64"
      ]
     },
     "execution_count": 9,
     "metadata": {},
     "output_type": "execute_result"
    }
   ],
   "source": [
    "calendar.isnull().sum()"
   ]
  },
  {
   "cell_type": "code",
   "execution_count": 10,
   "metadata": {
    "ExecuteTime": {
     "end_time": "2021-04-16T19:27:32.083107Z",
     "start_time": "2021-04-16T19:27:27.160173Z"
    }
   },
   "outputs": [
    {
     "data": {
      "text/plain": [
       "0"
      ]
     },
     "execution_count": 10,
     "metadata": {},
     "output_type": "execute_result"
    }
   ],
   "source": [
    "calendar.duplicated().sum()"
   ]
  },
  {
   "cell_type": "markdown",
   "metadata": {},
   "source": [
    "<a id=\"2\"></a>\n",
    "<h1 style=\"background-color:orange;font-family:newtimeroman;font-size:300%;text-align:center;border-radius: 15px 50px;\">Análise Exploratória de Dados (EDA)</h1>"
   ]
  },
  {
   "cell_type": "markdown",
   "metadata": {},
   "source": [
    "<a id=\"2.1\"></a>\n",
    "<h2 style=\"background-color:orange;font-family:newtimeroman;font-size:200%;text-align:center;border-radius: 15px 50px;\">Automatic EDA -  Pandas Profiling</h2>"
   ]
  },
  {
   "cell_type": "code",
   "execution_count": 11,
   "metadata": {
    "ExecuteTime": {
     "end_time": "2021-04-16T19:33:29.045514Z",
     "start_time": "2021-04-16T19:27:36.145654Z"
    }
   },
   "outputs": [
    {
     "data": {
      "application/vnd.jupyter.widget-view+json": {
       "model_id": "79e3cc85fdbd427baa753d6e0aace488",
       "version_major": 2,
       "version_minor": 0
      },
      "text/plain": [
       "HBox(children=(HTML(value='Summarize dataset'), FloatProgress(value=0.0, max=87.0), HTML(value='')))"
      ]
     },
     "metadata": {},
     "output_type": "display_data"
    },
    {
     "name": "stdout",
     "output_type": "stream",
     "text": [
      "\n"
     ]
    },
    {
     "data": {
      "application/vnd.jupyter.widget-view+json": {
       "model_id": "45e48f5ff6564f8192fac5b110453b1f",
       "version_major": 2,
       "version_minor": 0
      },
      "text/plain": [
       "HBox(children=(HTML(value='Generate report structure'), FloatProgress(value=0.0, max=1.0), HTML(value='')))"
      ]
     },
     "metadata": {},
     "output_type": "display_data"
    },
    {
     "name": "stdout",
     "output_type": "stream",
     "text": [
      "\n"
     ]
    },
    {
     "data": {
      "application/vnd.jupyter.widget-view+json": {
       "model_id": "bc15f03abda342c7935c76b163f1a7b3",
       "version_major": 2,
       "version_minor": 0
      },
      "text/plain": [
       "HBox(children=(HTML(value='Render HTML'), FloatProgress(value=0.0, max=1.0), HTML(value='')))"
      ]
     },
     "metadata": {},
     "output_type": "display_data"
    },
    {
     "name": "stdout",
     "output_type": "stream",
     "text": [
      "\n"
     ]
    },
    {
     "name": "stderr",
     "output_type": "stream",
     "text": [
      "/home/mauricioeloy/anaconda3/lib/python3.8/site-packages/pandas_profiling/profile_report.py:283: UserWarning: Extension  not supported. For now we assume .html was intended. To remove this warning, please use .html or .json.\n",
      "  warnings.warn(\n"
     ]
    },
    {
     "data": {
      "application/vnd.jupyter.widget-view+json": {
       "model_id": "05b69974ec584900be6179cb10ae2459",
       "version_major": 2,
       "version_minor": 0
      },
      "text/plain": [
       "HBox(children=(HTML(value='Export report to file'), FloatProgress(value=0.0, max=1.0), HTML(value='')))"
      ]
     },
     "metadata": {},
     "output_type": "display_data"
    },
    {
     "name": "stdout",
     "output_type": "stream",
     "text": [
      "\n"
     ]
    }
   ],
   "source": [
    "listings_rep = pdpf.ProfileReport(listings, title=\"Report Listings\")\n",
    "listings_rep.to_file(output_file='../airbnb/reports/listings_rep_base')"
   ]
  },
  {
   "cell_type": "markdown",
   "metadata": {},
   "source": [
    "<a id=\"3\"></a>\n",
    "<h1 style=\"background-color:orange;font-family:newtimeroman;font-size:300%;text-align:center;border-radius: 15px 50px;\">Pré-processamento de Dados</h1>"
   ]
  },
  {
   "cell_type": "markdown",
   "metadata": {},
   "source": [
    "<a id=\"3.1\"></a>\n",
    "<h2 style=\"background-color:orange;font-family:newtimeroman;font-size:200%;text-align:center;border-radius: 15px 50px;\">'listings'</h2>"
   ]
  },
  {
   "cell_type": "markdown",
   "metadata": {},
   "source": [
    "<a id=\"3.1.1\"></a>\n",
    "<h3 style=\"background-color:orange;font-family:newtimeroman;font-size:150%;text-align:center;border-radius: 15px 50px;\">Exclusão de algumas variáveis</h3>"
   ]
  },
  {
   "cell_type": "code",
   "execution_count": 10,
   "metadata": {
    "ExecuteTime": {
     "end_time": "2021-04-16T18:26:14.579403Z",
     "start_time": "2021-04-16T18:26:14.569717Z"
    }
   },
   "outputs": [],
   "source": [
    "vars_drop_listings = ['listing_url', \n",
    "                        'scrape_id', \n",
    "                        'last_scraped',\n",
    "                        'name', \n",
    "                        'description',\n",
    "                        'neighborhood_overview', \n",
    "                        'picture_url', \n",
    "                        'host_id', \n",
    "                        'host_url', \n",
    "                        'host_name',\n",
    "                        'host_location', \n",
    "                        'host_about', \n",
    "                        'host_response_time', \n",
    "                        'host_acceptance_rate',\n",
    "                        'host_thumbnail_url', \n",
    "                        'host_picture_url', \n",
    "                        'host_total_listings_count','neighbourhood',\n",
    "                        'neighbourhood_group_cleansed', \n",
    "                        'latitude', \n",
    "                        'longitude',\n",
    "                        'bathrooms', \n",
    "                        'minimum_minimum_nights', \n",
    "                        'maximum_minimum_nights', \n",
    "                        'minimum_maximum_nights',\n",
    "                        'maximum_maximum_nights', \n",
    "                        'minimum_nights_avg_ntm', \n",
    "                        'maximum_nights_avg_ntm',\n",
    "                        'calendar_updated', \n",
    "                        'has_availability', \n",
    "                        'availability_30', \n",
    "                        'availability_60', \n",
    "                        'availability_90', \n",
    "                        'availability_365', \n",
    "                        'calendar_last_scraped', \n",
    "                        'number_of_reviews_ltm',\n",
    "                        'number_of_reviews_l30d', \n",
    "                        'first_review', 'last_review',\n",
    "                        'license',\n",
    "                        'calculated_host_listings_count_entire_homes', \n",
    "                        'calculated_host_listings_count_private_rooms', \n",
    "                        'calculated_host_listings_count_shared_rooms',\n",
    "                        'reviews_per_month', \n",
    "                        'host_neighbourhood', \n",
    "                        'neighbourhood_cleansed', \n",
    "                        'bathrooms_text']\n",
    "\n",
    "listings = listings.drop(columns=vars_drop_listings)"
   ]
  },
  {
   "cell_type": "markdown",
   "metadata": {},
   "source": [
    "<a id=\"3.1.2\"></a>\n",
    "<h3 style=\"background-color:orange;font-family:newtimeroman;font-size:150%;text-align:center;border-radius: 15px 50px;\">host_since</h3>"
   ]
  },
  {
   "cell_type": "code",
   "execution_count": 11,
   "metadata": {
    "ExecuteTime": {
     "end_time": "2021-04-16T18:26:14.928594Z",
     "start_time": "2021-04-16T18:26:14.581540Z"
    }
   },
   "outputs": [],
   "source": [
    "#desmembrando a variável host_since em host_since_year\n",
    "def trans_host_since_year(l):\n",
    "    try:\n",
    "        host_since = int(l['host_since'].split('-')[0])\n",
    "    except:\n",
    "        host_since = np.nan\n",
    "    return host_since\n",
    "\n",
    "listings['host_since_year'] = listings.apply(lambda l: trans_host_since_year(l),axis=1)\n",
    "listings = listings.drop(columns = ['host_since'])"
   ]
  },
  {
   "cell_type": "markdown",
   "metadata": {},
   "source": [
    "<a id=\"3.1.3\"></a>\n",
    "<h3 style=\"background-color:orange;font-family:newtimeroman;font-size:150%;text-align:center;border-radius: 15px 50px;\">host_response_rate</h3>"
   ]
  },
  {
   "cell_type": "code",
   "execution_count": 12,
   "metadata": {
    "ExecuteTime": {
     "end_time": "2021-04-16T18:26:14.963835Z",
     "start_time": "2021-04-16T18:26:14.930353Z"
    }
   },
   "outputs": [],
   "source": [
    "# transformar a variável em numérica\n",
    "listings['host_response_rate_numeric'] = listings['host_response_rate'].astype(str)\n",
    "listings['host_response_rate_numeric'] = listings['host_response_rate_numeric'].str.\\\n",
    "                                        replace(\"%\", \"\").astype(\"float\")\n",
    "listings = listings.drop(columns = ['host_response_rate'])"
   ]
  },
  {
   "cell_type": "markdown",
   "metadata": {},
   "source": [
    "<a id=\"3.1.4\"></a>\n",
    "<h3 style=\"background-color:orange;font-family:newtimeroman;font-size:150%;text-align:center;border-radius: 15px 50px;\">property_type</h3>"
   ]
  },
  {
   "cell_type": "code",
   "execution_count": 13,
   "metadata": {
    "ExecuteTime": {
     "end_time": "2021-04-16T18:26:15.231935Z",
     "start_time": "2021-04-16T18:26:14.965716Z"
    }
   },
   "outputs": [],
   "source": [
    "# solucao para property_type - funcionou\n",
    "list_property_type = ['Entire apartment','Private room in apartment', \\\n",
    "                      'Entire condominium', 'Private room in house','Entire house']\n",
    "\n",
    "\n",
    "listings['property_type_mod'] = listings.apply(lambda l: (l['property_type']\\\n",
    "                                                    if (l['property_type'] in list_property_type)\\\n",
    "                                                    else 'Other values'), axis=1)\n",
    "listings = listings.drop(columns='property_type')"
   ]
  },
  {
   "cell_type": "markdown",
   "metadata": {},
   "source": [
    "<a id=\"3.1.5\"></a>\n",
    "<h3 style=\"background-color:orange;font-family:newtimeroman;font-size:150%;text-align:center;border-radius: 15px 50px;\">host_verifications | amenities</h3>"
   ]
  },
  {
   "cell_type": "code",
   "execution_count": 14,
   "metadata": {
    "ExecuteTime": {
     "end_time": "2021-04-16T18:26:15.240994Z",
     "start_time": "2021-04-16T18:26:15.233614Z"
    }
   },
   "outputs": [],
   "source": [
    "def get_val_from_list(row, column_name, value):\n",
    "    val = 0.0\n",
    "    try:\n",
    "        vals = row[column_name].replace('[', '').replace(\"'\", '').replace(\"]\", '').replace('\"', '').\\\n",
    "                                replace('{', '').replace('}', '').split(',')\n",
    "        if value in vals:\n",
    "            val = 1.0\n",
    "    except:\n",
    "        val = 0.0\n",
    "    return val\n",
    "\n",
    "def split_list_into_columns(df, column_name, max_dummies_num = 10):\n",
    "    \n",
    "    values_dict = {}\n",
    "\n",
    "    for unique_value in df[column_name].unique(): \n",
    "        for value in unique_value.replace('[', '').replace(\"'\", '').replace(\"]\", '').replace('\"', '').\\\n",
    "                                    replace('{', '').replace('}', '').split(','):\n",
    "            if value in values_dict:\n",
    "                values_dict[value] = values_dict[value] + 1\n",
    "            else:\n",
    "                values_dict[value] = 0\n",
    "                \n",
    "    values_sorted = sorted(values_dict.items(), key=lambda kv: kv[1], reverse = True)\n",
    "      \n",
    "    for value in values_sorted[: max_dummies_num]:\n",
    "        df[column_name + '_' + value[0]] = df.apply(lambda row: get_val_from_list(row, column_name,\\\n",
    "                                                                                  value[0]),axis=1)\n",
    "    return"
   ]
  },
  {
   "cell_type": "code",
   "execution_count": 15,
   "metadata": {
    "ExecuteTime": {
     "end_time": "2021-04-16T18:26:18.136480Z",
     "start_time": "2021-04-16T18:26:15.242969Z"
    }
   },
   "outputs": [],
   "source": [
    "split_list_into_columns(listings, 'host_verifications')\n",
    "listings = listings.drop(columns = ['host_verifications'])"
   ]
  },
  {
   "cell_type": "code",
   "execution_count": 16,
   "metadata": {
    "ExecuteTime": {
     "end_time": "2021-04-16T18:26:23.057522Z",
     "start_time": "2021-04-16T18:26:18.139148Z"
    }
   },
   "outputs": [],
   "source": [
    "split_list_into_columns(listings, 'amenities')\n",
    "listings = listings.drop(columns = ['amenities'])"
   ]
  },
  {
   "cell_type": "markdown",
   "metadata": {},
   "source": [
    "<a id=\"3.1.6\"></a>\n",
    "<h3 style=\"background-color:orange;font-family:newtimeroman;font-size:150%;text-align:center;border-radius: 15px 50px;\">Completando dados faltantes</h3>"
   ]
  },
  {
   "cell_type": "code",
   "execution_count": 17,
   "metadata": {
    "ExecuteTime": {
     "end_time": "2021-04-16T18:26:23.098034Z",
     "start_time": "2021-04-16T18:26:23.060673Z"
    }
   },
   "outputs": [],
   "source": [
    "# corrigindo valores faltantes\n",
    "listings.fillna({'host_is_superhost': listings['host_is_superhost'].mode()[0],\n",
    "                    'host_has_profile_pic': listings['host_has_profile_pic'].mode()[0],\n",
    "                    'host_identity_verified': listings['host_identity_verified'].mode()[0],\n",
    "                    'instant_bookable': listings['instant_bookable'].mode()[0],\n",
    "                    'bedrooms': listings['bedrooms'].median(),\n",
    "                    'beds': listings['beds'].median(),\n",
    "                    'host_since_year': listings['host_since_year'].mean(), \n",
    "                    'host_response_rate_numeric': listings['host_response_rate_numeric'].mean(),\n",
    "                    'host_listings_count': listings['host_listings_count'].mean(),\n",
    "                    'review_scores_rating': listings['review_scores_rating'].mean(),\n",
    "                    'review_scores_accuracy': listings['review_scores_accuracy'].mean(),\n",
    "                    'review_scores_cleanliness': listings['review_scores_cleanliness'].mean(),\n",
    "                    'review_scores_checkin': listings['review_scores_checkin'].mean(),\n",
    "                    'review_scores_communication': listings['review_scores_communication'].mean(),\n",
    "                    'review_scores_location': listings['review_scores_location'].mean(),\n",
    "                    'review_scores_value': listings['review_scores_value'].mean()},\\\n",
    "                   inplace=True)"
   ]
  },
  {
   "cell_type": "markdown",
   "metadata": {},
   "source": [
    "<a id=\"3.1.7\"></a>\n",
    "<h3 style=\"background-color:orange;font-family:newtimeroman;font-size:150%;text-align:center;border-radius: 15px 50px;\">Label Encoding</h3>\n",
    "\n",
    "Sem o uso do `LabelEncoder()`"
   ]
  },
  {
   "cell_type": "code",
   "execution_count": 18,
   "metadata": {
    "ExecuteTime": {
     "end_time": "2021-04-16T18:26:23.128692Z",
     "start_time": "2021-04-16T18:26:23.100988Z"
    }
   },
   "outputs": [],
   "source": [
    "a_trocar = {'t': 1,\n",
    "            'f': 0}\n",
    "\n",
    "lista_trocar = ['host_is_superhost', \n",
    "                'host_has_profile_pic', \n",
    "                'host_identity_verified',\n",
    "                'instant_bookable']\n",
    "for troca in lista_trocar:\n",
    "    listings[troca] = listings[troca].map(a_trocar)"
   ]
  },
  {
   "cell_type": "markdown",
   "metadata": {},
   "source": [
    "<a id=\"3.1.8\"></a>\n",
    "<h3 style=\"background-color:orange;font-family:newtimeroman;font-size:150%;text-align:center;border-radius: 15px 50px;\">Eliminação de Outliers</h3>"
   ]
  },
  {
   "cell_type": "code",
   "execution_count": 19,
   "metadata": {
    "ExecuteTime": {
     "end_time": "2021-04-16T18:26:23.136421Z",
     "start_time": "2021-04-16T18:26:23.130970Z"
    }
   },
   "outputs": [],
   "source": [
    "#funcao auxiliar\n",
    "def elimina_outlier(df):\n",
    "    q1 = df.quantile(0.25)\n",
    "    q3 = df.quantile(0.75)\n",
    "    iqr = q3 - q1\n",
    "    df_mod = df[((df < (q1 - 1.5 * iqr)) | (df > (q3 + 1.5 * iqr))).any(axis=1)]\n",
    "    return df_mod"
   ]
  },
  {
   "cell_type": "code",
   "execution_count": 20,
   "metadata": {
    "ExecuteTime": {
     "end_time": "2021-04-16T18:26:23.314561Z",
     "start_time": "2021-04-16T18:26:23.138885Z"
    }
   },
   "outputs": [],
   "source": [
    "listings_mod = elimina_outlier(listings)"
   ]
  },
  {
   "cell_type": "code",
   "execution_count": 21,
   "metadata": {
    "ExecuteTime": {
     "end_time": "2021-04-16T18:26:23.325535Z",
     "start_time": "2021-04-16T18:26:23.317671Z"
    }
   },
   "outputs": [
    {
     "data": {
      "text/plain": [
       "0.9116663535600226"
      ]
     },
     "execution_count": 21,
     "metadata": {},
     "output_type": "execute_result"
    }
   ],
   "source": [
    "listings_mod.shape[0]/listings.shape[0]"
   ]
  },
  {
   "cell_type": "markdown",
   "metadata": {},
   "source": [
    "Verificação NaN e Duplicados"
   ]
  },
  {
   "cell_type": "code",
   "execution_count": 22,
   "metadata": {
    "ExecuteTime": {
     "end_time": "2021-04-16T18:26:23.345812Z",
     "start_time": "2021-04-16T18:26:23.329109Z"
    }
   },
   "outputs": [
    {
     "data": {
      "text/plain": [
       "0"
      ]
     },
     "execution_count": 22,
     "metadata": {},
     "output_type": "execute_result"
    }
   ],
   "source": [
    "listings_mod.isnull().sum().sum()"
   ]
  },
  {
   "cell_type": "code",
   "execution_count": 23,
   "metadata": {
    "ExecuteTime": {
     "end_time": "2021-04-16T18:26:23.420769Z",
     "start_time": "2021-04-16T18:26:23.349728Z"
    }
   },
   "outputs": [
    {
     "data": {
      "text/plain": [
       "0"
      ]
     },
     "execution_count": 23,
     "metadata": {},
     "output_type": "execute_result"
    }
   ],
   "source": [
    "listings_mod.duplicated().sum()"
   ]
  },
  {
   "cell_type": "markdown",
   "metadata": {},
   "source": [
    "<a id=\"3.2\"></a>\n",
    "<h2 style=\"background-color:orange;font-family:newtimeroman;font-size:200%;text-align:center;border-radius: 15px 50px;\">'calendar'</h2>"
   ]
  },
  {
   "cell_type": "markdown",
   "metadata": {},
   "source": [
    "<a id=\"3.2.1\"></a>\n",
    "<h3 style=\"background-color:orange;font-family:newtimeroman;font-size:150%;text-align:center;border-radius: 15px 50px;\">Exclusão de algumas variáveis</h3>"
   ]
  },
  {
   "cell_type": "code",
   "execution_count": 24,
   "metadata": {
    "ExecuteTime": {
     "end_time": "2021-04-16T18:26:23.687939Z",
     "start_time": "2021-04-16T18:26:23.425650Z"
    }
   },
   "outputs": [],
   "source": [
    "vars_drop_calendar = ['available',\n",
    "                     'adjusted_price',\n",
    "                      'minimum_nights',\n",
    "                      'maximum_nights']\n",
    "\n",
    "calendar = calendar.drop(columns=vars_drop_calendar)"
   ]
  },
  {
   "cell_type": "markdown",
   "metadata": {},
   "source": [
    "<a id=\"3.2.2\"></a>\n",
    "<h3 style=\"background-color:orange;font-family:newtimeroman;font-size:150%;text-align:center;border-radius: 15px 50px;\">price</h3>"
   ]
  },
  {
   "cell_type": "code",
   "execution_count": 25,
   "metadata": {
    "ExecuteTime": {
     "end_time": "2021-04-16T18:26:36.301486Z",
     "start_time": "2021-04-16T18:26:23.690650Z"
    }
   },
   "outputs": [],
   "source": [
    "# transformar a variável em numérica\n",
    "calendar = calendar.dropna(subset=['price'])\n",
    "calendar['price_ca'] = calendar['price'].astype(str)\n",
    "calendar['price_ca'] = calendar['price_ca'].str.replace(\"[$, ]\", \"\").astype(\"float\")\n",
    "calendar = calendar.drop(columns = ['price'])"
   ]
  },
  {
   "cell_type": "markdown",
   "metadata": {},
   "source": [
    "<a id=\"3.2.3\"></a>\n",
    "<h3 style=\"background-color:orange;font-family:newtimeroman;font-size:150%;text-align:center;border-radius: 15px 50px;\">date</h3>"
   ]
  },
  {
   "cell_type": "code",
   "execution_count": 26,
   "metadata": {
    "ExecuteTime": {
     "end_time": "2021-04-16T18:30:45.049145Z",
     "start_time": "2021-04-16T18:26:36.303223Z"
    }
   },
   "outputs": [],
   "source": [
    "#criando a variavel datetime\n",
    "calendar['date_datetime'] = pd.to_datetime(calendar['date'])\n",
    "\n",
    "#criando a variavel de feriados\n",
    "br_holidays = holidays.Brazil()\n",
    "calendar['holiday'] = calendar.apply(lambda l: str(l['date_datetime'] in br_holidays), axis=1)\n",
    "calendar['holiday'] = calendar['holiday'].map({'True': 1,'False': 0})\n",
    "\n",
    "#criando a variavel de final de semana\n",
    "calendar['weekday'] = calendar.apply(lambda l: l['date_datetime'].weekday(), axis=1)\n",
    "calendar = calendar.drop(columns = ['date_datetime'])"
   ]
  },
  {
   "cell_type": "code",
   "execution_count": 27,
   "metadata": {
    "ExecuteTime": {
     "end_time": "2021-04-16T18:33:36.941693Z",
     "start_time": "2021-04-16T18:30:45.050617Z"
    }
   },
   "outputs": [],
   "source": [
    "#desmembrando a variável date em duas variáveis: month e year\n",
    "calendar['month'] = calendar.apply(lambda l: int(l['date'].split('-')[1]), axis=1)\n",
    "calendar['year'] =  calendar.apply(lambda l: int(l['date'].split('-')[0]), axis=1)\n",
    "calendar = calendar.drop(columns = ['date'])"
   ]
  },
  {
   "cell_type": "markdown",
   "metadata": {},
   "source": [
    "Verificação NaN e Duplicados"
   ]
  },
  {
   "cell_type": "code",
   "execution_count": 28,
   "metadata": {
    "ExecuteTime": {
     "end_time": "2021-04-16T18:33:37.063328Z",
     "start_time": "2021-04-16T18:33:36.942987Z"
    }
   },
   "outputs": [
    {
     "data": {
      "text/plain": [
       "listing_id    0\n",
       "price_ca      0\n",
       "holiday       0\n",
       "weekday       0\n",
       "month         0\n",
       "year          0\n",
       "dtype: int64"
      ]
     },
     "execution_count": 28,
     "metadata": {},
     "output_type": "execute_result"
    }
   ],
   "source": [
    "calendar.isnull().sum()"
   ]
  },
  {
   "cell_type": "code",
   "execution_count": 29,
   "metadata": {
    "ExecuteTime": {
     "end_time": "2021-04-16T18:33:38.259397Z",
     "start_time": "2021-04-16T18:33:37.064621Z"
    }
   },
   "outputs": [
    {
     "data": {
      "text/plain": [
       "6869744"
      ]
     },
     "execution_count": 29,
     "metadata": {},
     "output_type": "execute_result"
    }
   ],
   "source": [
    "calendar.duplicated().sum()"
   ]
  },
  {
   "cell_type": "code",
   "execution_count": 30,
   "metadata": {
    "ExecuteTime": {
     "end_time": "2021-04-16T18:33:39.495690Z",
     "start_time": "2021-04-16T18:33:38.261971Z"
    }
   },
   "outputs": [],
   "source": [
    "calendar = calendar.drop_duplicates()"
   ]
  },
  {
   "cell_type": "markdown",
   "metadata": {},
   "source": [
    "<a id=\"3.2\"></a>\n",
    "<h2 style=\"background-color:orange;font-family:newtimeroman;font-size:200%;text-align:center;border-radius: 15px 50px;\">Merge entre 'calendar' e 'listings'</h2>"
   ]
  },
  {
   "cell_type": "code",
   "execution_count": 31,
   "metadata": {
    "ExecuteTime": {
     "end_time": "2021-04-16T18:33:42.406636Z",
     "start_time": "2021-04-16T18:33:39.498550Z"
    }
   },
   "outputs": [],
   "source": [
    "df_cl = pd.merge(calendar, (listings_mod.drop(columns = ['price'])),\\\n",
    "                 left_on='listing_id', right_on='id').drop(columns = ['id'])"
   ]
  },
  {
   "cell_type": "markdown",
   "metadata": {},
   "source": [
    "<a id=\"3.4\"></a>\n",
    "<h2 style=\"background-color:orange;font-family:newtimeroman;font-size:200%;text-align:center;border-radius: 15px 50px;\">Variáveis Dummie</h2>"
   ]
  },
  {
   "cell_type": "code",
   "execution_count": 32,
   "metadata": {
    "ExecuteTime": {
     "end_time": "2021-04-16T18:33:43.376767Z",
     "start_time": "2021-04-16T18:33:42.408343Z"
    }
   },
   "outputs": [],
   "source": [
    "df_cl = pd.get_dummies(df_cl,columns=['property_type_mod','room_type'])"
   ]
  },
  {
   "cell_type": "code",
   "execution_count": 33,
   "metadata": {
    "ExecuteTime": {
     "end_time": "2021-04-16T18:33:43.390347Z",
     "start_time": "2021-04-16T18:33:43.378141Z"
    }
   },
   "outputs": [
    {
     "data": {
      "text/html": [
       "<div>\n",
       "<style scoped>\n",
       "    .dataframe tbody tr th:only-of-type {\n",
       "        vertical-align: middle;\n",
       "    }\n",
       "\n",
       "    .dataframe tbody tr th {\n",
       "        vertical-align: top;\n",
       "    }\n",
       "\n",
       "    .dataframe thead th {\n",
       "        text-align: right;\n",
       "    }\n",
       "</style>\n",
       "<table border=\"1\" class=\"dataframe\">\n",
       "  <thead>\n",
       "    <tr style=\"text-align: right;\">\n",
       "      <th></th>\n",
       "      <th>0</th>\n",
       "    </tr>\n",
       "  </thead>\n",
       "  <tbody>\n",
       "    <tr>\n",
       "      <th>listing_id</th>\n",
       "      <td>45766287.0</td>\n",
       "    </tr>\n",
       "    <tr>\n",
       "      <th>price_ca</th>\n",
       "      <td>150.0</td>\n",
       "    </tr>\n",
       "    <tr>\n",
       "      <th>holiday</th>\n",
       "      <td>0.0</td>\n",
       "    </tr>\n",
       "    <tr>\n",
       "      <th>weekday</th>\n",
       "      <td>1.0</td>\n",
       "    </tr>\n",
       "    <tr>\n",
       "      <th>month</th>\n",
       "      <td>2.0</td>\n",
       "    </tr>\n",
       "    <tr>\n",
       "      <th>year</th>\n",
       "      <td>2021.0</td>\n",
       "    </tr>\n",
       "    <tr>\n",
       "      <th>host_is_superhost</th>\n",
       "      <td>0.0</td>\n",
       "    </tr>\n",
       "    <tr>\n",
       "      <th>host_listings_count</th>\n",
       "      <td>1.0</td>\n",
       "    </tr>\n",
       "    <tr>\n",
       "      <th>host_has_profile_pic</th>\n",
       "      <td>1.0</td>\n",
       "    </tr>\n",
       "    <tr>\n",
       "      <th>host_identity_verified</th>\n",
       "      <td>0.0</td>\n",
       "    </tr>\n",
       "    <tr>\n",
       "      <th>accommodates</th>\n",
       "      <td>4.0</td>\n",
       "    </tr>\n",
       "    <tr>\n",
       "      <th>bedrooms</th>\n",
       "      <td>1.0</td>\n",
       "    </tr>\n",
       "    <tr>\n",
       "      <th>beds</th>\n",
       "      <td>2.0</td>\n",
       "    </tr>\n",
       "    <tr>\n",
       "      <th>minimum_nights</th>\n",
       "      <td>2.0</td>\n",
       "    </tr>\n",
       "    <tr>\n",
       "      <th>maximum_nights</th>\n",
       "      <td>1125.0</td>\n",
       "    </tr>\n",
       "    <tr>\n",
       "      <th>number_of_reviews</th>\n",
       "      <td>10.0</td>\n",
       "    </tr>\n",
       "    <tr>\n",
       "      <th>review_scores_rating</th>\n",
       "      <td>100.0</td>\n",
       "    </tr>\n",
       "    <tr>\n",
       "      <th>review_scores_accuracy</th>\n",
       "      <td>10.0</td>\n",
       "    </tr>\n",
       "    <tr>\n",
       "      <th>review_scores_cleanliness</th>\n",
       "      <td>10.0</td>\n",
       "    </tr>\n",
       "    <tr>\n",
       "      <th>review_scores_checkin</th>\n",
       "      <td>10.0</td>\n",
       "    </tr>\n",
       "    <tr>\n",
       "      <th>review_scores_communication</th>\n",
       "      <td>10.0</td>\n",
       "    </tr>\n",
       "    <tr>\n",
       "      <th>review_scores_location</th>\n",
       "      <td>10.0</td>\n",
       "    </tr>\n",
       "    <tr>\n",
       "      <th>review_scores_value</th>\n",
       "      <td>10.0</td>\n",
       "    </tr>\n",
       "    <tr>\n",
       "      <th>instant_bookable</th>\n",
       "      <td>0.0</td>\n",
       "    </tr>\n",
       "    <tr>\n",
       "      <th>calculated_host_listings_count</th>\n",
       "      <td>1.0</td>\n",
       "    </tr>\n",
       "    <tr>\n",
       "      <th>host_since_year</th>\n",
       "      <td>2017.0</td>\n",
       "    </tr>\n",
       "    <tr>\n",
       "      <th>host_response_rate_numeric</th>\n",
       "      <td>100.0</td>\n",
       "    </tr>\n",
       "    <tr>\n",
       "      <th>host_verifications_email</th>\n",
       "      <td>0.0</td>\n",
       "    </tr>\n",
       "    <tr>\n",
       "      <th>host_verifications_ government_id</th>\n",
       "      <td>0.0</td>\n",
       "    </tr>\n",
       "    <tr>\n",
       "      <th>host_verifications_ phone</th>\n",
       "      <td>0.0</td>\n",
       "    </tr>\n",
       "    <tr>\n",
       "      <th>host_verifications_ reviews</th>\n",
       "      <td>0.0</td>\n",
       "    </tr>\n",
       "    <tr>\n",
       "      <th>host_verifications_ jumio</th>\n",
       "      <td>0.0</td>\n",
       "    </tr>\n",
       "    <tr>\n",
       "      <th>host_verifications_ offline_government_id</th>\n",
       "      <td>0.0</td>\n",
       "    </tr>\n",
       "    <tr>\n",
       "      <th>host_verifications_ selfie</th>\n",
       "      <td>0.0</td>\n",
       "    </tr>\n",
       "    <tr>\n",
       "      <th>host_verifications_ facebook</th>\n",
       "      <td>0.0</td>\n",
       "    </tr>\n",
       "    <tr>\n",
       "      <th>host_verifications_ identity_manual</th>\n",
       "      <td>0.0</td>\n",
       "    </tr>\n",
       "    <tr>\n",
       "      <th>host_verifications_ work_email</th>\n",
       "      <td>0.0</td>\n",
       "    </tr>\n",
       "    <tr>\n",
       "      <th>amenities_ Wifi</th>\n",
       "      <td>1.0</td>\n",
       "    </tr>\n",
       "    <tr>\n",
       "      <th>amenities_ Essentials</th>\n",
       "      <td>1.0</td>\n",
       "    </tr>\n",
       "    <tr>\n",
       "      <th>amenities_ Long term stays allowed</th>\n",
       "      <td>1.0</td>\n",
       "    </tr>\n",
       "    <tr>\n",
       "      <th>amenities_ TV</th>\n",
       "      <td>1.0</td>\n",
       "    </tr>\n",
       "    <tr>\n",
       "      <th>amenities_ Kitchen</th>\n",
       "      <td>1.0</td>\n",
       "    </tr>\n",
       "    <tr>\n",
       "      <th>amenities_ Hangers</th>\n",
       "      <td>1.0</td>\n",
       "    </tr>\n",
       "    <tr>\n",
       "      <th>amenities_ Iron</th>\n",
       "      <td>1.0</td>\n",
       "    </tr>\n",
       "    <tr>\n",
       "      <th>amenities_ Air conditioning</th>\n",
       "      <td>1.0</td>\n",
       "    </tr>\n",
       "    <tr>\n",
       "      <th>amenities_ Washer</th>\n",
       "      <td>0.0</td>\n",
       "    </tr>\n",
       "    <tr>\n",
       "      <th>amenities_ Hot water</th>\n",
       "      <td>1.0</td>\n",
       "    </tr>\n",
       "    <tr>\n",
       "      <th>property_type_mod_Entire apartment</th>\n",
       "      <td>1.0</td>\n",
       "    </tr>\n",
       "    <tr>\n",
       "      <th>property_type_mod_Entire condominium</th>\n",
       "      <td>0.0</td>\n",
       "    </tr>\n",
       "    <tr>\n",
       "      <th>property_type_mod_Entire house</th>\n",
       "      <td>0.0</td>\n",
       "    </tr>\n",
       "    <tr>\n",
       "      <th>property_type_mod_Other values</th>\n",
       "      <td>0.0</td>\n",
       "    </tr>\n",
       "    <tr>\n",
       "      <th>property_type_mod_Private room in apartment</th>\n",
       "      <td>0.0</td>\n",
       "    </tr>\n",
       "    <tr>\n",
       "      <th>property_type_mod_Private room in house</th>\n",
       "      <td>0.0</td>\n",
       "    </tr>\n",
       "    <tr>\n",
       "      <th>room_type_Entire home/apt</th>\n",
       "      <td>1.0</td>\n",
       "    </tr>\n",
       "    <tr>\n",
       "      <th>room_type_Hotel room</th>\n",
       "      <td>0.0</td>\n",
       "    </tr>\n",
       "    <tr>\n",
       "      <th>room_type_Private room</th>\n",
       "      <td>0.0</td>\n",
       "    </tr>\n",
       "    <tr>\n",
       "      <th>room_type_Shared room</th>\n",
       "      <td>0.0</td>\n",
       "    </tr>\n",
       "  </tbody>\n",
       "</table>\n",
       "</div>"
      ],
      "text/plain": [
       "                                                      0\n",
       "listing_id                                   45766287.0\n",
       "price_ca                                          150.0\n",
       "holiday                                             0.0\n",
       "weekday                                             1.0\n",
       "month                                               2.0\n",
       "year                                             2021.0\n",
       "host_is_superhost                                   0.0\n",
       "host_listings_count                                 1.0\n",
       "host_has_profile_pic                                1.0\n",
       "host_identity_verified                              0.0\n",
       "accommodates                                        4.0\n",
       "bedrooms                                            1.0\n",
       "beds                                                2.0\n",
       "minimum_nights                                      2.0\n",
       "maximum_nights                                   1125.0\n",
       "number_of_reviews                                  10.0\n",
       "review_scores_rating                              100.0\n",
       "review_scores_accuracy                             10.0\n",
       "review_scores_cleanliness                          10.0\n",
       "review_scores_checkin                              10.0\n",
       "review_scores_communication                        10.0\n",
       "review_scores_location                             10.0\n",
       "review_scores_value                                10.0\n",
       "instant_bookable                                    0.0\n",
       "calculated_host_listings_count                      1.0\n",
       "host_since_year                                  2017.0\n",
       "host_response_rate_numeric                        100.0\n",
       "host_verifications_email                            0.0\n",
       "host_verifications_ government_id                   0.0\n",
       "host_verifications_ phone                           0.0\n",
       "host_verifications_ reviews                         0.0\n",
       "host_verifications_ jumio                           0.0\n",
       "host_verifications_ offline_government_id           0.0\n",
       "host_verifications_ selfie                          0.0\n",
       "host_verifications_ facebook                        0.0\n",
       "host_verifications_ identity_manual                 0.0\n",
       "host_verifications_ work_email                      0.0\n",
       "amenities_ Wifi                                     1.0\n",
       "amenities_ Essentials                               1.0\n",
       "amenities_ Long term stays allowed                  1.0\n",
       "amenities_ TV                                       1.0\n",
       "amenities_ Kitchen                                  1.0\n",
       "amenities_ Hangers                                  1.0\n",
       "amenities_ Iron                                     1.0\n",
       "amenities_ Air conditioning                         1.0\n",
       "amenities_ Washer                                   0.0\n",
       "amenities_ Hot water                                1.0\n",
       "property_type_mod_Entire apartment                  1.0\n",
       "property_type_mod_Entire condominium                0.0\n",
       "property_type_mod_Entire house                      0.0\n",
       "property_type_mod_Other values                      0.0\n",
       "property_type_mod_Private room in apartment         0.0\n",
       "property_type_mod_Private room in house             0.0\n",
       "room_type_Entire home/apt                           1.0\n",
       "room_type_Hotel room                                0.0\n",
       "room_type_Private room                              0.0\n",
       "room_type_Shared room                               0.0"
      ]
     },
     "execution_count": 33,
     "metadata": {},
     "output_type": "execute_result"
    }
   ],
   "source": [
    "df_cl.head(1).T"
   ]
  },
  {
   "cell_type": "markdown",
   "metadata": {},
   "source": [
    "<a id=\"4\"></a>\n",
    "<h1 style=\"background-color:orange;font-family:newtimeroman;font-size:300%;text-align:center;border-radius: 15px 50px;\">Criação do Modelo</h1>"
   ]
  },
  {
   "cell_type": "markdown",
   "metadata": {},
   "source": [
    "<a id=\"4.1\"></a>\n",
    "<h2 style=\"background-color:orange;font-family:newtimeroman;font-size:200%;text-align:center;border-radius: 15px 50px;\">Importação do dataset limpo</h2>"
   ]
  },
  {
   "cell_type": "code",
   "execution_count": 41,
   "metadata": {
    "ExecuteTime": {
     "end_time": "2021-04-16T18:42:41.447243Z",
     "start_time": "2021-04-16T18:42:32.864899Z"
    }
   },
   "outputs": [],
   "source": [
    "df_airbnb = pd.read_csv('data/df_final.csv')"
   ]
  },
  {
   "cell_type": "markdown",
   "metadata": {},
   "source": [
    "<a id=\"4.2\"></a>\n",
    "<h2 style=\"background-color:orange;font-family:newtimeroman;font-size:200%;text-align:center;border-radius: 15px 50px;\">Separação de Treino e Teste</h2>"
   ]
  },
  {
   "cell_type": "code",
   "execution_count": 42,
   "metadata": {
    "ExecuteTime": {
     "end_time": "2021-04-16T18:42:45.533069Z",
     "start_time": "2021-04-16T18:42:45.198143Z"
    }
   },
   "outputs": [],
   "source": [
    "X = df_airbnb.drop(columns='price_ca')\n",
    "y = df_airbnb['price_ca']"
   ]
  },
  {
   "cell_type": "code",
   "execution_count": 43,
   "metadata": {
    "ExecuteTime": {
     "end_time": "2021-04-16T18:42:49.094236Z",
     "start_time": "2021-04-16T18:42:46.482573Z"
    }
   },
   "outputs": [],
   "source": [
    "X_train, X_test, y_train, y_test = train_test_split(X, y, test_size=0.3, \n",
    "                                                    random_state=42)"
   ]
  },
  {
   "cell_type": "markdown",
   "metadata": {},
   "source": [
    "<a id=\"4.2\"></a>\n",
    "<h2 style=\"background-color:orange;font-family:newtimeroman;font-size:200%;text-align:center;border-radius: 15px 50px;\">Comparativo de Modelos</h2>"
   ]
  },
  {
   "cell_type": "markdown",
   "metadata": {},
   "source": [
    "<a id=\"3.1.1\"></a>\n",
    "<h3 style=\"background-color:orange;font-family:newtimeroman;font-size:150%;text-align:center;border-radius: 15px 50px;\">Baseline</h3>"
   ]
  },
  {
   "cell_type": "code",
   "execution_count": 44,
   "metadata": {
    "ExecuteTime": {
     "end_time": "2021-04-16T18:42:54.848422Z",
     "start_time": "2021-04-16T18:42:54.817504Z"
    }
   },
   "outputs": [
    {
     "name": "stdout",
     "output_type": "stream",
     "text": [
      "R2: -1.7858661731651182e-06\n",
      "RMSE: 100062052.3494896\n",
      "MAE: 1210.1623792054666\n"
     ]
    }
   ],
   "source": [
    "dr = DummyRegressor()\n",
    "dr.fit(X_train, y_train)\n",
    "y_pred = dr.predict(X_test)\n",
    "\n",
    "r2_dr = dr.score(X_test, y_test)\n",
    "print('R2:', r2_dr)\n",
    "rmse_dr = mean_squared_error(y_test, y_pred)\n",
    "print(\"RMSE:\", rmse_dr)     \n",
    "mae_dr = mean_absolute_error(y_test, y_pred)\n",
    "print(\"MAE:\", mae_dr)    "
   ]
  },
  {
   "cell_type": "markdown",
   "metadata": {},
   "source": [
    "<a id=\"3.1.1\"></a>\n",
    "<h3 style=\"background-color:orange;font-family:newtimeroman;font-size:150%;text-align:center;border-radius: 15px 50px;\">Árvore de Decisão</h3>"
   ]
  },
  {
   "cell_type": "code",
   "execution_count": null,
   "metadata": {
    "ExecuteTime": {
     "start_time": "2021-04-16T18:44:20.968Z"
    }
   },
   "outputs": [],
   "source": [
    "dtr = DecisionTreeRegressor()\n",
    "\n",
    "distributions = {\n",
    "    \"criterion\": ['gini', 'entropy'],\n",
    "    \"max_depth\" : randint(low=1, high=6),\n",
    "    \"min_samples_leaf\": uniform(loc=0.001, scale=0.005),\n",
    "    \"random_state\": [42]\n",
    "}\n",
    "\n",
    "clf = RandomizedSearchCV(\n",
    "    estimator = dtr, \n",
    "    param_distributions = distributions, \n",
    "    n_iter = 50, \n",
    "    scoring = \"neg_mean_squared_error\", \n",
    "    n_jobs = 4, \n",
    "    cv = 10, \n",
    "    random_state = 42\n",
    ")\n",
    "\n",
    "search_dtr = clf.fit(X_train, y_train) \n",
    "result_dtr = search_dtr.cv_results_ \n",
    "search_dtr.best_params_ \n",
    "\n",
    "print(search_dtr.best_params_)\n",
    "\n",
    "y_pred = clf.predict(X_test)\n",
    "print('\\n clasification report:\\n', classification_report(y_test, y_pred, digits=3))"
   ]
  },
  {
   "cell_type": "code",
   "execution_count": null,
   "metadata": {},
   "outputs": [],
   "source": [
    "# dt = DecisionTreeClassifier(**search.best_params_)\n",
    "# dt.fit(X_train, y_train)\n",
    "# y_pred = dt.predict(X_test)\n",
    "\n",
    "# y_pred = clf.predict(X_test)\n",
    "# print('\\n clasification report:\\n', classification_report(y_test, y_pred, digits=3))"
   ]
  },
  {
   "cell_type": "code",
   "execution_count": 7,
   "metadata": {
    "ExecuteTime": {
     "end_time": "2021-04-16T15:03:20.297574Z",
     "start_time": "2021-04-16T15:03:19.033695Z"
    }
   },
   "outputs": [
    {
     "ename": "ValueError",
     "evalue": "Input contains NaN, infinity or a value too large for dtype('float32').",
     "output_type": "error",
     "traceback": [
      "\u001b[0;31m---------------------------------------------------------------------------\u001b[0m",
      "\u001b[0;31mValueError\u001b[0m                                Traceback (most recent call last)",
      "\u001b[0;32m<ipython-input-7-4c1cc6270901>\u001b[0m in \u001b[0;36m<module>\u001b[0;34m\u001b[0m\n\u001b[1;32m      1\u001b[0m \u001b[0mdtr\u001b[0m \u001b[0;34m=\u001b[0m \u001b[0mDecisionTreeRegressor\u001b[0m\u001b[0;34m(\u001b[0m\u001b[0mrandom_state\u001b[0m\u001b[0;34m=\u001b[0m\u001b[0;36m42\u001b[0m\u001b[0;34m)\u001b[0m\u001b[0;34m\u001b[0m\u001b[0;34m\u001b[0m\u001b[0m\n\u001b[0;32m----> 2\u001b[0;31m \u001b[0mdtr\u001b[0m\u001b[0;34m.\u001b[0m\u001b[0mfit\u001b[0m\u001b[0;34m(\u001b[0m\u001b[0mX_train\u001b[0m\u001b[0;34m,\u001b[0m \u001b[0my_train\u001b[0m\u001b[0;34m)\u001b[0m\u001b[0;34m\u001b[0m\u001b[0;34m\u001b[0m\u001b[0m\n\u001b[0m\u001b[1;32m      3\u001b[0m \u001b[0my_pred\u001b[0m \u001b[0;34m=\u001b[0m \u001b[0mdtr\u001b[0m\u001b[0;34m.\u001b[0m\u001b[0mpredict\u001b[0m\u001b[0;34m(\u001b[0m\u001b[0mX_test\u001b[0m\u001b[0;34m)\u001b[0m\u001b[0;34m\u001b[0m\u001b[0;34m\u001b[0m\u001b[0m\n\u001b[1;32m      4\u001b[0m \u001b[0;34m\u001b[0m\u001b[0m\n\u001b[1;32m      5\u001b[0m \u001b[0mr2_dtr\u001b[0m \u001b[0;34m=\u001b[0m \u001b[0mdtr\u001b[0m\u001b[0;34m.\u001b[0m\u001b[0mscore\u001b[0m\u001b[0;34m(\u001b[0m\u001b[0mX_test\u001b[0m\u001b[0;34m,\u001b[0m \u001b[0my_test\u001b[0m\u001b[0;34m)\u001b[0m\u001b[0;34m\u001b[0m\u001b[0;34m\u001b[0m\u001b[0m\n",
      "\u001b[0;32m~/anaconda3/lib/python3.8/site-packages/sklearn/tree/_classes.py\u001b[0m in \u001b[0;36mfit\u001b[0;34m(self, X, y, sample_weight, check_input, X_idx_sorted)\u001b[0m\n\u001b[1;32m   1240\u001b[0m         \"\"\"\n\u001b[1;32m   1241\u001b[0m \u001b[0;34m\u001b[0m\u001b[0m\n\u001b[0;32m-> 1242\u001b[0;31m         super().fit(\n\u001b[0m\u001b[1;32m   1243\u001b[0m             \u001b[0mX\u001b[0m\u001b[0;34m,\u001b[0m \u001b[0my\u001b[0m\u001b[0;34m,\u001b[0m\u001b[0;34m\u001b[0m\u001b[0;34m\u001b[0m\u001b[0m\n\u001b[1;32m   1244\u001b[0m             \u001b[0msample_weight\u001b[0m\u001b[0;34m=\u001b[0m\u001b[0msample_weight\u001b[0m\u001b[0;34m,\u001b[0m\u001b[0;34m\u001b[0m\u001b[0;34m\u001b[0m\u001b[0m\n",
      "\u001b[0;32m~/anaconda3/lib/python3.8/site-packages/sklearn/tree/_classes.py\u001b[0m in \u001b[0;36mfit\u001b[0;34m(self, X, y, sample_weight, check_input, X_idx_sorted)\u001b[0m\n\u001b[1;32m    154\u001b[0m             \u001b[0mcheck_X_params\u001b[0m \u001b[0;34m=\u001b[0m \u001b[0mdict\u001b[0m\u001b[0;34m(\u001b[0m\u001b[0mdtype\u001b[0m\u001b[0;34m=\u001b[0m\u001b[0mDTYPE\u001b[0m\u001b[0;34m,\u001b[0m \u001b[0maccept_sparse\u001b[0m\u001b[0;34m=\u001b[0m\u001b[0;34m\"csc\"\u001b[0m\u001b[0;34m)\u001b[0m\u001b[0;34m\u001b[0m\u001b[0;34m\u001b[0m\u001b[0m\n\u001b[1;32m    155\u001b[0m             \u001b[0mcheck_y_params\u001b[0m \u001b[0;34m=\u001b[0m \u001b[0mdict\u001b[0m\u001b[0;34m(\u001b[0m\u001b[0mensure_2d\u001b[0m\u001b[0;34m=\u001b[0m\u001b[0;32mFalse\u001b[0m\u001b[0;34m,\u001b[0m \u001b[0mdtype\u001b[0m\u001b[0;34m=\u001b[0m\u001b[0;32mNone\u001b[0m\u001b[0;34m)\u001b[0m\u001b[0;34m\u001b[0m\u001b[0;34m\u001b[0m\u001b[0m\n\u001b[0;32m--> 156\u001b[0;31m             X, y = self._validate_data(X, y,\n\u001b[0m\u001b[1;32m    157\u001b[0m                                        validate_separately=(check_X_params,\n\u001b[1;32m    158\u001b[0m                                                             check_y_params))\n",
      "\u001b[0;32m~/anaconda3/lib/python3.8/site-packages/sklearn/base.py\u001b[0m in \u001b[0;36m_validate_data\u001b[0;34m(self, X, y, reset, validate_separately, **check_params)\u001b[0m\n\u001b[1;32m    427\u001b[0m                 \u001b[0;31m# :(\u001b[0m\u001b[0;34m\u001b[0m\u001b[0;34m\u001b[0m\u001b[0;34m\u001b[0m\u001b[0m\n\u001b[1;32m    428\u001b[0m                 \u001b[0mcheck_X_params\u001b[0m\u001b[0;34m,\u001b[0m \u001b[0mcheck_y_params\u001b[0m \u001b[0;34m=\u001b[0m \u001b[0mvalidate_separately\u001b[0m\u001b[0;34m\u001b[0m\u001b[0;34m\u001b[0m\u001b[0m\n\u001b[0;32m--> 429\u001b[0;31m                 \u001b[0mX\u001b[0m \u001b[0;34m=\u001b[0m \u001b[0mcheck_array\u001b[0m\u001b[0;34m(\u001b[0m\u001b[0mX\u001b[0m\u001b[0;34m,\u001b[0m \u001b[0;34m**\u001b[0m\u001b[0mcheck_X_params\u001b[0m\u001b[0;34m)\u001b[0m\u001b[0;34m\u001b[0m\u001b[0;34m\u001b[0m\u001b[0m\n\u001b[0m\u001b[1;32m    430\u001b[0m                 \u001b[0my\u001b[0m \u001b[0;34m=\u001b[0m \u001b[0mcheck_array\u001b[0m\u001b[0;34m(\u001b[0m\u001b[0my\u001b[0m\u001b[0;34m,\u001b[0m \u001b[0;34m**\u001b[0m\u001b[0mcheck_y_params\u001b[0m\u001b[0;34m)\u001b[0m\u001b[0;34m\u001b[0m\u001b[0;34m\u001b[0m\u001b[0m\n\u001b[1;32m    431\u001b[0m             \u001b[0;32melse\u001b[0m\u001b[0;34m:\u001b[0m\u001b[0;34m\u001b[0m\u001b[0;34m\u001b[0m\u001b[0m\n",
      "\u001b[0;32m~/anaconda3/lib/python3.8/site-packages/sklearn/utils/validation.py\u001b[0m in \u001b[0;36minner_f\u001b[0;34m(*args, **kwargs)\u001b[0m\n\u001b[1;32m     70\u001b[0m                           FutureWarning)\n\u001b[1;32m     71\u001b[0m         \u001b[0mkwargs\u001b[0m\u001b[0;34m.\u001b[0m\u001b[0mupdate\u001b[0m\u001b[0;34m(\u001b[0m\u001b[0;34m{\u001b[0m\u001b[0mk\u001b[0m\u001b[0;34m:\u001b[0m \u001b[0marg\u001b[0m \u001b[0;32mfor\u001b[0m \u001b[0mk\u001b[0m\u001b[0;34m,\u001b[0m \u001b[0marg\u001b[0m \u001b[0;32min\u001b[0m \u001b[0mzip\u001b[0m\u001b[0;34m(\u001b[0m\u001b[0msig\u001b[0m\u001b[0;34m.\u001b[0m\u001b[0mparameters\u001b[0m\u001b[0;34m,\u001b[0m \u001b[0margs\u001b[0m\u001b[0;34m)\u001b[0m\u001b[0;34m}\u001b[0m\u001b[0;34m)\u001b[0m\u001b[0;34m\u001b[0m\u001b[0;34m\u001b[0m\u001b[0m\n\u001b[0;32m---> 72\u001b[0;31m         \u001b[0;32mreturn\u001b[0m \u001b[0mf\u001b[0m\u001b[0;34m(\u001b[0m\u001b[0;34m**\u001b[0m\u001b[0mkwargs\u001b[0m\u001b[0;34m)\u001b[0m\u001b[0;34m\u001b[0m\u001b[0;34m\u001b[0m\u001b[0m\n\u001b[0m\u001b[1;32m     73\u001b[0m     \u001b[0;32mreturn\u001b[0m \u001b[0minner_f\u001b[0m\u001b[0;34m\u001b[0m\u001b[0;34m\u001b[0m\u001b[0m\n\u001b[1;32m     74\u001b[0m \u001b[0;34m\u001b[0m\u001b[0m\n",
      "\u001b[0;32m~/anaconda3/lib/python3.8/site-packages/sklearn/utils/validation.py\u001b[0m in \u001b[0;36mcheck_array\u001b[0;34m(array, accept_sparse, accept_large_sparse, dtype, order, copy, force_all_finite, ensure_2d, allow_nd, ensure_min_samples, ensure_min_features, estimator)\u001b[0m\n\u001b[1;32m    642\u001b[0m \u001b[0;34m\u001b[0m\u001b[0m\n\u001b[1;32m    643\u001b[0m         \u001b[0;32mif\u001b[0m \u001b[0mforce_all_finite\u001b[0m\u001b[0;34m:\u001b[0m\u001b[0;34m\u001b[0m\u001b[0;34m\u001b[0m\u001b[0m\n\u001b[0;32m--> 644\u001b[0;31m             _assert_all_finite(array,\n\u001b[0m\u001b[1;32m    645\u001b[0m                                allow_nan=force_all_finite == 'allow-nan')\n\u001b[1;32m    646\u001b[0m \u001b[0;34m\u001b[0m\u001b[0m\n",
      "\u001b[0;32m~/anaconda3/lib/python3.8/site-packages/sklearn/utils/validation.py\u001b[0m in \u001b[0;36m_assert_all_finite\u001b[0;34m(X, allow_nan, msg_dtype)\u001b[0m\n\u001b[1;32m     94\u001b[0m                 not allow_nan and not np.isfinite(X).all()):\n\u001b[1;32m     95\u001b[0m             \u001b[0mtype_err\u001b[0m \u001b[0;34m=\u001b[0m \u001b[0;34m'infinity'\u001b[0m \u001b[0;32mif\u001b[0m \u001b[0mallow_nan\u001b[0m \u001b[0;32melse\u001b[0m \u001b[0;34m'NaN, infinity'\u001b[0m\u001b[0;34m\u001b[0m\u001b[0;34m\u001b[0m\u001b[0m\n\u001b[0;32m---> 96\u001b[0;31m             raise ValueError(\n\u001b[0m\u001b[1;32m     97\u001b[0m                     \u001b[0mmsg_err\u001b[0m\u001b[0;34m.\u001b[0m\u001b[0mformat\u001b[0m\u001b[0;34m\u001b[0m\u001b[0;34m\u001b[0m\u001b[0m\n\u001b[1;32m     98\u001b[0m                     (type_err,\n",
      "\u001b[0;31mValueError\u001b[0m: Input contains NaN, infinity or a value too large for dtype('float32')."
     ]
    }
   ],
   "source": [
    "dtr = DecisionTreeRegressor(random_state=42)\n",
    "dtr.fit(X_train, y_train)\n",
    "y_pred = dtr.predict(X_test)\n",
    "\n",
    "r2_dtr = dtr.score(X_test, y_test)\n",
    "print('R2:', r2_dtr)\n",
    "rmse_dtr = mean_squared_error(y_test, y_pred)\n",
    "print(\"RMSE:\", rmse_dtr)     \n",
    "mae_dtr = mean_absolute_error(y_test, y_pred)\n",
    "print(\"MAE:\", mae_dtr)    "
   ]
  },
  {
   "cell_type": "markdown",
   "metadata": {},
   "source": [
    "<a id=\"3.1.1\"></a>\n",
    "<h3 style=\"background-color:orange;font-family:newtimeroman;font-size:150%;text-align:center;border-radius: 15px 50px;\">Random Forest</h3>"
   ]
  },
  {
   "cell_type": "code",
   "execution_count": null,
   "metadata": {},
   "outputs": [],
   "source": [
    "# rfr = RandomForestRegressor()\n",
    "\n",
    "# distributions = {\n",
    "#     \"n_estimators\": randint(low=10, high=300),\n",
    "#     \"criterion\": ['gini', 'entropy'],\n",
    "#     \"max_features\": [\"sqrt\", \"sqrt\", \"log2\"],\n",
    "#     \"random_state\": [42]\n",
    "# }\n",
    "\n",
    "# clf = RandomizedSearchCV(\n",
    "#     estimator = rfr, \n",
    "#     param_distributions = distributions, \n",
    "#     n_iter = 50, \n",
    "#     scoring = \"neg_mean_squared_error\", \n",
    "#     n_jobs = 4, \n",
    "#     cv = 10, \n",
    "#     random_state = 42\n",
    "# )\n",
    "\n",
    "# search_rfr = clf.fit(X_train, y_train) \n",
    "# result_rfr = search_rfr.cv_results_ \n",
    "# search_rfr.best_params_ \n",
    "\n",
    "# print(search_rfr.best_params_)\n",
    "\n",
    "# y_pred = clf.predict(X_test)\n",
    "# print('\\n clasification report:\\n', classification_report(y_test, y_pred, digits=3))"
   ]
  },
  {
   "cell_type": "code",
   "execution_count": null,
   "metadata": {
    "ExecuteTime": {
     "start_time": "2021-04-16T12:34:32.210Z"
    }
   },
   "outputs": [],
   "source": [
    "rfr = RandomForestRegressor(random_state=42, \n",
    "                            n_estimators=100,\n",
    "                            criterion='mse',\n",
    "                            n_jobs=-1)\n",
    "rfr.fit(X_train, y_train)\n",
    "y_pred = rfr.predict(X_test)\n",
    "\n",
    "r2_rfr = rfr.score(X_test, y_test)\n",
    "print('R2:', r2_rfr)\n",
    "rmse_rfr = mean_squared_error(y_test, y_pred)\n",
    "print(\"RMSE:\", rmse_rfr)     \n",
    "mae_rfr = mean_absolute_error(y_test, y_pred)\n",
    "print(\"MAE:\", mae_rf)    "
   ]
  },
  {
   "cell_type": "markdown",
   "metadata": {},
   "source": [
    "<a id=\"3.1.1\"></a>\n",
    "<h3 style=\"background-color:orange;font-family:newtimeroman;font-size:150%;text-align:center;border-radius: 15px 50px;\">XGBoost</h3>"
   ]
  },
  {
   "cell_type": "code",
   "execution_count": null,
   "metadata": {},
   "outputs": [],
   "source": [
    "xgbr = xgboost.XGBRegressor(random_state=42)\n",
    "xgbr.fit(X_train, y_train)\n",
    "y_pred = xgbr.predict(X_test)\n",
    "\n",
    "r2_xgbr = xgbr.score(X_test, y_test)\n",
    "print('R2:', r2_xgbr)\n",
    "rmse_xgbr = mean_squared_error(y_test, y_pred)\n",
    "print(\"RMSE:\", rmse_xgbr)     \n",
    "mae_xgbr = mean_absolute_error(y_test, y_pred)\n",
    "print(\"MAE:\", mae_xgbr)  "
   ]
  },
  {
   "cell_type": "code",
   "execution_count": null,
   "metadata": {},
   "outputs": [],
   "source": []
  },
  {
   "cell_type": "code",
   "execution_count": null,
   "metadata": {},
   "outputs": [],
   "source": []
  },
  {
   "cell_type": "code",
   "execution_count": null,
   "metadata": {},
   "outputs": [],
   "source": []
  },
  {
   "cell_type": "code",
   "execution_count": null,
   "metadata": {},
   "outputs": [],
   "source": []
  },
  {
   "cell_type": "code",
   "execution_count": null,
   "metadata": {},
   "outputs": [],
   "source": []
  },
  {
   "cell_type": "code",
   "execution_count": null,
   "metadata": {},
   "outputs": [],
   "source": []
  },
  {
   "cell_type": "code",
   "execution_count": null,
   "metadata": {},
   "outputs": [],
   "source": []
  },
  {
   "cell_type": "code",
   "execution_count": null,
   "metadata": {},
   "outputs": [],
   "source": []
  },
  {
   "cell_type": "code",
   "execution_count": null,
   "metadata": {},
   "outputs": [],
   "source": []
  },
  {
   "cell_type": "code",
   "execution_count": null,
   "metadata": {},
   "outputs": [],
   "source": []
  },
  {
   "cell_type": "code",
   "execution_count": null,
   "metadata": {},
   "outputs": [],
   "source": []
  },
  {
   "cell_type": "code",
   "execution_count": null,
   "metadata": {},
   "outputs": [],
   "source": []
  },
  {
   "cell_type": "code",
   "execution_count": null,
   "metadata": {},
   "outputs": [],
   "source": []
  },
  {
   "cell_type": "code",
   "execution_count": 3,
   "metadata": {
    "ExecuteTime": {
     "end_time": "2021-04-16T00:32:04.419471Z",
     "start_time": "2021-04-16T00:31:49.824685Z"
    }
   },
   "outputs": [],
   "source": [
    "from scipy import stats\n",
    "df_final_mod_1 = df_final[(np.abs(stats.zscore(df_final)) < 3).all(axis=1)]"
   ]
  },
  {
   "cell_type": "code",
   "execution_count": 4,
   "metadata": {
    "ExecuteTime": {
     "end_time": "2021-04-16T00:32:06.188227Z",
     "start_time": "2021-04-16T00:32:06.175971Z"
    }
   },
   "outputs": [
    {
     "data": {
      "text/plain": [
       "0.6170765586891578"
      ]
     },
     "execution_count": 4,
     "metadata": {},
     "output_type": "execute_result"
    }
   ],
   "source": [
    "df_final_mod_1.shape[0]/df_final.shape[0]"
   ]
  },
  {
   "cell_type": "code",
   "execution_count": 5,
   "metadata": {
    "ExecuteTime": {
     "end_time": "2021-04-16T00:32:33.888109Z",
     "start_time": "2021-04-16T00:32:09.648536Z"
    }
   },
   "outputs": [],
   "source": [
    "Q1 = df_final.quantile(0.25)\n",
    "Q3 = df_final.quantile(0.75)\n",
    "IQR = Q3 - Q1\n",
    "df_final_mod_2 = df_final[((df_final < (Q1 - 1.5 * IQR)) | (df_final > (Q3 + 1.5 * IQR))).any(axis=1)]"
   ]
  },
  {
   "cell_type": "code",
   "execution_count": 6,
   "metadata": {
    "ExecuteTime": {
     "end_time": "2021-04-16T00:32:35.685461Z",
     "start_time": "2021-04-16T00:32:35.679073Z"
    }
   },
   "outputs": [
    {
     "data": {
      "text/plain": [
       "0.0"
      ]
     },
     "execution_count": 6,
     "metadata": {},
     "output_type": "execute_result"
    }
   ],
   "source": [
    "df_final_mod_2.shape[0]/df_final.shape[0]"
   ]
  },
  {
   "cell_type": "code",
   "execution_count": 3,
   "metadata": {
    "ExecuteTime": {
     "end_time": "2021-04-16T11:29:36.604354Z",
     "start_time": "2021-04-16T11:29:35.566664Z"
    }
   },
   "outputs": [],
   "source": [
    "X = df_final.drop(columns='price_ca')\n",
    "y = df_final['price_ca']"
   ]
  },
  {
   "cell_type": "code",
   "execution_count": 4,
   "metadata": {
    "ExecuteTime": {
     "end_time": "2021-04-16T11:30:05.146982Z",
     "start_time": "2021-04-16T11:29:46.870534Z"
    }
   },
   "outputs": [],
   "source": [
    "sX = StandardScaler().fit_transform(X)"
   ]
  },
  {
   "cell_type": "code",
   "execution_count": null,
   "metadata": {
    "ExecuteTime": {
     "start_time": "2021-04-16T11:36:41.024Z"
    }
   },
   "outputs": [],
   "source": [
    "# X_train, X_test, y_train, y_test = train_test_split(X, y, test_size=0.3, \n",
    "#                                                     random_state=42)\n",
    "\n",
    "sX_train, sX_test, y_train, y_test = train_test_split(X_s, y, test_size=0.3, \n",
    "                                                    random_state=42)"
   ]
  },
  {
   "cell_type": "code",
   "execution_count": 11,
   "metadata": {
    "ExecuteTime": {
     "end_time": "2021-04-16T00:33:46.231844Z",
     "start_time": "2021-04-16T00:33:46.160303Z"
    }
   },
   "outputs": [
    {
     "data": {
      "text/plain": [
       "-5.522257380263795e-07"
      ]
     },
     "execution_count": 11,
     "metadata": {},
     "output_type": "execute_result"
    }
   ],
   "source": [
    "from sklearn.dummy import DummyRegressor\n",
    "\n",
    "dr = DummyRegressor()\n",
    "dr.fit(X_train, y_train)\n",
    "dr.score(X_test, y_test)"
   ]
  },
  {
   "cell_type": "code",
   "execution_count": 12,
   "metadata": {
    "ExecuteTime": {
     "end_time": "2021-04-16T00:58:27.987732Z",
     "start_time": "2021-04-16T00:33:50.036666Z"
    }
   },
   "outputs": [
    {
     "ename": "KeyboardInterrupt",
     "evalue": "",
     "output_type": "error",
     "traceback": [
      "\u001b[0;31m---------------------------------------------------------------------------\u001b[0m",
      "\u001b[0;31mKeyboardInterrupt\u001b[0m                         Traceback (most recent call last)",
      "\u001b[0;32m<ipython-input-12-84339b727293>\u001b[0m in \u001b[0;36m<module>\u001b[0;34m\u001b[0m\n\u001b[1;32m      1\u001b[0m \u001b[0mrf\u001b[0m \u001b[0;34m=\u001b[0m \u001b[0mRandomForestRegressor\u001b[0m\u001b[0;34m(\u001b[0m\u001b[0;34m)\u001b[0m\u001b[0;34m\u001b[0m\u001b[0;34m\u001b[0m\u001b[0m\n\u001b[0;32m----> 2\u001b[0;31m \u001b[0mrf\u001b[0m\u001b[0;34m.\u001b[0m\u001b[0mfit\u001b[0m\u001b[0;34m(\u001b[0m\u001b[0mX_train\u001b[0m\u001b[0;34m,\u001b[0m \u001b[0my_train\u001b[0m\u001b[0;34m)\u001b[0m\u001b[0;34m\u001b[0m\u001b[0;34m\u001b[0m\u001b[0m\n\u001b[0m\u001b[1;32m      3\u001b[0m \u001b[0mrf\u001b[0m\u001b[0;34m.\u001b[0m\u001b[0mscore\u001b[0m\u001b[0;34m(\u001b[0m\u001b[0mX_test\u001b[0m\u001b[0;34m,\u001b[0m \u001b[0my_test\u001b[0m\u001b[0;34m)\u001b[0m\u001b[0;34m\u001b[0m\u001b[0;34m\u001b[0m\u001b[0m\n",
      "\u001b[0;32m~/anaconda3/lib/python3.8/site-packages/sklearn/ensemble/_forest.py\u001b[0m in \u001b[0;36mfit\u001b[0;34m(self, X, y, sample_weight)\u001b[0m\n\u001b[1;32m    384\u001b[0m             \u001b[0;31m# parallel_backend contexts set at a higher level,\u001b[0m\u001b[0;34m\u001b[0m\u001b[0;34m\u001b[0m\u001b[0;34m\u001b[0m\u001b[0m\n\u001b[1;32m    385\u001b[0m             \u001b[0;31m# since correctness does not rely on using threads.\u001b[0m\u001b[0;34m\u001b[0m\u001b[0;34m\u001b[0m\u001b[0;34m\u001b[0m\u001b[0m\n\u001b[0;32m--> 386\u001b[0;31m             trees = Parallel(n_jobs=self.n_jobs, verbose=self.verbose,\n\u001b[0m\u001b[1;32m    387\u001b[0m                              \u001b[0;34m**\u001b[0m\u001b[0m_joblib_parallel_args\u001b[0m\u001b[0;34m(\u001b[0m\u001b[0mprefer\u001b[0m\u001b[0;34m=\u001b[0m\u001b[0;34m'threads'\u001b[0m\u001b[0;34m)\u001b[0m\u001b[0;34m)\u001b[0m\u001b[0;34m(\u001b[0m\u001b[0;34m\u001b[0m\u001b[0;34m\u001b[0m\u001b[0m\n\u001b[1;32m    388\u001b[0m                 delayed(_parallel_build_trees)(\n",
      "\u001b[0;32m~/anaconda3/lib/python3.8/site-packages/joblib/parallel.py\u001b[0m in \u001b[0;36m__call__\u001b[0;34m(self, iterable)\u001b[0m\n\u001b[1;32m   1049\u001b[0m                 \u001b[0mself\u001b[0m\u001b[0;34m.\u001b[0m\u001b[0m_iterating\u001b[0m \u001b[0;34m=\u001b[0m \u001b[0mself\u001b[0m\u001b[0;34m.\u001b[0m\u001b[0m_original_iterator\u001b[0m \u001b[0;32mis\u001b[0m \u001b[0;32mnot\u001b[0m \u001b[0;32mNone\u001b[0m\u001b[0;34m\u001b[0m\u001b[0;34m\u001b[0m\u001b[0m\n\u001b[1;32m   1050\u001b[0m \u001b[0;34m\u001b[0m\u001b[0m\n\u001b[0;32m-> 1051\u001b[0;31m             \u001b[0;32mwhile\u001b[0m \u001b[0mself\u001b[0m\u001b[0;34m.\u001b[0m\u001b[0mdispatch_one_batch\u001b[0m\u001b[0;34m(\u001b[0m\u001b[0miterator\u001b[0m\u001b[0;34m)\u001b[0m\u001b[0;34m:\u001b[0m\u001b[0;34m\u001b[0m\u001b[0;34m\u001b[0m\u001b[0m\n\u001b[0m\u001b[1;32m   1052\u001b[0m                 \u001b[0;32mpass\u001b[0m\u001b[0;34m\u001b[0m\u001b[0;34m\u001b[0m\u001b[0m\n\u001b[1;32m   1053\u001b[0m \u001b[0;34m\u001b[0m\u001b[0m\n",
      "\u001b[0;32m~/anaconda3/lib/python3.8/site-packages/joblib/parallel.py\u001b[0m in \u001b[0;36mdispatch_one_batch\u001b[0;34m(self, iterator)\u001b[0m\n\u001b[1;32m    864\u001b[0m                 \u001b[0;32mreturn\u001b[0m \u001b[0;32mFalse\u001b[0m\u001b[0;34m\u001b[0m\u001b[0;34m\u001b[0m\u001b[0m\n\u001b[1;32m    865\u001b[0m             \u001b[0;32melse\u001b[0m\u001b[0;34m:\u001b[0m\u001b[0;34m\u001b[0m\u001b[0;34m\u001b[0m\u001b[0m\n\u001b[0;32m--> 866\u001b[0;31m                 \u001b[0mself\u001b[0m\u001b[0;34m.\u001b[0m\u001b[0m_dispatch\u001b[0m\u001b[0;34m(\u001b[0m\u001b[0mtasks\u001b[0m\u001b[0;34m)\u001b[0m\u001b[0;34m\u001b[0m\u001b[0;34m\u001b[0m\u001b[0m\n\u001b[0m\u001b[1;32m    867\u001b[0m                 \u001b[0;32mreturn\u001b[0m \u001b[0;32mTrue\u001b[0m\u001b[0;34m\u001b[0m\u001b[0;34m\u001b[0m\u001b[0m\n\u001b[1;32m    868\u001b[0m \u001b[0;34m\u001b[0m\u001b[0m\n",
      "\u001b[0;32m~/anaconda3/lib/python3.8/site-packages/joblib/parallel.py\u001b[0m in \u001b[0;36m_dispatch\u001b[0;34m(self, batch)\u001b[0m\n\u001b[1;32m    782\u001b[0m         \u001b[0;32mwith\u001b[0m \u001b[0mself\u001b[0m\u001b[0;34m.\u001b[0m\u001b[0m_lock\u001b[0m\u001b[0;34m:\u001b[0m\u001b[0;34m\u001b[0m\u001b[0;34m\u001b[0m\u001b[0m\n\u001b[1;32m    783\u001b[0m             \u001b[0mjob_idx\u001b[0m \u001b[0;34m=\u001b[0m \u001b[0mlen\u001b[0m\u001b[0;34m(\u001b[0m\u001b[0mself\u001b[0m\u001b[0;34m.\u001b[0m\u001b[0m_jobs\u001b[0m\u001b[0;34m)\u001b[0m\u001b[0;34m\u001b[0m\u001b[0;34m\u001b[0m\u001b[0m\n\u001b[0;32m--> 784\u001b[0;31m             \u001b[0mjob\u001b[0m \u001b[0;34m=\u001b[0m \u001b[0mself\u001b[0m\u001b[0;34m.\u001b[0m\u001b[0m_backend\u001b[0m\u001b[0;34m.\u001b[0m\u001b[0mapply_async\u001b[0m\u001b[0;34m(\u001b[0m\u001b[0mbatch\u001b[0m\u001b[0;34m,\u001b[0m \u001b[0mcallback\u001b[0m\u001b[0;34m=\u001b[0m\u001b[0mcb\u001b[0m\u001b[0;34m)\u001b[0m\u001b[0;34m\u001b[0m\u001b[0;34m\u001b[0m\u001b[0m\n\u001b[0m\u001b[1;32m    785\u001b[0m             \u001b[0;31m# A job can complete so quickly than its callback is\u001b[0m\u001b[0;34m\u001b[0m\u001b[0;34m\u001b[0m\u001b[0;34m\u001b[0m\u001b[0m\n\u001b[1;32m    786\u001b[0m             \u001b[0;31m# called before we get here, causing self._jobs to\u001b[0m\u001b[0;34m\u001b[0m\u001b[0;34m\u001b[0m\u001b[0;34m\u001b[0m\u001b[0m\n",
      "\u001b[0;32m~/anaconda3/lib/python3.8/site-packages/joblib/_parallel_backends.py\u001b[0m in \u001b[0;36mapply_async\u001b[0;34m(self, func, callback)\u001b[0m\n\u001b[1;32m    206\u001b[0m     \u001b[0;32mdef\u001b[0m \u001b[0mapply_async\u001b[0m\u001b[0;34m(\u001b[0m\u001b[0mself\u001b[0m\u001b[0;34m,\u001b[0m \u001b[0mfunc\u001b[0m\u001b[0;34m,\u001b[0m \u001b[0mcallback\u001b[0m\u001b[0;34m=\u001b[0m\u001b[0;32mNone\u001b[0m\u001b[0;34m)\u001b[0m\u001b[0;34m:\u001b[0m\u001b[0;34m\u001b[0m\u001b[0;34m\u001b[0m\u001b[0m\n\u001b[1;32m    207\u001b[0m         \u001b[0;34m\"\"\"Schedule a func to be run\"\"\"\u001b[0m\u001b[0;34m\u001b[0m\u001b[0;34m\u001b[0m\u001b[0m\n\u001b[0;32m--> 208\u001b[0;31m         \u001b[0mresult\u001b[0m \u001b[0;34m=\u001b[0m \u001b[0mImmediateResult\u001b[0m\u001b[0;34m(\u001b[0m\u001b[0mfunc\u001b[0m\u001b[0;34m)\u001b[0m\u001b[0;34m\u001b[0m\u001b[0;34m\u001b[0m\u001b[0m\n\u001b[0m\u001b[1;32m    209\u001b[0m         \u001b[0;32mif\u001b[0m \u001b[0mcallback\u001b[0m\u001b[0;34m:\u001b[0m\u001b[0;34m\u001b[0m\u001b[0;34m\u001b[0m\u001b[0m\n\u001b[1;32m    210\u001b[0m             \u001b[0mcallback\u001b[0m\u001b[0;34m(\u001b[0m\u001b[0mresult\u001b[0m\u001b[0;34m)\u001b[0m\u001b[0;34m\u001b[0m\u001b[0;34m\u001b[0m\u001b[0m\n",
      "\u001b[0;32m~/anaconda3/lib/python3.8/site-packages/joblib/_parallel_backends.py\u001b[0m in \u001b[0;36m__init__\u001b[0;34m(self, batch)\u001b[0m\n\u001b[1;32m    570\u001b[0m         \u001b[0;31m# Don't delay the application, to avoid keeping the input\u001b[0m\u001b[0;34m\u001b[0m\u001b[0;34m\u001b[0m\u001b[0;34m\u001b[0m\u001b[0m\n\u001b[1;32m    571\u001b[0m         \u001b[0;31m# arguments in memory\u001b[0m\u001b[0;34m\u001b[0m\u001b[0;34m\u001b[0m\u001b[0;34m\u001b[0m\u001b[0m\n\u001b[0;32m--> 572\u001b[0;31m         \u001b[0mself\u001b[0m\u001b[0;34m.\u001b[0m\u001b[0mresults\u001b[0m \u001b[0;34m=\u001b[0m \u001b[0mbatch\u001b[0m\u001b[0;34m(\u001b[0m\u001b[0;34m)\u001b[0m\u001b[0;34m\u001b[0m\u001b[0;34m\u001b[0m\u001b[0m\n\u001b[0m\u001b[1;32m    573\u001b[0m \u001b[0;34m\u001b[0m\u001b[0m\n\u001b[1;32m    574\u001b[0m     \u001b[0;32mdef\u001b[0m \u001b[0mget\u001b[0m\u001b[0;34m(\u001b[0m\u001b[0mself\u001b[0m\u001b[0;34m)\u001b[0m\u001b[0;34m:\u001b[0m\u001b[0;34m\u001b[0m\u001b[0;34m\u001b[0m\u001b[0m\n",
      "\u001b[0;32m~/anaconda3/lib/python3.8/site-packages/joblib/parallel.py\u001b[0m in \u001b[0;36m__call__\u001b[0;34m(self)\u001b[0m\n\u001b[1;32m    260\u001b[0m         \u001b[0;31m# change the default number of processes to -1\u001b[0m\u001b[0;34m\u001b[0m\u001b[0;34m\u001b[0m\u001b[0;34m\u001b[0m\u001b[0m\n\u001b[1;32m    261\u001b[0m         \u001b[0;32mwith\u001b[0m \u001b[0mparallel_backend\u001b[0m\u001b[0;34m(\u001b[0m\u001b[0mself\u001b[0m\u001b[0;34m.\u001b[0m\u001b[0m_backend\u001b[0m\u001b[0;34m,\u001b[0m \u001b[0mn_jobs\u001b[0m\u001b[0;34m=\u001b[0m\u001b[0mself\u001b[0m\u001b[0;34m.\u001b[0m\u001b[0m_n_jobs\u001b[0m\u001b[0;34m)\u001b[0m\u001b[0;34m:\u001b[0m\u001b[0;34m\u001b[0m\u001b[0;34m\u001b[0m\u001b[0m\n\u001b[0;32m--> 262\u001b[0;31m             return [func(*args, **kwargs)\n\u001b[0m\u001b[1;32m    263\u001b[0m                     for func, args, kwargs in self.items]\n\u001b[1;32m    264\u001b[0m \u001b[0;34m\u001b[0m\u001b[0m\n",
      "\u001b[0;32m~/anaconda3/lib/python3.8/site-packages/joblib/parallel.py\u001b[0m in \u001b[0;36m<listcomp>\u001b[0;34m(.0)\u001b[0m\n\u001b[1;32m    260\u001b[0m         \u001b[0;31m# change the default number of processes to -1\u001b[0m\u001b[0;34m\u001b[0m\u001b[0;34m\u001b[0m\u001b[0;34m\u001b[0m\u001b[0m\n\u001b[1;32m    261\u001b[0m         \u001b[0;32mwith\u001b[0m \u001b[0mparallel_backend\u001b[0m\u001b[0;34m(\u001b[0m\u001b[0mself\u001b[0m\u001b[0;34m.\u001b[0m\u001b[0m_backend\u001b[0m\u001b[0;34m,\u001b[0m \u001b[0mn_jobs\u001b[0m\u001b[0;34m=\u001b[0m\u001b[0mself\u001b[0m\u001b[0;34m.\u001b[0m\u001b[0m_n_jobs\u001b[0m\u001b[0;34m)\u001b[0m\u001b[0;34m:\u001b[0m\u001b[0;34m\u001b[0m\u001b[0;34m\u001b[0m\u001b[0m\n\u001b[0;32m--> 262\u001b[0;31m             return [func(*args, **kwargs)\n\u001b[0m\u001b[1;32m    263\u001b[0m                     for func, args, kwargs in self.items]\n\u001b[1;32m    264\u001b[0m \u001b[0;34m\u001b[0m\u001b[0m\n",
      "\u001b[0;32m~/anaconda3/lib/python3.8/site-packages/sklearn/ensemble/_forest.py\u001b[0m in \u001b[0;36m_parallel_build_trees\u001b[0;34m(tree, forest, X, y, sample_weight, tree_idx, n_trees, verbose, class_weight, n_samples_bootstrap)\u001b[0m\n\u001b[1;32m    166\u001b[0m                                                         indices=indices)\n\u001b[1;32m    167\u001b[0m \u001b[0;34m\u001b[0m\u001b[0m\n\u001b[0;32m--> 168\u001b[0;31m         \u001b[0mtree\u001b[0m\u001b[0;34m.\u001b[0m\u001b[0mfit\u001b[0m\u001b[0;34m(\u001b[0m\u001b[0mX\u001b[0m\u001b[0;34m,\u001b[0m \u001b[0my\u001b[0m\u001b[0;34m,\u001b[0m \u001b[0msample_weight\u001b[0m\u001b[0;34m=\u001b[0m\u001b[0mcurr_sample_weight\u001b[0m\u001b[0;34m,\u001b[0m \u001b[0mcheck_input\u001b[0m\u001b[0;34m=\u001b[0m\u001b[0;32mFalse\u001b[0m\u001b[0;34m)\u001b[0m\u001b[0;34m\u001b[0m\u001b[0;34m\u001b[0m\u001b[0m\n\u001b[0m\u001b[1;32m    169\u001b[0m     \u001b[0;32melse\u001b[0m\u001b[0;34m:\u001b[0m\u001b[0;34m\u001b[0m\u001b[0;34m\u001b[0m\u001b[0m\n\u001b[1;32m    170\u001b[0m         \u001b[0mtree\u001b[0m\u001b[0;34m.\u001b[0m\u001b[0mfit\u001b[0m\u001b[0;34m(\u001b[0m\u001b[0mX\u001b[0m\u001b[0;34m,\u001b[0m \u001b[0my\u001b[0m\u001b[0;34m,\u001b[0m \u001b[0msample_weight\u001b[0m\u001b[0;34m=\u001b[0m\u001b[0msample_weight\u001b[0m\u001b[0;34m,\u001b[0m \u001b[0mcheck_input\u001b[0m\u001b[0;34m=\u001b[0m\u001b[0;32mFalse\u001b[0m\u001b[0;34m)\u001b[0m\u001b[0;34m\u001b[0m\u001b[0;34m\u001b[0m\u001b[0m\n",
      "\u001b[0;32m~/anaconda3/lib/python3.8/site-packages/sklearn/tree/_classes.py\u001b[0m in \u001b[0;36mfit\u001b[0;34m(self, X, y, sample_weight, check_input, X_idx_sorted)\u001b[0m\n\u001b[1;32m   1240\u001b[0m         \"\"\"\n\u001b[1;32m   1241\u001b[0m \u001b[0;34m\u001b[0m\u001b[0m\n\u001b[0;32m-> 1242\u001b[0;31m         super().fit(\n\u001b[0m\u001b[1;32m   1243\u001b[0m             \u001b[0mX\u001b[0m\u001b[0;34m,\u001b[0m \u001b[0my\u001b[0m\u001b[0;34m,\u001b[0m\u001b[0;34m\u001b[0m\u001b[0;34m\u001b[0m\u001b[0m\n\u001b[1;32m   1244\u001b[0m             \u001b[0msample_weight\u001b[0m\u001b[0;34m=\u001b[0m\u001b[0msample_weight\u001b[0m\u001b[0;34m,\u001b[0m\u001b[0;34m\u001b[0m\u001b[0;34m\u001b[0m\u001b[0m\n",
      "\u001b[0;32m~/anaconda3/lib/python3.8/site-packages/sklearn/tree/_classes.py\u001b[0m in \u001b[0;36mfit\u001b[0;34m(self, X, y, sample_weight, check_input, X_idx_sorted)\u001b[0m\n\u001b[1;32m    373\u001b[0m                                            min_impurity_split)\n\u001b[1;32m    374\u001b[0m \u001b[0;34m\u001b[0m\u001b[0m\n\u001b[0;32m--> 375\u001b[0;31m         \u001b[0mbuilder\u001b[0m\u001b[0;34m.\u001b[0m\u001b[0mbuild\u001b[0m\u001b[0;34m(\u001b[0m\u001b[0mself\u001b[0m\u001b[0;34m.\u001b[0m\u001b[0mtree_\u001b[0m\u001b[0;34m,\u001b[0m \u001b[0mX\u001b[0m\u001b[0;34m,\u001b[0m \u001b[0my\u001b[0m\u001b[0;34m,\u001b[0m \u001b[0msample_weight\u001b[0m\u001b[0;34m,\u001b[0m \u001b[0mX_idx_sorted\u001b[0m\u001b[0;34m)\u001b[0m\u001b[0;34m\u001b[0m\u001b[0;34m\u001b[0m\u001b[0m\n\u001b[0m\u001b[1;32m    376\u001b[0m \u001b[0;34m\u001b[0m\u001b[0m\n\u001b[1;32m    377\u001b[0m         \u001b[0;32mif\u001b[0m \u001b[0mself\u001b[0m\u001b[0;34m.\u001b[0m\u001b[0mn_outputs_\u001b[0m \u001b[0;34m==\u001b[0m \u001b[0;36m1\u001b[0m \u001b[0;32mand\u001b[0m \u001b[0mis_classifier\u001b[0m\u001b[0;34m(\u001b[0m\u001b[0mself\u001b[0m\u001b[0;34m)\u001b[0m\u001b[0;34m:\u001b[0m\u001b[0;34m\u001b[0m\u001b[0;34m\u001b[0m\u001b[0m\n",
      "\u001b[0;31mKeyboardInterrupt\u001b[0m: "
     ]
    }
   ],
   "source": [
    "rf = RandomForestRegressor()\n",
    "rf.fit(X_train, y_train)\n",
    "rf.score(X_test, y_test)"
   ]
  },
  {
   "cell_type": "code",
   "execution_count": null,
   "metadata": {},
   "outputs": [],
   "source": []
  }
 ],
 "metadata": {
  "kernelspec": {
   "display_name": "Python 3",
   "language": "python",
   "name": "python3"
  },
  "language_info": {
   "codemirror_mode": {
    "name": "ipython",
    "version": 3
   },
   "file_extension": ".py",
   "mimetype": "text/x-python",
   "name": "python",
   "nbconvert_exporter": "python",
   "pygments_lexer": "ipython3",
   "version": "3.8.5"
  },
  "nbTranslate": {
   "displayLangs": [
    "*"
   ],
   "hotkey": "alt-t",
   "langInMainMenu": true,
   "sourceLang": "en",
   "targetLang": "fr",
   "useGoogleTranslate": true
  },
  "toc": {
   "base_numbering": 1,
   "nav_menu": {},
   "number_sections": true,
   "sideBar": true,
   "skip_h1_title": false,
   "title_cell": "Table of Contents",
   "title_sidebar": "Contents",
   "toc_cell": false,
   "toc_position": {
    "height": "calc(100% - 180px)",
    "left": "10px",
    "top": "150px",
    "width": "240.067px"
   },
   "toc_section_display": true,
   "toc_window_display": true
  }
 },
 "nbformat": 4,
 "nbformat_minor": 4
}
